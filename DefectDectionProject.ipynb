{
 "cells": [
  {
   "cell_type": "markdown",
   "metadata": {},
   "source": [
    "# Defect Detection on Metallic Surface Images"
   ]
  },
  {
   "cell_type": "markdown",
   "metadata": {},
   "source": [
    "Alexandra AMIENS  Julieva COHEN-SORS   Louise DIETRICH  Claire ZOUAOUI"
   ]
  },
  {
   "cell_type": "markdown",
   "metadata": {
    "id": "XVomFKSVddSj"
   },
   "source": [
    "## Context"
   ]
  },
  {
   "cell_type": "markdown",
   "metadata": {
    "id": "si3xCvxGddSp"
   },
   "source": [
    "This notebook presents a use case of applying neural networks to classify 6 types of defect on metallic surface images.\n",
    "\n",
    "We are using a small dataset (90 images) to build, train and validate neural network models. Then we will apply our models to the full dataset (1800 images)."
   ]
  },
  {
   "cell_type": "markdown",
   "metadata": {
    "id": "MrU5CkpsddSv"
   },
   "source": [
    "## Possible Business Use Cases"
   ]
  },
  {
   "cell_type": "markdown",
   "metadata": {
    "id": "mOQMJhgoddS7"
   },
   "source": [
    "Quality control is a compulsory step of a manufactoring process. Producing goods that fall below quality standards of a production line is costly in time, money and resources.\n",
    "\n",
    "Artificial Intelligence has gained ground in all steps of manufacturing workflows from procurement forecast, to shipment tracking, or predicting downtime.\n",
    "\n",
    "Manufacturing companies are leveraging AI in their production lines to improve the overall production efficiency. \n",
    "\n",
    "This notebook presents a possible application of quality control with neural network models. \n",
    "The expected value gains offered by AI-enhanced quality control are: \n",
    "\n",
    "* Optimizing production capacity;\n",
    "* Decreasing production time;\n",
    "* Lowering the costs of the whole manufacturing process;\n",
    "* Improving the safety of goods."
   ]
  },
  {
   "cell_type": "markdown",
   "metadata": {
    "id": "xkVP9RH_ddTA"
   },
   "source": [
    "## Detection Process"
   ]
  },
  {
   "cell_type": "markdown",
   "metadata": {
    "id": "60yaBfuwddTL"
   },
   "source": [
    "We are going to build convolutional neural networks to detect defects on metallic images. Our methodology will cover the following steps: \n",
    "\n",
    "1. Data preparation\n",
    "2. Data exploration\n",
    "    * Description of the dataset\n",
    "    * Data Visualisation\n",
    "3. Model building on the reduced dataset: convolutional neural networks on pretrained models\n",
    "    1. Model 1: resnet18\n",
    "        * Initialize the model parameters\n",
    "        * Loading data: data augmentation\n",
    "        * Build the model structure with training and validation steps\n",
    "            * Transfer learning: \n",
    "                * Feature Extraction\n",
    "                * Optimizer and learning rate scheduler    \n",
    "        * Run and validate the model\n",
    "    2. Model 2: resnet50    \n",
    "    3. Model 3: vgg11_bn \n",
    "    4. Ensemble methods: \n",
    "        * Majority vote of our 3 pretrained models\n",
    "        * Combining 2 best models into an Ensembling Classifier\n",
    "            * Trial 1: resnet18 and vgg11_bn\n",
    "            * Trial 2: resnet50 and vgg11_bn\n",
    "4. Deploy models on the whole dataset\n",
    "    1. Pretrained CNN models: \n",
    "        * vgg11_bn\n",
    "        * Rnsemble classifier combining 'vgg11_rb' and 'resnet50'\n",
    "    3. CNN Built from Scratch\n",
    "5. Visualize the predictions\n",
    "\n",
    "The best found accuracy on the whole dataset was achieved by the ensemble classifier combining 'vgg11_rb' and 'resnet50' at <b>98.9%</b>. As a comparison, our CNN built from scratch performed at 96.3% accuracy."
   ]
  },
  {
   "cell_type": "markdown",
   "metadata": {
    "id": "uBIrz7YgddTO"
   },
   "source": [
    "### 1. Data Preparation"
   ]
  },
  {
   "cell_type": "code",
   "execution_count": 1,
   "metadata": {
    "id": "f9mIXgqvddST"
   },
   "outputs": [],
   "source": [
    "import pandas as pd\n",
    "import numpy as np\n",
    "import seaborn as sns\n",
    "from sklearn.model_selection import train_test_split\n",
    "import torch\n",
    "import os\n",
    "from torchvision import datasets, transforms, models\n",
    "from skimage import io, transform\n",
    "import matplotlib.pyplot as plt\n",
    "from __future__ import print_function\n",
    "from __future__ import division\n",
    "import torch.nn as nn\n",
    "import torch.nn.functional as F\n",
    "import torch.optim as optim\n",
    "from torch.optim import lr_scheduler as lr_scheduler\n",
    "import torchvision\n",
    "import time\n",
    "import copy"
   ]
  },
  {
   "cell_type": "markdown",
   "metadata": {
    "id": "XvP1hSReUdoC"
   },
   "source": [
    "<span style=\"color:#008B8B\"> <b>Please note</b> that this notebook was conceived in Google Colab to benefit from computations on GPU. Some code lines may not work when running the script in Jupyter/Anaconda.</span>"
   ]
  },
  {
   "cell_type": "code",
   "execution_count": 2,
   "metadata": {
    "colab": {
     "base_uri": "https://localhost:8080/"
    },
    "id": "nWLNlGARCdNG",
    "outputId": "d62996df-95ed-4c2d-de9d-32896f04feb2"
   },
   "outputs": [
    {
     "name": "stdout",
     "output_type": "stream",
     "text": [
      "Mounted at /content/drive\n"
     ]
    }
   ],
   "source": [
    "# Access to Google Drive File\n",
    "from google.colab import drive\n",
    "drive.mount('/content/drive')"
   ]
  },
  {
   "cell_type": "markdown",
   "metadata": {
    "id": "o9hTB-GCddTR"
   },
   "source": [
    "#### 1.1. Transformations to apply to each image: resize and transformation to tensor"
   ]
  },
  {
   "cell_type": "markdown",
   "metadata": {
    "id": "wfJW1_c-ddTV"
   },
   "source": [
    "We are applying basic transformations to discover the dataset."
   ]
  },
  {
   "cell_type": "code",
   "execution_count": 3,
   "metadata": {
    "id": "3vsjHOoHddTY"
   },
   "outputs": [],
   "source": [
    "train_trainsforms = transforms.Compose([transforms.Resize((200,200)),\n",
    "                                            transforms.ToTensor(),\n",
    "                                            transforms.Normalize((0.5,), (0.5,)),])\n",
    "    \n",
    "test_trainsforms = transforms.Compose([transforms.Resize((200,200)),\n",
    "                                           transforms.ToTensor(),\n",
    "                                           transforms.Normalize((0.5,), (0.5,)),])"
   ]
  },
  {
   "cell_type": "markdown",
   "metadata": {
    "id": "5BmlResLddTe"
   },
   "source": [
    "#### 1.2. Charge and load train and test datasets"
   ]
  },
  {
   "cell_type": "code",
   "execution_count": 4,
   "metadata": {
    "id": "N8pKgCU1jzKF"
   },
   "outputs": [],
   "source": [
    "data_train_path='/content/drive/MyDrive/Data_train'\n",
    "data_test_path='/content/drive/MyDrive/Data_test'\n",
    "database_path = '/content/drive/MyDrive/Database'"
   ]
  },
  {
   "cell_type": "code",
   "execution_count": 5,
   "metadata": {
    "id": "Ku7dVYxgddTg"
   },
   "outputs": [],
   "source": [
    "train_data = datasets.ImageFolder(data_train_path,transform=train_trainsforms)\n",
    "test_data = datasets.ImageFolder(data_test_path,transform=test_trainsforms)"
   ]
  },
  {
   "cell_type": "code",
   "execution_count": 6,
   "metadata": {
    "id": "o24lao0cddTi"
   },
   "outputs": [],
   "source": [
    "#the loader loads each time 64 images for one training iteration\n",
    "train_loader =  torch.utils.data.DataLoader(train_data,batch_size=64,shuffle=True)\n",
    "test_loader =  torch.utils.data.DataLoader(test_data,batch_size=64,shuffle=True)"
   ]
  },
  {
   "cell_type": "markdown",
   "metadata": {
    "id": "Ade0KYVMddTk"
   },
   "source": [
    "### 2. Data Exploration"
   ]
  },
  {
   "cell_type": "markdown",
   "metadata": {
    "id": "yEWNKnebddTm"
   },
   "source": [
    "#### 2.1. Train And Test Datasets Size"
   ]
  },
  {
   "cell_type": "code",
   "execution_count": 7,
   "metadata": {
    "colab": {
     "base_uri": "https://localhost:8080/"
    },
    "id": "LZlQeCJbddTo",
    "outputId": "aba305f8-2b6b-4983-b692-8fbe87a47989"
   },
   "outputs": [
    {
     "name": "stdout",
     "output_type": "stream",
     "text": [
      "The number of items in training set is  60\n"
     ]
    }
   ],
   "source": [
    "#Number of items in training set\n",
    "num_train = len(train_data)\n",
    "indices = list(range(num_train))\n",
    "print('The number of items in training set is ', num_train)"
   ]
  },
  {
   "cell_type": "code",
   "execution_count": 8,
   "metadata": {
    "colab": {
     "base_uri": "https://localhost:8080/"
    },
    "id": "w1w3gGzcddTr",
    "outputId": "a810655f-7413-4d47-c6f5-db5d6de57a44"
   },
   "outputs": [
    {
     "name": "stdout",
     "output_type": "stream",
     "text": [
      "The number of items in testing set is  30\n"
     ]
    }
   ],
   "source": [
    "#Number of items in test set\n",
    "num_test = len(test_data)                               \n",
    "indices = list(range(num_test))\n",
    "print('The number of items in testing set is ', num_test)"
   ]
  },
  {
   "cell_type": "markdown",
   "metadata": {
    "id": "O1YIlJV1ddTu"
   },
   "source": [
    "#### 2.1. Mean And Standard Deviation"
   ]
  },
  {
   "cell_type": "markdown",
   "metadata": {
    "id": "acwyPh_uddTw"
   },
   "source": [
    "We are computing the mean and standard deviation of each set. This will help us dataset when we will applying data augmentation steps prior to model building but we'll discuss this further."
   ]
  },
  {
   "cell_type": "code",
   "execution_count": 9,
   "metadata": {
    "colab": {
     "base_uri": "https://localhost:8080/"
    },
    "id": "zitcJoZgddTy",
    "outputId": "bd96f770-351f-4d84-dcf9-dd9aba891bb9"
   },
   "outputs": [
    {
     "name": "stdout",
     "output_type": "stream",
     "text": [
      "The mean of the training set is tensor([0.0326, 0.0326, 0.0326])\n",
      "The standard deviation of the training set is tensor([0.0326, 0.0326, 0.0326])\n"
     ]
    }
   ],
   "source": [
    "# Training set: mean and standard deviation\n",
    "train_tensor=torch.cat([x for (x,_)in train_loader])\n",
    "means_train=train_tensor.mean((0,2,3))\n",
    "std_train =train_tensor.mean((0,2,3))\n",
    "print('The mean of the training set is',means_train)\n",
    "print('The standard deviation of the training set is',std_train)"
   ]
  },
  {
   "cell_type": "code",
   "execution_count": 10,
   "metadata": {
    "colab": {
     "base_uri": "https://localhost:8080/"
    },
    "id": "el2dVGRNddT1",
    "outputId": "f7aa21b1-99c2-41e4-9c07-0de68f095f91"
   },
   "outputs": [
    {
     "name": "stdout",
     "output_type": "stream",
     "text": [
      "The mean of the training set is tensor([0.1555, 0.1555, 0.1555])\n",
      "The standard deviation of the training set is tensor([0.1555, 0.1555, 0.1555])\n"
     ]
    }
   ],
   "source": [
    "# Training set: mean and standard deviation\n",
    "test_tensor=torch.cat([x for (x,_)in test_loader])\n",
    "means_test=test_tensor.mean((0,2,3))\n",
    "std_test =test_tensor.mean((0,2,3))\n",
    "print('The mean of the training set is',means_test)\n",
    "print('The standard deviation of the training set is',std_test)"
   ]
  },
  {
   "cell_type": "markdown",
   "metadata": {
    "id": "O3paEbCxddT6"
   },
   "source": [
    "#### 2.2. Types Of Defects On Metal Images"
   ]
  },
  {
   "cell_type": "code",
   "execution_count": 11,
   "metadata": {
    "colab": {
     "base_uri": "https://localhost:8080/"
    },
    "id": "jHJmGXKpddT8",
    "outputId": "2a4e817e-50e1-4cbe-ec25-2c23ab9f552e",
    "scrolled": true
   },
   "outputs": [
    {
     "data": {
      "text/plain": [
       "{'Crazing': 0,\n",
       " 'Inclusions': 1,\n",
       " 'Patches': 2,\n",
       " 'PittedSurface': 3,\n",
       " 'RolledInScale': 4,\n",
       " 'Scratches': 5}"
      ]
     },
     "execution_count": 11,
     "metadata": {
      "tags": []
     },
     "output_type": "execute_result"
    }
   ],
   "source": [
    "train_data.class_to_idx"
   ]
  },
  {
   "cell_type": "markdown",
   "metadata": {
    "id": "n_okiPEbddT_"
   },
   "source": [
    "#### 2.3. Explore Image Data"
   ]
  },
  {
   "cell_type": "code",
   "execution_count": 12,
   "metadata": {
    "colab": {
     "base_uri": "https://localhost:8080/"
    },
    "id": "Xhz2Z9quddUC",
    "outputId": "aa29dabe-2721-451f-cef9-419e7cbcfc9b"
   },
   "outputs": [
    {
     "name": "stdout",
     "output_type": "stream",
     "text": [
      "torch.Size([60, 200, 200])\n",
      "torch.Size([60])\n"
     ]
    }
   ],
   "source": [
    "dataiter = iter(train_loader)\n",
    "images, labels = dataiter.next() # Split Between Images Tensors And The Output Labels\n",
    "images = images[:,0,:,:]\n",
    "print(images.shape)\n",
    "print(labels.shape)"
   ]
  },
  {
   "cell_type": "markdown",
   "metadata": {
    "id": "e2Rz2Pg0ddUE"
   },
   "source": [
    "The first line prints the size of the tensor of images: there are 60 images in the train dataset.\n",
    "Each image has 200 x 200 pixels\n",
    "As we have gray-scale images, we have 1 cannal of colors as opposed to 3 for RGB images."
   ]
  },
  {
   "cell_type": "code",
   "execution_count": 13,
   "metadata": {
    "colab": {
     "base_uri": "https://localhost:8080/"
    },
    "id": "ETQ9iiJoddUH",
    "outputId": "98292f4d-850f-4d57-d67e-a18527bbfb34"
   },
   "outputs": [
    {
     "data": {
      "text/plain": [
       "(200, 200)"
      ]
     },
     "execution_count": 13,
     "metadata": {
      "tags": []
     },
     "output_type": "execute_result"
    }
   ],
   "source": [
    "#depth, width, height\n",
    "images[1].numpy().shape"
   ]
  },
  {
   "cell_type": "markdown",
   "metadata": {
    "id": "tgbdAYKNddUL"
   },
   "source": [
    "The images are sized to 200 x 200 pixels."
   ]
  },
  {
   "cell_type": "code",
   "execution_count": 14,
   "metadata": {
    "colab": {
     "base_uri": "https://localhost:8080/"
    },
    "id": "OWYxkks_ddUM",
    "outputId": "3e1bfa72-7661-4ebd-d7fe-ec809ffb8a45"
   },
   "outputs": [
    {
     "name": "stdout",
     "output_type": "stream",
     "text": [
      "tensor([5, 3, 3, 2, 5, 1, 4, 0, 3, 0, 2, 4, 4, 0, 5, 0, 1, 3, 4, 5, 5, 0, 4, 4,\n",
      "        1, 5, 2, 4, 0, 2, 0, 3, 2, 2, 2, 2, 5, 5, 1, 1, 1, 2, 0, 4, 0, 2, 3, 5,\n",
      "        1, 3, 1, 0, 3, 1, 3, 3, 5, 1, 4, 4])\n"
     ]
    }
   ],
   "source": [
    "# We have 6 classes corresponding to 6 types of defects. The loader codes these classes from 0 to 5.\n",
    "print(labels)"
   ]
  },
  {
   "cell_type": "markdown",
   "metadata": {
    "id": "N5G1iHh0ddUO"
   },
   "source": [
    "#### 2.4. Visualize Image Data"
   ]
  },
  {
   "cell_type": "code",
   "execution_count": 15,
   "metadata": {
    "colab": {
     "base_uri": "https://localhost:8080/",
     "height": 269
    },
    "id": "WsSGtnPzddUP",
    "outputId": "f83cf7aa-2a49-47aa-dfd0-94af07163e34"
   },
   "outputs": [
    {
     "data": {
      "image/png": "[encoded data removed]",
      "text/plain": [
       "<Figure size 432x288 with 1 Axes>"
      ]
     },
     "metadata": {
      "needs_background": "light",
      "tags": []
     },
     "output_type": "display_data"
    }
   ],
   "source": [
    "#print the first image by using the function imshow of matplotlib\n",
    "plt.imshow(images[0], cmap='gray_r');"
   ]
  },
  {
   "cell_type": "code",
   "execution_count": 16,
   "metadata": {
    "colab": {
     "base_uri": "https://localhost:8080/",
     "height": 203
    },
    "id": "Um2a4H8fddUR",
    "outputId": "322d34eb-541c-47f9-f01c-c06698de47d6"
   },
   "outputs": [
    {
     "data": {
      "image/png": "[encoded data removed]",
      "text/plain": [
       "<Figure size 432x288 with 20 Axes>"
      ]
     },
     "metadata": {
      "needs_background": "light",
      "tags": []
     },
     "output_type": "display_data"
    }
   ],
   "source": [
    "#plot 20 images\n",
    "figure = plt.figure()\n",
    "num_of_images = 20\n",
    "for index in range(1, num_of_images + 1):\n",
    "    plt.subplot(5, 5, index)\n",
    "    plt.axis('off')\n",
    "    plt.imshow(images[index].numpy().squeeze(), cmap='gray_r')"
   ]
  },
  {
   "cell_type": "markdown",
   "metadata": {
    "id": "0fyhEYQxddUT"
   },
   "source": [
    "#### 2.5. Visualize Defect Distribution On The Datasets\n",
    "Let’s make sure the distribution of defects is equally split in the 6 classes in the Train and Test sets"
   ]
  },
  {
   "cell_type": "code",
   "execution_count": 17,
   "metadata": {
    "colab": {
     "base_uri": "https://localhost:8080/"
    },
    "id": "C4jzXyL5ddUX",
    "outputId": "2261e918-7d72-48a3-f7f2-34b37c804288"
   },
   "outputs": [
    {
     "data": {
      "text/plain": [
       "{0: 'Crazing',\n",
       " 1: 'Inclusions',\n",
       " 2: 'Patches',\n",
       " 3: 'PittedSurface',\n",
       " 4: 'RolledInScale',\n",
       " 5: 'Scratches'}"
      ]
     },
     "execution_count": 17,
     "metadata": {
      "tags": []
     },
     "output_type": "execute_result"
    }
   ],
   "source": [
    "# Create Dictionary To Map An Index To A Defect\n",
    "id_to_class = {v: k for k, v in train_data.class_to_idx.items()}\n",
    "id_to_class"
   ]
  },
  {
   "cell_type": "code",
   "execution_count": 18,
   "metadata": {
    "id": "pmXVb4cOddUa"
   },
   "outputs": [],
   "source": [
    "# Create Dictionary To Count Classes In Train and Test Sets\n",
    "def get_class_distribution(dataset):\n",
    "    # Dictionary To Initialize Count Of Classes To 0\n",
    "    # Loop over the dataset and increment the counter by 1 for every class label\n",
    "    count_dict = {k:0 for k,v in dataset.class_to_idx.items()}    \n",
    "    for _, label_id in dataset:\n",
    "        label = id_to_class[label_id]\n",
    "        count_dict[label] += 1\n",
    "    return count_dict"
   ]
  },
  {
   "cell_type": "code",
   "execution_count": 19,
   "metadata": {
    "id": "noRR_nF_ddUd"
   },
   "outputs": [],
   "source": [
    "# Create A Plot Function\n",
    "# **kwargs is used to construct subplots which require passing the ax argument in seaborn\n",
    "def plot_from_dict(dictionary, plot_title, **kwargs):\n",
    "    return sns.barplot(data = pd.DataFrame.from_dict([dictionary]).melt(),\n",
    "                       x = \"variable\", y=\"value\", hue=\"variable\", **kwargs).set_title(plot_title),plt.figure(figsize=(15,8))"
   ]
  },
  {
   "cell_type": "code",
   "execution_count": 20,
   "metadata": {
    "colab": {
     "base_uri": "https://localhost:8080/",
     "height": 332
    },
    "id": "ZdmSnMoZddUd",
    "outputId": "b0c13452-bb62-4f22-b12d-bb9104c27b5a"
   },
   "outputs": [
    {
     "data": {
      "text/plain": [
       "(Text(0.5, 1.0, 'Train Data'), <Figure size 1080x576 with 0 Axes>)"
      ]
     },
     "execution_count": 20,
     "metadata": {
      "tags": []
     },
     "output_type": "execute_result"
    },
    {
     "data": {
      "image/png": "[encoded data removed]",
      "text/plain": [
       "<Figure size 432x288 with 1 Axes>"
      ]
     },
     "metadata": {
      "needs_background": "light",
      "tags": []
     },
     "output_type": "display_data"
    },
    {
     "data": {
      "text/plain": [
       "<Figure size 1080x576 with 0 Axes>"
      ]
     },
     "metadata": {
      "tags": []
     },
     "output_type": "display_data"
    }
   ],
   "source": [
    "# Plot Defect Distribution For Train Data\n",
    "plot_from_dict(get_class_distribution(train_data), \"Train Data\")"
   ]
  },
  {
   "cell_type": "code",
   "execution_count": 21,
   "metadata": {
    "colab": {
     "base_uri": "https://localhost:8080/",
     "height": 332
    },
    "id": "Z4lmTnu5ddUg",
    "outputId": "73b560a3-4c41-4eec-a8a1-8da145dae2af"
   },
   "outputs": [
    {
     "data": {
      "text/plain": [
       "(Text(0.5, 1.0, 'Test Data'), <Figure size 1080x576 with 0 Axes>)"
      ]
     },
     "execution_count": 21,
     "metadata": {
      "tags": []
     },
     "output_type": "execute_result"
    },
    {
     "data": {
      "image/png": "[encoded data removed]",
      "text/plain": [
       "<Figure size 432x288 with 1 Axes>"
      ]
     },
     "metadata": {
      "needs_background": "light",
      "tags": []
     },
     "output_type": "display_data"
    },
    {
     "data": {
      "text/plain": [
       "<Figure size 1080x576 with 0 Axes>"
      ]
     },
     "metadata": {
      "tags": []
     },
     "output_type": "display_data"
    }
   ],
   "source": [
    "# Plot Defect Distribution For Test Data\n",
    "plot_from_dict(get_class_distribution(test_data), \"Test Data\")"
   ]
  },
  {
   "cell_type": "markdown",
   "metadata": {
    "id": "K06rl7HuddUi"
   },
   "source": [
    "Each defect is evenly represented in the Test Set and the Train sets."
   ]
  },
  {
   "cell_type": "markdown",
   "metadata": {
    "id": "GIxEw_UVddUj"
   },
   "source": [
    "# 3. Model building: Convolutional Neural Networks"
   ]
  },
  {
   "cell_type": "markdown",
   "metadata": {
    "id": "i50tyt-7ddUk"
   },
   "source": [
    "Why Convolutional Neural Networks?\n",
    "\n",
    "We have seen that our images have 200 x 200 pixels. This means that the number of neurons needed in the input layer is 40,000. This is computationally expensive and ineffective.\n",
    "\n",
    "We're going to introduce Convolutional Neural Network or CNN to handle the computations because they can extract the feature of image and convert it into lower dimension without loosing its characteristics.\n",
    "\n",
    "<span style=\"color:  #C70039;\">Here, we're going to use the <b>small sample of the dataset (90 images)</b> as used so far to build and train the models.</span>\n",
    "\n",
    "<span style=\"color:  #C70039;\">Once our models are implemented, we'll apply it to the whole dataset. We'll also compare the pretrained models with a model build from scratch.</span>\n",
    "\n",
    "<b> Here's our methodology: </b>\n",
    "\n",
    "* <b> Select and train pretrained models </b>\n",
    "\n",
    "We are going to use 3 PyTorch pretrained CNN models trained on the 1000-class Imagenet dataset rather than training an entire CNN from scatch because the PyTorch models are trained on very large dataset (ImageNet is made up of 1.2 million images with 10 different classes).\n",
    "\n",
    "* <b>Transfer learning: </b>\n",
    "    * <b>feature extraction</b>\n",
    "\n",
    "Since we're using pretrained models, we need to adapt the CNN architecture to our own data. This step is called transfer learning. Here we're using feature extraction, updating the final layer weights of the pretrained models to fit our data.\n",
    "  * <b>Select appropriate optimizers and learning rate schedulers</b>\n",
    " \n",
    "* <b>Run the models and evaluate accuracy</b>\n",
    "* <b>Ensembling Methods</b>: \n",
    "    * <b>Majority voting method </b>with the 3 models\n",
    "    * <b>Ensembling Classifier</b>: combine the 2 best models into a unique classifier using an ensembling method</b>\n",
    "\n",
    "Finally, we'll use the best found models on the whole dataset. And compare them with a model built from scratch."
   ]
  },
  {
   "cell_type": "markdown",
   "metadata": {
    "id": "dn0Ts_DyddUm"
   },
   "source": [
    "## Model 1: resnet18"
   ]
  },
  {
   "cell_type": "markdown",
   "metadata": {
    "id": "pUkvkiecddUq"
   },
   "source": [
    "#### 1. Initialize the model parameters"
   ]
  },
  {
   "cell_type": "markdown",
   "metadata": {
    "id": "r7Azk1rgddUs"
   },
   "source": [
    "The first model we are going to train is \"resnet18\""
   ]
  },
  {
   "cell_type": "code",
   "execution_count": 22,
   "metadata": {
    "id": "ZHhM_qN_ddUu"
   },
   "outputs": [],
   "source": [
    "data_dir = os.getcwd()\n",
    "\n",
    "# We're going to use a pretrained model: resnet18\n",
    "model_name = \"resnet18\"\n",
    "\n",
    "# Number of classes in the dataset\n",
    "num_classes = 6\n",
    "\n",
    "# Batch size for training\n",
    "batch_size = 64\n",
    "\n",
    "# Number of epochs to train for\n",
    "num_epochs = 50\n",
    "\n",
    "# Number of pixels\n",
    "input_size = 224"
   ]
  },
  {
   "cell_type": "markdown",
   "metadata": {
    "id": "fKO8Pa2wddUx"
   },
   "source": [
    "#### 2. Load Data"
   ]
  },
  {
   "cell_type": "markdown",
   "metadata": {
    "id": "T-Krh2i2ddUy"
   },
   "source": [
    "We're performing a few data augmentation steps. To normalize the training and test sets, we're using the mean and standard deviation found earlier. We're creating a dictionary holding the two sets."
   ]
  },
  {
   "cell_type": "code",
   "execution_count": 23,
   "metadata": {
    "colab": {
     "base_uri": "https://localhost:8080/"
    },
    "id": "h72fIyxTddU0",
    "outputId": "f633a97f-eb6a-4eef-d362-e12b3f376f81"
   },
   "outputs": [
    {
     "name": "stdout",
     "output_type": "stream",
     "text": [
      "Initializing Datasets and Dataloaders...\n"
     ]
    }
   ],
   "source": [
    "# Data augmentation and normalization for training\n",
    "# Just normalization for validation\n",
    "data_transforms = {\n",
    "    'train': transforms.Compose([\n",
    "        transforms.RandomResizedCrop(224),\n",
    "        transforms.RandomVerticalFlip(),\n",
    "        transforms.ToTensor(),\n",
    "        transforms.Normalize([0.0326, 0.0326, 0.0326], [0.0326, 0.0326, 0.0326])\n",
    "    ]),\n",
    "    'val': transforms.Compose([\n",
    "        transforms.Resize(224),\n",
    "        transforms.CenterCrop(input_size),\n",
    "        transforms.ToTensor(),\n",
    "        transforms.Normalize([0.1555, 0.1555, 0.1555], [0.1555, 0.1555, 0.1555])\n",
    "    ]),\n",
    "}\n",
    "\n",
    "print(\"Initializing Datasets and Dataloaders...\")\n",
    "\n",
    "# Create training and validation datasets\n",
    "image_datasets = {'train':datasets.ImageFolder(data_train_path, data_transforms['train']),\n",
    "                  'val':datasets.ImageFolder(data_test_path, data_transforms['val'])}\n",
    "#image_datasets = {x: datasets.ImageFolder(os.path.join(data_dir, x), data_transforms[x]) for x in ['train', 'val']}\n",
    "# Create training and validation dataloaders\n",
    "dataloaders_dict = {x: torch.utils.data.DataLoader(image_datasets[x], batch_size=batch_size, shuffle=True, num_workers=4) for x in ['train', 'val']}\n",
    "\n",
    "# Detect if we have a GPU available\n",
    "device = torch.device(\"cuda:0\" if torch.cuda.is_available() else \"cpu\")"
   ]
  },
  {
   "cell_type": "markdown",
   "metadata": {
    "id": "SkJHjDcWddU2"
   },
   "source": [
    "#### 3. Build the model structure with training and validation steps"
   ]
  },
  {
   "cell_type": "markdown",
   "metadata": {
    "id": "gKI2gFQNddU7"
   },
   "source": [
    "This function takes as input a PyTorch model, a dictionary of dataloaders, a loss function, an optimizer for training, a learning rate scheduler, a number of epochs to train and validate for."
   ]
  },
  {
   "cell_type": "code",
   "execution_count": 24,
   "metadata": {
    "id": "oaCfB_YPddU-"
   },
   "outputs": [],
   "source": [
    "def train_model(model, dataloaders, criterion, optimizer, scheduler, num_epochs=25):\n",
    "    since = time.time()\n",
    "\n",
    "    val_acc_history = []\n",
    "\n",
    "    best_model_wts = copy.deepcopy(model.state_dict())\n",
    "    best_acc = 0.0\n",
    "\n",
    "    for epoch in range(num_epochs):\n",
    "        print('Epoch {}/{}'.format(epoch, num_epochs - 1))\n",
    "        print('-' * 10)\n",
    "\n",
    "        # Each epoch has a training and validation phase\n",
    "        for phase in ['train', 'val']:\n",
    "            if phase == 'train':\n",
    "                model.train()  # Set model to training mode\n",
    "            else:\n",
    "                model.eval()   # Set model to evaluate mode\n",
    "\n",
    "            running_loss = 0.0\n",
    "            running_corrects = 0\n",
    "\n",
    "            # Iterate over data.\n",
    "            for inputs, labels in dataloaders[phase]:\n",
    "                inputs = inputs.to(device)\n",
    "                labels = labels.to(device)\n",
    "\n",
    "                # zero the parameter gradients\n",
    "                optimizer.zero_grad()\n",
    "\n",
    "                # forward track history if only in train\n",
    "                with torch.set_grad_enabled(phase == 'train'):\n",
    "            \n",
    "                    # Get model outputs and calculate loss\n",
    "                    #  In train mode we calculate the loss by summing the final output and the auxiliary output\n",
    "                    #  But in testing we only consider the final output.\n",
    "                    outputs = model(inputs)\n",
    "                    loss = criterion(outputs, labels)\n",
    "                    _, preds = torch.max(outputs, 1)\n",
    "\n",
    "                    # backward + optimize only if in training phase\n",
    "                    if phase == 'train':\n",
    "                        loss.backward()\n",
    "                        optimizer.step()\n",
    "\n",
    "                # statistics\n",
    "                running_loss += loss.item() * inputs.size(0)\n",
    "                running_corrects += torch.sum(preds == labels.data)  \n",
    "                # Use a learning rate scheduler in training\n",
    "            if phase == 'train':\n",
    "                scheduler.step()\n",
    "\n",
    "            epoch_loss = running_loss / len(dataloaders[phase].dataset)\n",
    "            epoch_acc = running_corrects.double() / len(dataloaders[phase].dataset)\n",
    "\n",
    "            print('{} Loss: {:.4f} Acc: {:.4f}'.format(phase, epoch_loss, epoch_acc))\n",
    "\n",
    "            # deep copy the model\n",
    "            if phase == 'val' and epoch_acc > best_acc:\n",
    "                best_acc = epoch_acc\n",
    "                best_model_wts = copy.deepcopy(model.state_dict())\n",
    "            if phase == 'val':\n",
    "                val_acc_history.append(epoch_acc)\n",
    "\n",
    "        print()\n",
    "\n",
    "    time_elapsed = time.time() - since\n",
    "    print('Training complete in {:.0f}m {:.0f}s'.format(time_elapsed // 60, time_elapsed % 60))\n",
    "    print('Best val Acc: {:4f}'.format(best_acc))\n",
    "\n",
    "    # load best model weights\n",
    "    model.load_state_dict(best_model_wts)\n",
    "    return model"
   ]
  },
  {
   "cell_type": "markdown",
   "metadata": {
    "id": "i_-Tzs19ddU_"
   },
   "source": [
    "#### 3.1. Transfer Learning: Feature Extraction"
   ]
  },
  {
   "cell_type": "markdown",
   "metadata": {
    "id": "VEtAnGS_ddVA"
   },
   "source": [
    "Since we are using a pretrained PyTorch model, we're going to apply transfer learning to adapt the model to our dataset.\n",
    "There are two ways to perform transfer learning:\n",
    "\n",
    "* <b>Finetuning</b>: it consists in updating all of the pretrained model's parameters to our specific classification task.\n",
    "* <b>Feature extraction</b>: it consists in updating the parameters of the final layer to have the same output size as the number of different class of our own classification problem. This last fully connected layer is replaced with a new one with random weights and <b>only this layer is trained</b>.\n",
    "\n",
    "Here we are performing feature extraction. By default, when we load a pretrained model all of the parameters have <mark style=\"background-color:  #d5d8dc \">.requires_grad=True</mark> to compute the gradients for each layer. \n",
    "\n",
    "Since we are using feature extraction, we will set  <mark style=\"background-color:  #d5d8dc \">.requires_grad=False </mark> so that the gradients are not computed in backward().\n",
    "We will manually initialize the final layer with random weights."
   ]
  },
  {
   "cell_type": "code",
   "execution_count": 25,
   "metadata": {
    "id": "gMiE6u6hddVC"
   },
   "outputs": [],
   "source": [
    "feature_extract = True\n",
    "def set_parameter_requires_grad(model, feature_extracting):\n",
    "    if feature_extracting:\n",
    "        for param in model.parameters():\n",
    "            param.requires_grad = False"
   ]
  },
  {
   "cell_type": "code",
   "execution_count": 26,
   "metadata": {
    "colab": {
     "base_uri": "https://localhost:8080/",
     "height": 1000,
     "referenced_widgets": [
      "4de5b53d4b344f4c96b4a6404a7b3170",
      "42f7310fef2f4517b988526e1b1e0af5",
      "47d8baac4228401d98d8e3af32c648d6",
      "897c20ef26ec4d938e61226463197aab",
      "213b817b3c6645c892e41b70f8f68364",
      "86a0a2e0f97044cbac1b043a016274e7",
      "d67110bc1516404f844b677259c068e7",
      "543e6772d59142ff9a5e5ac2e2849022"
     ]
    },
    "id": "Zqes0P33ddVD",
    "outputId": "914a9b2d-41b2-40dd-c372-f54547cb0b2f"
   },
   "outputs": [
    {
     "name": "stderr",
     "output_type": "stream",
     "text": [
      "Downloading: \"https://download.pytorch.org/models/resnet18-5c106cde.pth\" to /root/.cache/torch/hub/checkpoints/resnet18-5c106cde.pth\n"
     ]
    },
    {
     "data": {
      "application/vnd.jupyter.widget-view+json": {
       "model_id": "4de5b53d4b344f4c96b4a6404a7b3170",
       "version_major": 2,
       "version_minor": 0
      },
      "text/plain": [
       "HBox(children=(FloatProgress(value=0.0, max=46827520.0), HTML(value='')))"
      ]
     },
     "metadata": {
      "tags": []
     },
     "output_type": "display_data"
    },
    {
     "name": "stdout",
     "output_type": "stream",
     "text": [
      "\n",
      "ResNet(\n",
      "  (conv1): Conv2d(3, 64, kernel_size=(7, 7), stride=(2, 2), padding=(3, 3), bias=False)\n",
      "  (bn1): BatchNorm2d(64, eps=1e-05, momentum=0.1, affine=True, track_running_stats=True)\n",
      "  (relu): ReLU(inplace=True)\n",
      "  (maxpool): MaxPool2d(kernel_size=3, stride=2, padding=1, dilation=1, ceil_mode=False)\n",
      "  (layer1): Sequential(\n",
      "    (0): BasicBlock(\n",
      "      (conv1): Conv2d(64, 64, kernel_size=(3, 3), stride=(1, 1), padding=(1, 1), bias=False)\n",
      "      (bn1): BatchNorm2d(64, eps=1e-05, momentum=0.1, affine=True, track_running_stats=True)\n",
      "      (relu): ReLU(inplace=True)\n",
      "      (conv2): Conv2d(64, 64, kernel_size=(3, 3), stride=(1, 1), padding=(1, 1), bias=False)\n",
      "      (bn2): BatchNorm2d(64, eps=1e-05, momentum=0.1, affine=True, track_running_stats=True)\n",
      "    )\n",
      "    (1): BasicBlock(\n",
      "      (conv1): Conv2d(64, 64, kernel_size=(3, 3), stride=(1, 1), padding=(1, 1), bias=False)\n",
      "      (bn1): BatchNorm2d(64, eps=1e-05, momentum=0.1, affine=True, track_running_stats=True)\n",
      "      (relu): ReLU(inplace=True)\n",
      "      (conv2): Conv2d(64, 64, kernel_size=(3, 3), stride=(1, 1), padding=(1, 1), bias=False)\n",
      "      (bn2): BatchNorm2d(64, eps=1e-05, momentum=0.1, affine=True, track_running_stats=True)\n",
      "    )\n",
      "  )\n",
      "  (layer2): Sequential(\n",
      "    (0): BasicBlock(\n",
      "      (conv1): Conv2d(64, 128, kernel_size=(3, 3), stride=(2, 2), padding=(1, 1), bias=False)\n",
      "      (bn1): BatchNorm2d(128, eps=1e-05, momentum=0.1, affine=True, track_running_stats=True)\n",
      "      (relu): ReLU(inplace=True)\n",
      "      (conv2): Conv2d(128, 128, kernel_size=(3, 3), stride=(1, 1), padding=(1, 1), bias=False)\n",
      "      (bn2): BatchNorm2d(128, eps=1e-05, momentum=0.1, affine=True, track_running_stats=True)\n",
      "      (downsample): Sequential(\n",
      "        (0): Conv2d(64, 128, kernel_size=(1, 1), stride=(2, 2), bias=False)\n",
      "        (1): BatchNorm2d(128, eps=1e-05, momentum=0.1, affine=True, track_running_stats=True)\n",
      "      )\n",
      "    )\n",
      "    (1): BasicBlock(\n",
      "      (conv1): Conv2d(128, 128, kernel_size=(3, 3), stride=(1, 1), padding=(1, 1), bias=False)\n",
      "      (bn1): BatchNorm2d(128, eps=1e-05, momentum=0.1, affine=True, track_running_stats=True)\n",
      "      (relu): ReLU(inplace=True)\n",
      "      (conv2): Conv2d(128, 128, kernel_size=(3, 3), stride=(1, 1), padding=(1, 1), bias=False)\n",
      "      (bn2): BatchNorm2d(128, eps=1e-05, momentum=0.1, affine=True, track_running_stats=True)\n",
      "    )\n",
      "  )\n",
      "  (layer3): Sequential(\n",
      "    (0): BasicBlock(\n",
      "      (conv1): Conv2d(128, 256, kernel_size=(3, 3), stride=(2, 2), padding=(1, 1), bias=False)\n",
      "      (bn1): BatchNorm2d(256, eps=1e-05, momentum=0.1, affine=True, track_running_stats=True)\n",
      "      (relu): ReLU(inplace=True)\n",
      "      (conv2): Conv2d(256, 256, kernel_size=(3, 3), stride=(1, 1), padding=(1, 1), bias=False)\n",
      "      (bn2): BatchNorm2d(256, eps=1e-05, momentum=0.1, affine=True, track_running_stats=True)\n",
      "      (downsample): Sequential(\n",
      "        (0): Conv2d(128, 256, kernel_size=(1, 1), stride=(2, 2), bias=False)\n",
      "        (1): BatchNorm2d(256, eps=1e-05, momentum=0.1, affine=True, track_running_stats=True)\n",
      "      )\n",
      "    )\n",
      "    (1): BasicBlock(\n",
      "      (conv1): Conv2d(256, 256, kernel_size=(3, 3), stride=(1, 1), padding=(1, 1), bias=False)\n",
      "      (bn1): BatchNorm2d(256, eps=1e-05, momentum=0.1, affine=True, track_running_stats=True)\n",
      "      (relu): ReLU(inplace=True)\n",
      "      (conv2): Conv2d(256, 256, kernel_size=(3, 3), stride=(1, 1), padding=(1, 1), bias=False)\n",
      "      (bn2): BatchNorm2d(256, eps=1e-05, momentum=0.1, affine=True, track_running_stats=True)\n",
      "    )\n",
      "  )\n",
      "  (layer4): Sequential(\n",
      "    (0): BasicBlock(\n",
      "      (conv1): Conv2d(256, 512, kernel_size=(3, 3), stride=(2, 2), padding=(1, 1), bias=False)\n",
      "      (bn1): BatchNorm2d(512, eps=1e-05, momentum=0.1, affine=True, track_running_stats=True)\n",
      "      (relu): ReLU(inplace=True)\n",
      "      (conv2): Conv2d(512, 512, kernel_size=(3, 3), stride=(1, 1), padding=(1, 1), bias=False)\n",
      "      (bn2): BatchNorm2d(512, eps=1e-05, momentum=0.1, affine=True, track_running_stats=True)\n",
      "      (downsample): Sequential(\n",
      "        (0): Conv2d(256, 512, kernel_size=(1, 1), stride=(2, 2), bias=False)\n",
      "        (1): BatchNorm2d(512, eps=1e-05, momentum=0.1, affine=True, track_running_stats=True)\n",
      "      )\n",
      "    )\n",
      "    (1): BasicBlock(\n",
      "      (conv1): Conv2d(512, 512, kernel_size=(3, 3), stride=(1, 1), padding=(1, 1), bias=False)\n",
      "      (bn1): BatchNorm2d(512, eps=1e-05, momentum=0.1, affine=True, track_running_stats=True)\n",
      "      (relu): ReLU(inplace=True)\n",
      "      (conv2): Conv2d(512, 512, kernel_size=(3, 3), stride=(1, 1), padding=(1, 1), bias=False)\n",
      "      (bn2): BatchNorm2d(512, eps=1e-05, momentum=0.1, affine=True, track_running_stats=True)\n",
      "    )\n",
      "  )\n",
      "  (avgpool): AdaptiveAvgPool2d(output_size=(1, 1))\n",
      "  (fc): Linear(in_features=512, out_features=6, bias=True)\n",
      ")\n"
     ]
    }
   ],
   "source": [
    "def initialize_model(model_name, num_classes, feature_extract, use_pretrained=True):\n",
    "    # Initialize these variables which will be set in this if statement. Each of these\n",
    "    #   variables is model specific.\n",
    "    model_ft = None\n",
    "    input_size = 0\n",
    "    if model_name == \"resnet18\":\n",
    "        \"\"\" Resnet18\n",
    "        \"\"\"\n",
    "        model_ft = models.resnet18(pretrained=use_pretrained)\n",
    "        set_parameter_requires_grad(model_ft, feature_extract) # Set Feature Extraction\n",
    "        num_ftrs = model_ft.fc.in_features\n",
    "        model_ft.fc = nn.Linear(num_ftrs, num_classes) # Initialize final layer weights with our customer number of classes\n",
    "        input_size = 224\n",
    "        \n",
    "    if model_name == \"resnet50\":\n",
    "        \"\"\" Resnet50\n",
    "        \"\"\"\n",
    "        model_ft = models.resnet50(pretrained=use_pretrained)\n",
    "        set_parameter_requires_grad(model_ft, feature_extract)\n",
    "        num_ftrs = model_ft.fc.in_features\n",
    "        model_ft.fc = nn.Linear(num_ftrs, num_classes)\n",
    "        input_size = 224\n",
    "        \n",
    "    elif model_name == \"vgg\":\n",
    "        \"\"\" VGG11_bn\n",
    "        \"\"\"\n",
    "        model_ft = models.vgg11_bn(pretrained=use_pretrained)\n",
    "        set_parameter_requires_grad(model_ft, feature_extract)\n",
    "        num_ftrs = model_ft.classifier[6].in_features\n",
    "        model_ft.classifier[6] = nn.Linear(num_ftrs,num_classes)\n",
    "        input_size = 224\n",
    "\n",
    "    return model_ft, input_size\n",
    "\n",
    "# Initialize the model for this run\n",
    "model_ft, input_size = initialize_model(model_name, num_classes, feature_extract, use_pretrained=True)\n",
    "\n",
    "# Print the model we just instantiated\n",
    "print(model_ft)"
   ]
  },
  {
   "cell_type": "markdown",
   "metadata": {
    "id": "ow2dwhUYddVF"
   },
   "source": [
    "#### 3.2. Create The Optimizer And Learning Rate Scheduler"
   ]
  },
  {
   "cell_type": "markdown",
   "metadata": {
    "id": "8SSF6C9hddVG"
   },
   "source": [
    "The optimizer will update the parameters based on the computed gradients. The learning rate scheduler will adjust the learning rate based on the number of epochs."
   ]
  },
  {
   "cell_type": "markdown",
   "metadata": {
    "id": "ehk9U28GddVH"
   },
   "source": [
    "Select the parameters to update. As we can see, only the parameters of the fully connected layer 'fc' are going to be updated since we are feature extracting."
   ]
  },
  {
   "cell_type": "code",
   "execution_count": 27,
   "metadata": {
    "colab": {
     "base_uri": "https://localhost:8080/"
    },
    "id": "7vayryk9ddVK",
    "outputId": "4b2a35b2-fc4e-45d5-88f0-34d3a2d37969"
   },
   "outputs": [
    {
     "name": "stdout",
     "output_type": "stream",
     "text": [
      "Parameters to learn:\n",
      "\t fc.weight\n",
      "\t fc.bias\n"
     ]
    }
   ],
   "source": [
    "# Send the model to GPU\n",
    "device = torch.device(\"cuda:0\" if torch.cuda.is_available() else \"cpu\")\n",
    "model_ft = model_ft.to(device)\n",
    "\n",
    "# Gather the parameters to be optimized/updated in this run. \n",
    "# As we are feature extracting, we will only update the parameters that the initialize_model function has initialized,\n",
    "# i.e. the parameters with requires_grad=True.\n",
    "params_to_update = model_ft.parameters()\n",
    "print(\"Parameters to learn:\")\n",
    "params_to_update = []\n",
    "for name,param in model_ft.named_parameters():\n",
    "    if param.requires_grad == True:\n",
    "            params_to_update.append(param)\n",
    "            print(\"\\t\",name)"
   ]
  },
  {
   "cell_type": "markdown",
   "metadata": {
    "id": "0mqKEAntddVN"
   },
   "source": [
    "We are using 'Adam' optimizer rather than 'SGD' since it helped improving our model performance. The running steps with 'SGD' were used in our draft phase and we are not are not showing them here."
   ]
  },
  {
   "cell_type": "code",
   "execution_count": 28,
   "metadata": {
    "id": "MbkMNSppddVO"
   },
   "outputs": [],
   "source": [
    "# Define learning rate and weight decay over epochs\n",
    "learning_rate = 0.01\n",
    "weight_decay = 0.005\n",
    "\n",
    "# Observe that only the parameters of the final layer are being optimized\n",
    "optimizer_ft = optim.Adam(params_to_update, lr=learning_rate, betas=(0.9, 0.999), eps=1e-08, weight_decay=weight_decay)\n",
    "\n",
    "# Setup the loss function\n",
    "criterion = nn.CrossEntropyLoss()\n",
    "\n",
    "# Setup the learning rate\n",
    "lr_scheduler = optim.lr_scheduler.CosineAnnealingLR(optimizer_ft, T_max=15, eta_min=learning_rate, last_epoch=-1, verbose=False)"
   ]
  },
  {
   "cell_type": "markdown",
   "metadata": {
    "id": "Kx38STsCddVQ"
   },
   "source": [
    "#### 4. Run Model: Training And Validation Steps"
   ]
  },
  {
   "cell_type": "code",
   "execution_count": 29,
   "metadata": {
    "colab": {
     "base_uri": "https://localhost:8080/"
    },
    "id": "CAHSWGn2ddVR",
    "outputId": "540e7ce5-4e5c-4ba7-b12c-b53ae622f903"
   },
   "outputs": [
    {
     "name": "stdout",
     "output_type": "stream",
     "text": [
      "Epoch 0/49\n",
      "----------\n",
      "train Loss: 1.6803 Acc: 0.3333\n",
      "val Loss: 2.1831 Acc: 0.1667\n",
      "\n",
      "Epoch 1/49\n",
      "----------\n",
      "train Loss: 2.7427 Acc: 0.1833\n",
      "val Loss: 1.7819 Acc: 0.1667\n",
      "\n",
      "Epoch 2/49\n",
      "----------\n",
      "train Loss: 1.7544 Acc: 0.3667\n",
      "val Loss: 1.6387 Acc: 0.1667\n",
      "\n",
      "Epoch 3/49\n",
      "----------\n",
      "train Loss: 1.1571 Acc: 0.6667\n",
      "val Loss: 1.9259 Acc: 0.2333\n",
      "\n",
      "Epoch 4/49\n",
      "----------\n",
      "train Loss: 1.4936 Acc: 0.5667\n",
      "val Loss: 1.8371 Acc: 0.2667\n",
      "\n",
      "Epoch 5/49\n",
      "----------\n",
      "train Loss: 1.4334 Acc: 0.6000\n",
      "val Loss: 1.4683 Acc: 0.3333\n",
      "\n",
      "Epoch 6/49\n",
      "----------\n",
      "train Loss: 0.7510 Acc: 0.7000\n",
      "val Loss: 1.3290 Acc: 0.4000\n",
      "\n",
      "Epoch 7/49\n",
      "----------\n",
      "train Loss: 0.4226 Acc: 0.8500\n",
      "val Loss: 1.5325 Acc: 0.4000\n",
      "\n",
      "Epoch 8/49\n",
      "----------\n",
      "train Loss: 0.3521 Acc: 0.8500\n",
      "val Loss: 1.9721 Acc: 0.4333\n",
      "\n",
      "Epoch 9/49\n",
      "----------\n",
      "train Loss: 0.3910 Acc: 0.8667\n",
      "val Loss: 2.3413 Acc: 0.2333\n",
      "\n",
      "Epoch 10/49\n",
      "----------\n",
      "train Loss: 0.6775 Acc: 0.7333\n",
      "val Loss: 2.4860 Acc: 0.3000\n",
      "\n",
      "Epoch 11/49\n",
      "----------\n",
      "train Loss: 0.4711 Acc: 0.8000\n",
      "val Loss: 2.4487 Acc: 0.2667\n",
      "\n",
      "Epoch 12/49\n",
      "----------\n",
      "train Loss: 0.3329 Acc: 0.8833\n",
      "val Loss: 2.3552 Acc: 0.3000\n",
      "\n",
      "Epoch 13/49\n",
      "----------\n",
      "train Loss: 0.1912 Acc: 0.9500\n",
      "val Loss: 2.2962 Acc: 0.3333\n",
      "\n",
      "Epoch 14/49\n",
      "----------\n",
      "train Loss: 0.1416 Acc: 0.9667\n",
      "val Loss: 2.3029 Acc: 0.3667\n",
      "\n",
      "Epoch 15/49\n",
      "----------\n",
      "train Loss: 0.1575 Acc: 0.9500\n",
      "val Loss: 2.3189 Acc: 0.3667\n",
      "\n",
      "Epoch 16/49\n",
      "----------\n",
      "train Loss: 0.1209 Acc: 0.9833\n",
      "val Loss: 2.3781 Acc: 0.3333\n",
      "\n",
      "Epoch 17/49\n",
      "----------\n",
      "train Loss: 0.2581 Acc: 0.8833\n",
      "val Loss: 2.4318 Acc: 0.3333\n",
      "\n",
      "Epoch 18/49\n",
      "----------\n",
      "train Loss: 0.2063 Acc: 0.9667\n",
      "val Loss: 2.4074 Acc: 0.3333\n",
      "\n",
      "Epoch 19/49\n",
      "----------\n",
      "train Loss: 0.1651 Acc: 0.9500\n",
      "val Loss: 2.3783 Acc: 0.3000\n",
      "\n",
      "Epoch 20/49\n",
      "----------\n",
      "train Loss: 0.1226 Acc: 0.9667\n",
      "val Loss: 2.3252 Acc: 0.2667\n",
      "\n",
      "Epoch 21/49\n",
      "----------\n",
      "train Loss: 0.2536 Acc: 0.9333\n",
      "val Loss: 2.3655 Acc: 0.2667\n",
      "\n",
      "Epoch 22/49\n",
      "----------\n",
      "train Loss: 0.1010 Acc: 0.9833\n",
      "val Loss: 2.4129 Acc: 0.2667\n",
      "\n",
      "Epoch 23/49\n",
      "----------\n",
      "train Loss: 0.0715 Acc: 1.0000\n",
      "val Loss: 2.4941 Acc: 0.2333\n",
      "\n",
      "Epoch 24/49\n",
      "----------\n",
      "train Loss: 0.0917 Acc: 0.9833\n",
      "val Loss: 2.6181 Acc: 0.2667\n",
      "\n",
      "Epoch 25/49\n",
      "----------\n",
      "train Loss: 0.1806 Acc: 0.9333\n",
      "val Loss: 2.7072 Acc: 0.3333\n",
      "\n",
      "Epoch 26/49\n",
      "----------\n",
      "train Loss: 0.0670 Acc: 0.9667\n",
      "val Loss: 2.8045 Acc: 0.3667\n",
      "\n",
      "Epoch 27/49\n",
      "----------\n",
      "train Loss: 0.0566 Acc: 1.0000\n",
      "val Loss: 2.8786 Acc: 0.3667\n",
      "\n",
      "Epoch 28/49\n",
      "----------\n",
      "train Loss: 0.0711 Acc: 0.9500\n",
      "val Loss: 2.9494 Acc: 0.4000\n",
      "\n",
      "Epoch 29/49\n",
      "----------\n",
      "train Loss: 0.1883 Acc: 0.9333\n",
      "val Loss: 3.0300 Acc: 0.3333\n",
      "\n",
      "Epoch 30/49\n",
      "----------\n",
      "train Loss: 0.0211 Acc: 1.0000\n",
      "val Loss: 3.0812 Acc: 0.3333\n",
      "\n",
      "Epoch 31/49\n",
      "----------\n",
      "train Loss: 0.0940 Acc: 0.9667\n",
      "val Loss: 3.1640 Acc: 0.3333\n",
      "\n",
      "Epoch 32/49\n",
      "----------\n",
      "train Loss: 0.1348 Acc: 0.9667\n",
      "val Loss: 3.2900 Acc: 0.3333\n",
      "\n",
      "Epoch 33/49\n",
      "----------\n",
      "train Loss: 0.0821 Acc: 0.9833\n",
      "val Loss: 3.4132 Acc: 0.3667\n",
      "\n",
      "Epoch 34/49\n",
      "----------\n",
      "train Loss: 0.1035 Acc: 0.9667\n",
      "val Loss: 3.4768 Acc: 0.4000\n",
      "\n",
      "Epoch 35/49\n",
      "----------\n",
      "train Loss: 0.1099 Acc: 0.9667\n",
      "val Loss: 3.5421 Acc: 0.4000\n",
      "\n",
      "Epoch 36/49\n",
      "----------\n",
      "train Loss: 0.0312 Acc: 1.0000\n",
      "val Loss: 3.6072 Acc: 0.4333\n",
      "\n",
      "Epoch 37/49\n",
      "----------\n",
      "train Loss: 0.0534 Acc: 1.0000\n",
      "val Loss: 3.6452 Acc: 0.4333\n",
      "\n",
      "Epoch 38/49\n",
      "----------\n",
      "train Loss: 0.0492 Acc: 0.9667\n",
      "val Loss: 3.6884 Acc: 0.4000\n",
      "\n",
      "Epoch 39/49\n",
      "----------\n",
      "train Loss: 0.0473 Acc: 1.0000\n",
      "val Loss: 3.7540 Acc: 0.4000\n",
      "\n",
      "Epoch 40/49\n",
      "----------\n",
      "train Loss: 0.1142 Acc: 0.9333\n",
      "val Loss: 3.7851 Acc: 0.4000\n",
      "\n",
      "Epoch 41/49\n",
      "----------\n",
      "train Loss: 0.1100 Acc: 0.9333\n",
      "val Loss: 3.7781 Acc: 0.3667\n",
      "\n",
      "Epoch 42/49\n",
      "----------\n",
      "train Loss: 0.0498 Acc: 0.9833\n",
      "val Loss: 3.7595 Acc: 0.3667\n",
      "\n",
      "Epoch 43/49\n",
      "----------\n",
      "train Loss: 0.0495 Acc: 1.0000\n",
      "val Loss: 3.7145 Acc: 0.3667\n",
      "\n",
      "Epoch 44/49\n",
      "----------\n",
      "train Loss: 0.0422 Acc: 0.9833\n",
      "val Loss: 3.6683 Acc: 0.3667\n",
      "\n",
      "Epoch 45/49\n",
      "----------\n",
      "train Loss: 0.0641 Acc: 0.9833\n",
      "val Loss: 3.6102 Acc: 0.4000\n",
      "\n",
      "Epoch 46/49\n",
      "----------\n",
      "train Loss: 0.0329 Acc: 1.0000\n",
      "val Loss: 3.5628 Acc: 0.3667\n",
      "\n",
      "Epoch 47/49\n",
      "----------\n",
      "train Loss: 0.0722 Acc: 0.9667\n",
      "val Loss: 3.5389 Acc: 0.3333\n",
      "\n",
      "Epoch 48/49\n",
      "----------\n",
      "train Loss: 0.0317 Acc: 1.0000\n",
      "val Loss: 3.5183 Acc: 0.3000\n",
      "\n",
      "Epoch 49/49\n",
      "----------\n",
      "train Loss: 0.0812 Acc: 0.9833\n",
      "val Loss: 3.5060 Acc: 0.3000\n",
      "\n",
      "Training complete in 0m 43s\n",
      "Best val Acc: 0.433333\n"
     ]
    }
   ],
   "source": [
    "model_res18 = train_model(model_ft, dataloaders_dict, criterion, optimizer_ft, lr_scheduler, num_epochs=num_epochs)"
   ]
  },
  {
   "cell_type": "code",
   "execution_count": 30,
   "metadata": {
    "id": "nPtHZjEmBdri"
   },
   "outputs": [],
   "source": [
    "# Save model and state_dictionary: the trained parameters of the model\n",
    "model_res18.to(device)\n",
    "torch.save({'arch': 'res18',\n",
    "            'state_dict': model_res18.state_dict()}, \n",
    "            'resnet18.pth')\n",
    "# Save Model path to use it later\n",
    "resnet18_path='/content/resnet18.pth'\n",
    "checkpoint_res18 = torch.load(resnet18_path)"
   ]
  },
  {
   "cell_type": "markdown",
   "metadata": {},
   "source": [
    "The best accuracy found by <mark style=\"background-color: Gainsboro\">resnet18</mark> on the reduced dataset is <b>43.3%</b>."
   ]
  },
  {
   "cell_type": "markdown",
   "metadata": {
    "id": "9ZRg8klwddVT"
   },
   "source": [
    "## Model 2: resnet50"
   ]
  },
  {
   "cell_type": "markdown",
   "metadata": {
    "id": "QXcH6pC3ddVV"
   },
   "source": [
    "<mark style=\"background-color: Gainsboro\">resnet50</mark> has the same architecture as resnet18 but has 50 layers."
   ]
  },
  {
   "cell_type": "code",
   "execution_count": 31,
   "metadata": {
    "id": "Ges_XsxFddVW"
   },
   "outputs": [],
   "source": [
    "model_name = 'resnet50'"
   ]
  },
  {
   "cell_type": "code",
   "execution_count": 32,
   "metadata": {
    "colab": {
     "base_uri": "https://localhost:8080/",
     "height": 1000,
     "referenced_widgets": [
      "bb1b69d4161841ebb4706b7456ad8a99",
      "7de506e0dca54854a325115b84f4d3fb",
      "949cbe3a45024469afd2ce937a8b0a74",
      "434673d977ed40cc8ec88d70cb9b1249",
      "16505e6a267342ce955fae6dd021d0a5",
      "b6bf9121cdee42a2a2dee28815d2236b",
      "b1542b09f3f2454594757283b9e32a01",
      "9d0ddad2289a40fd8702717d101a7acd"
     ]
    },
    "id": "Rs69dn7FddVY",
    "outputId": "93346d24-3841-4d39-f622-696ed782be6e"
   },
   "outputs": [
    {
     "name": "stderr",
     "output_type": "stream",
     "text": [
      "Downloading: \"https://download.pytorch.org/models/resnet50-19c8e357.pth\" to /root/.cache/torch/hub/checkpoints/resnet50-19c8e357.pth\n"
     ]
    },
    {
     "data": {
      "application/vnd.jupyter.widget-view+json": {
       "model_id": "bb1b69d4161841ebb4706b7456ad8a99",
       "version_major": 2,
       "version_minor": 0
      },
      "text/plain": [
       "HBox(children=(FloatProgress(value=0.0, max=102502400.0), HTML(value='')))"
      ]
     },
     "metadata": {
      "tags": []
     },
     "output_type": "display_data"
    },
    {
     "name": "stdout",
     "output_type": "stream",
     "text": [
      "\n",
      "ResNet(\n",
      "  (conv1): Conv2d(3, 64, kernel_size=(7, 7), stride=(2, 2), padding=(3, 3), bias=False)\n",
      "  (bn1): BatchNorm2d(64, eps=1e-05, momentum=0.1, affine=True, track_running_stats=True)\n",
      "  (relu): ReLU(inplace=True)\n",
      "  (maxpool): MaxPool2d(kernel_size=3, stride=2, padding=1, dilation=1, ceil_mode=False)\n",
      "  (layer1): Sequential(\n",
      "    (0): Bottleneck(\n",
      "      (conv1): Conv2d(64, 64, kernel_size=(1, 1), stride=(1, 1), bias=False)\n",
      "      (bn1): BatchNorm2d(64, eps=1e-05, momentum=0.1, affine=True, track_running_stats=True)\n",
      "      (conv2): Conv2d(64, 64, kernel_size=(3, 3), stride=(1, 1), padding=(1, 1), bias=False)\n",
      "      (bn2): BatchNorm2d(64, eps=1e-05, momentum=0.1, affine=True, track_running_stats=True)\n",
      "      (conv3): Conv2d(64, 256, kernel_size=(1, 1), stride=(1, 1), bias=False)\n",
      "      (bn3): BatchNorm2d(256, eps=1e-05, momentum=0.1, affine=True, track_running_stats=True)\n",
      "      (relu): ReLU(inplace=True)\n",
      "      (downsample): Sequential(\n",
      "        (0): Conv2d(64, 256, kernel_size=(1, 1), stride=(1, 1), bias=False)\n",
      "        (1): BatchNorm2d(256, eps=1e-05, momentum=0.1, affine=True, track_running_stats=True)\n",
      "      )\n",
      "    )\n",
      "    (1): Bottleneck(\n",
      "      (conv1): Conv2d(256, 64, kernel_size=(1, 1), stride=(1, 1), bias=False)\n",
      "      (bn1): BatchNorm2d(64, eps=1e-05, momentum=0.1, affine=True, track_running_stats=True)\n",
      "      (conv2): Conv2d(64, 64, kernel_size=(3, 3), stride=(1, 1), padding=(1, 1), bias=False)\n",
      "      (bn2): BatchNorm2d(64, eps=1e-05, momentum=0.1, affine=True, track_running_stats=True)\n",
      "      (conv3): Conv2d(64, 256, kernel_size=(1, 1), stride=(1, 1), bias=False)\n",
      "      (bn3): BatchNorm2d(256, eps=1e-05, momentum=0.1, affine=True, track_running_stats=True)\n",
      "      (relu): ReLU(inplace=True)\n",
      "    )\n",
      "    (2): Bottleneck(\n",
      "      (conv1): Conv2d(256, 64, kernel_size=(1, 1), stride=(1, 1), bias=False)\n",
      "      (bn1): BatchNorm2d(64, eps=1e-05, momentum=0.1, affine=True, track_running_stats=True)\n",
      "      (conv2): Conv2d(64, 64, kernel_size=(3, 3), stride=(1, 1), padding=(1, 1), bias=False)\n",
      "      (bn2): BatchNorm2d(64, eps=1e-05, momentum=0.1, affine=True, track_running_stats=True)\n",
      "      (conv3): Conv2d(64, 256, kernel_size=(1, 1), stride=(1, 1), bias=False)\n",
      "      (bn3): BatchNorm2d(256, eps=1e-05, momentum=0.1, affine=True, track_running_stats=True)\n",
      "      (relu): ReLU(inplace=True)\n",
      "    )\n",
      "  )\n",
      "  (layer2): Sequential(\n",
      "    (0): Bottleneck(\n",
      "      (conv1): Conv2d(256, 128, kernel_size=(1, 1), stride=(1, 1), bias=False)\n",
      "      (bn1): BatchNorm2d(128, eps=1e-05, momentum=0.1, affine=True, track_running_stats=True)\n",
      "      (conv2): Conv2d(128, 128, kernel_size=(3, 3), stride=(2, 2), padding=(1, 1), bias=False)\n",
      "      (bn2): BatchNorm2d(128, eps=1e-05, momentum=0.1, affine=True, track_running_stats=True)\n",
      "      (conv3): Conv2d(128, 512, kernel_size=(1, 1), stride=(1, 1), bias=False)\n",
      "      (bn3): BatchNorm2d(512, eps=1e-05, momentum=0.1, affine=True, track_running_stats=True)\n",
      "      (relu): ReLU(inplace=True)\n",
      "      (downsample): Sequential(\n",
      "        (0): Conv2d(256, 512, kernel_size=(1, 1), stride=(2, 2), bias=False)\n",
      "        (1): BatchNorm2d(512, eps=1e-05, momentum=0.1, affine=True, track_running_stats=True)\n",
      "      )\n",
      "    )\n",
      "    (1): Bottleneck(\n",
      "      (conv1): Conv2d(512, 128, kernel_size=(1, 1), stride=(1, 1), bias=False)\n",
      "      (bn1): BatchNorm2d(128, eps=1e-05, momentum=0.1, affine=True, track_running_stats=True)\n",
      "      (conv2): Conv2d(128, 128, kernel_size=(3, 3), stride=(1, 1), padding=(1, 1), bias=False)\n",
      "      (bn2): BatchNorm2d(128, eps=1e-05, momentum=0.1, affine=True, track_running_stats=True)\n",
      "      (conv3): Conv2d(128, 512, kernel_size=(1, 1), stride=(1, 1), bias=False)\n",
      "      (bn3): BatchNorm2d(512, eps=1e-05, momentum=0.1, affine=True, track_running_stats=True)\n",
      "      (relu): ReLU(inplace=True)\n",
      "    )\n",
      "    (2): Bottleneck(\n",
      "      (conv1): Conv2d(512, 128, kernel_size=(1, 1), stride=(1, 1), bias=False)\n",
      "      (bn1): BatchNorm2d(128, eps=1e-05, momentum=0.1, affine=True, track_running_stats=True)\n",
      "      (conv2): Conv2d(128, 128, kernel_size=(3, 3), stride=(1, 1), padding=(1, 1), bias=False)\n",
      "      (bn2): BatchNorm2d(128, eps=1e-05, momentum=0.1, affine=True, track_running_stats=True)\n",
      "      (conv3): Conv2d(128, 512, kernel_size=(1, 1), stride=(1, 1), bias=False)\n",
      "      (bn3): BatchNorm2d(512, eps=1e-05, momentum=0.1, affine=True, track_running_stats=True)\n",
      "      (relu): ReLU(inplace=True)\n",
      "    )\n",
      "    (3): Bottleneck(\n",
      "      (conv1): Conv2d(512, 128, kernel_size=(1, 1), stride=(1, 1), bias=False)\n",
      "      (bn1): BatchNorm2d(128, eps=1e-05, momentum=0.1, affine=True, track_running_stats=True)\n",
      "      (conv2): Conv2d(128, 128, kernel_size=(3, 3), stride=(1, 1), padding=(1, 1), bias=False)\n",
      "      (bn2): BatchNorm2d(128, eps=1e-05, momentum=0.1, affine=True, track_running_stats=True)\n",
      "      (conv3): Conv2d(128, 512, kernel_size=(1, 1), stride=(1, 1), bias=False)\n",
      "      (bn3): BatchNorm2d(512, eps=1e-05, momentum=0.1, affine=True, track_running_stats=True)\n",
      "      (relu): ReLU(inplace=True)\n",
      "    )\n",
      "  )\n",
      "  (layer3): Sequential(\n",
      "    (0): Bottleneck(\n",
      "      (conv1): Conv2d(512, 256, kernel_size=(1, 1), stride=(1, 1), bias=False)\n",
      "      (bn1): BatchNorm2d(256, eps=1e-05, momentum=0.1, affine=True, track_running_stats=True)\n",
      "      (conv2): Conv2d(256, 256, kernel_size=(3, 3), stride=(2, 2), padding=(1, 1), bias=False)\n",
      "      (bn2): BatchNorm2d(256, eps=1e-05, momentum=0.1, affine=True, track_running_stats=True)\n",
      "      (conv3): Conv2d(256, 1024, kernel_size=(1, 1), stride=(1, 1), bias=False)\n",
      "      (bn3): BatchNorm2d(1024, eps=1e-05, momentum=0.1, affine=True, track_running_stats=True)\n",
      "      (relu): ReLU(inplace=True)\n",
      "      (downsample): Sequential(\n",
      "        (0): Conv2d(512, 1024, kernel_size=(1, 1), stride=(2, 2), bias=False)\n",
      "        (1): BatchNorm2d(1024, eps=1e-05, momentum=0.1, affine=True, track_running_stats=True)\n",
      "      )\n",
      "    )\n",
      "    (1): Bottleneck(\n",
      "      (conv1): Conv2d(1024, 256, kernel_size=(1, 1), stride=(1, 1), bias=False)\n",
      "      (bn1): BatchNorm2d(256, eps=1e-05, momentum=0.1, affine=True, track_running_stats=True)\n",
      "      (conv2): Conv2d(256, 256, kernel_size=(3, 3), stride=(1, 1), padding=(1, 1), bias=False)\n",
      "      (bn2): BatchNorm2d(256, eps=1e-05, momentum=0.1, affine=True, track_running_stats=True)\n",
      "      (conv3): Conv2d(256, 1024, kernel_size=(1, 1), stride=(1, 1), bias=False)\n",
      "      (bn3): BatchNorm2d(1024, eps=1e-05, momentum=0.1, affine=True, track_running_stats=True)\n",
      "      (relu): ReLU(inplace=True)\n",
      "    )\n",
      "    (2): Bottleneck(\n",
      "      (conv1): Conv2d(1024, 256, kernel_size=(1, 1), stride=(1, 1), bias=False)\n",
      "      (bn1): BatchNorm2d(256, eps=1e-05, momentum=0.1, affine=True, track_running_stats=True)\n",
      "      (conv2): Conv2d(256, 256, kernel_size=(3, 3), stride=(1, 1), padding=(1, 1), bias=False)\n",
      "      (bn2): BatchNorm2d(256, eps=1e-05, momentum=0.1, affine=True, track_running_stats=True)\n",
      "      (conv3): Conv2d(256, 1024, kernel_size=(1, 1), stride=(1, 1), bias=False)\n",
      "      (bn3): BatchNorm2d(1024, eps=1e-05, momentum=0.1, affine=True, track_running_stats=True)\n",
      "      (relu): ReLU(inplace=True)\n",
      "    )\n",
      "    (3): Bottleneck(\n",
      "      (conv1): Conv2d(1024, 256, kernel_size=(1, 1), stride=(1, 1), bias=False)\n",
      "      (bn1): BatchNorm2d(256, eps=1e-05, momentum=0.1, affine=True, track_running_stats=True)\n",
      "      (conv2): Conv2d(256, 256, kernel_size=(3, 3), stride=(1, 1), padding=(1, 1), bias=False)\n",
      "      (bn2): BatchNorm2d(256, eps=1e-05, momentum=0.1, affine=True, track_running_stats=True)\n",
      "      (conv3): Conv2d(256, 1024, kernel_size=(1, 1), stride=(1, 1), bias=False)\n",
      "      (bn3): BatchNorm2d(1024, eps=1e-05, momentum=0.1, affine=True, track_running_stats=True)\n",
      "      (relu): ReLU(inplace=True)\n",
      "    )\n",
      "    (4): Bottleneck(\n",
      "      (conv1): Conv2d(1024, 256, kernel_size=(1, 1), stride=(1, 1), bias=False)\n",
      "      (bn1): BatchNorm2d(256, eps=1e-05, momentum=0.1, affine=True, track_running_stats=True)\n",
      "      (conv2): Conv2d(256, 256, kernel_size=(3, 3), stride=(1, 1), padding=(1, 1), bias=False)\n",
      "      (bn2): BatchNorm2d(256, eps=1e-05, momentum=0.1, affine=True, track_running_stats=True)\n",
      "      (conv3): Conv2d(256, 1024, kernel_size=(1, 1), stride=(1, 1), bias=False)\n",
      "      (bn3): BatchNorm2d(1024, eps=1e-05, momentum=0.1, affine=True, track_running_stats=True)\n",
      "      (relu): ReLU(inplace=True)\n",
      "    )\n",
      "    (5): Bottleneck(\n",
      "      (conv1): Conv2d(1024, 256, kernel_size=(1, 1), stride=(1, 1), bias=False)\n",
      "      (bn1): BatchNorm2d(256, eps=1e-05, momentum=0.1, affine=True, track_running_stats=True)\n",
      "      (conv2): Conv2d(256, 256, kernel_size=(3, 3), stride=(1, 1), padding=(1, 1), bias=False)\n",
      "      (bn2): BatchNorm2d(256, eps=1e-05, momentum=0.1, affine=True, track_running_stats=True)\n",
      "      (conv3): Conv2d(256, 1024, kernel_size=(1, 1), stride=(1, 1), bias=False)\n",
      "      (bn3): BatchNorm2d(1024, eps=1e-05, momentum=0.1, affine=True, track_running_stats=True)\n",
      "      (relu): ReLU(inplace=True)\n",
      "    )\n",
      "  )\n",
      "  (layer4): Sequential(\n",
      "    (0): Bottleneck(\n",
      "      (conv1): Conv2d(1024, 512, kernel_size=(1, 1), stride=(1, 1), bias=False)\n",
      "      (bn1): BatchNorm2d(512, eps=1e-05, momentum=0.1, affine=True, track_running_stats=True)\n",
      "      (conv2): Conv2d(512, 512, kernel_size=(3, 3), stride=(2, 2), padding=(1, 1), bias=False)\n",
      "      (bn2): BatchNorm2d(512, eps=1e-05, momentum=0.1, affine=True, track_running_stats=True)\n",
      "      (conv3): Conv2d(512, 2048, kernel_size=(1, 1), stride=(1, 1), bias=False)\n",
      "      (bn3): BatchNorm2d(2048, eps=1e-05, momentum=0.1, affine=True, track_running_stats=True)\n",
      "      (relu): ReLU(inplace=True)\n",
      "      (downsample): Sequential(\n",
      "        (0): Conv2d(1024, 2048, kernel_size=(1, 1), stride=(2, 2), bias=False)\n",
      "        (1): BatchNorm2d(2048, eps=1e-05, momentum=0.1, affine=True, track_running_stats=True)\n",
      "      )\n",
      "    )\n",
      "    (1): Bottleneck(\n",
      "      (conv1): Conv2d(2048, 512, kernel_size=(1, 1), stride=(1, 1), bias=False)\n",
      "      (bn1): BatchNorm2d(512, eps=1e-05, momentum=0.1, affine=True, track_running_stats=True)\n",
      "      (conv2): Conv2d(512, 512, kernel_size=(3, 3), stride=(1, 1), padding=(1, 1), bias=False)\n",
      "      (bn2): BatchNorm2d(512, eps=1e-05, momentum=0.1, affine=True, track_running_stats=True)\n",
      "      (conv3): Conv2d(512, 2048, kernel_size=(1, 1), stride=(1, 1), bias=False)\n",
      "      (bn3): BatchNorm2d(2048, eps=1e-05, momentum=0.1, affine=True, track_running_stats=True)\n",
      "      (relu): ReLU(inplace=True)\n",
      "    )\n",
      "    (2): Bottleneck(\n",
      "      (conv1): Conv2d(2048, 512, kernel_size=(1, 1), stride=(1, 1), bias=False)\n",
      "      (bn1): BatchNorm2d(512, eps=1e-05, momentum=0.1, affine=True, track_running_stats=True)\n",
      "      (conv2): Conv2d(512, 512, kernel_size=(3, 3), stride=(1, 1), padding=(1, 1), bias=False)\n",
      "      (bn2): BatchNorm2d(512, eps=1e-05, momentum=0.1, affine=True, track_running_stats=True)\n",
      "      (conv3): Conv2d(512, 2048, kernel_size=(1, 1), stride=(1, 1), bias=False)\n",
      "      (bn3): BatchNorm2d(2048, eps=1e-05, momentum=0.1, affine=True, track_running_stats=True)\n",
      "      (relu): ReLU(inplace=True)\n",
      "    )\n",
      "  )\n",
      "  (avgpool): AdaptiveAvgPool2d(output_size=(1, 1))\n",
      "  (fc): Linear(in_features=2048, out_features=6, bias=True)\n",
      ")\n"
     ]
    }
   ],
   "source": [
    "# Initialize the model for this run\n",
    "model_ft, input_size = initialize_model(model_name, num_classes, feature_extract, use_pretrained=True)\n",
    "\n",
    "print(model_ft)"
   ]
  },
  {
   "cell_type": "code",
   "execution_count": 33,
   "metadata": {
    "colab": {
     "base_uri": "https://localhost:8080/"
    },
    "id": "ShoDci5yddVa",
    "outputId": "776eb60f-ed11-46bf-c692-b5c65f99b81e"
   },
   "outputs": [
    {
     "name": "stdout",
     "output_type": "stream",
     "text": [
      "Parameters to learn:\n",
      "\t fc.weight\n",
      "\t fc.bias\n"
     ]
    }
   ],
   "source": [
    "# Send the model to GPU\n",
    "model_ft = model_ft.to(device)\n",
    "\n",
    "# Gather the parameters to be optimized/updated in this run. \n",
    "params_to_update = model_ft.parameters()\n",
    "print(\"Parameters to learn:\")\n",
    "params_to_update = []\n",
    "for name,param in model_ft.named_parameters():\n",
    "    if param.requires_grad == True:\n",
    "            params_to_update.append(param)\n",
    "            print(\"\\t\",name)"
   ]
  },
  {
   "cell_type": "code",
   "execution_count": 34,
   "metadata": {
    "id": "ikghlVKOddVe"
   },
   "outputs": [],
   "source": [
    "# Only the parameters of the final layer are being optimized\n",
    "optimizer_ft = optim.Adam(params_to_update, lr=learning_rate, betas=(0.9, 0.999), eps=1e-08, weight_decay=weight_decay)\n",
    "\n",
    "# Setup the learning rate\n",
    "lr_scheduler = optim.lr_scheduler.CosineAnnealingLR(optimizer_ft, T_max=15, eta_min=learning_rate, last_epoch=-1, verbose=False)"
   ]
  },
  {
   "cell_type": "code",
   "execution_count": 35,
   "metadata": {
    "colab": {
     "base_uri": "https://localhost:8080/"
    },
    "id": "XrJSsCAYddVf",
    "outputId": "d65d2958-2f14-4a21-8126-a99c8ef1a075"
   },
   "outputs": [
    {
     "name": "stdout",
     "output_type": "stream",
     "text": [
      "Epoch 0/49\n",
      "----------\n",
      "train Loss: 1.8122 Acc: 0.2333\n",
      "val Loss: 1.9117 Acc: 0.2000\n",
      "\n",
      "Epoch 1/49\n",
      "----------\n",
      "train Loss: 2.4497 Acc: 0.6333\n",
      "val Loss: 1.7124 Acc: 0.2667\n",
      "\n",
      "Epoch 2/49\n",
      "----------\n",
      "train Loss: 2.3130 Acc: 0.2500\n",
      "val Loss: 1.9312 Acc: 0.2333\n",
      "\n",
      "Epoch 3/49\n",
      "----------\n",
      "train Loss: 2.0101 Acc: 0.5000\n",
      "val Loss: 2.4270 Acc: 0.1000\n",
      "\n",
      "Epoch 4/49\n",
      "----------\n",
      "train Loss: 1.5048 Acc: 0.6333\n",
      "val Loss: 2.4572 Acc: 0.3333\n",
      "\n",
      "Epoch 5/49\n",
      "----------\n",
      "train Loss: 1.1097 Acc: 0.7667\n",
      "val Loss: 2.7484 Acc: 0.2000\n",
      "\n",
      "Epoch 6/49\n",
      "----------\n",
      "train Loss: 1.7834 Acc: 0.5500\n",
      "val Loss: 2.3434 Acc: 0.1667\n",
      "\n",
      "Epoch 7/49\n",
      "----------\n",
      "train Loss: 0.7467 Acc: 0.7667\n",
      "val Loss: 2.0962 Acc: 0.4333\n",
      "\n",
      "Epoch 8/49\n",
      "----------\n",
      "train Loss: 0.2575 Acc: 0.9333\n",
      "val Loss: 2.3897 Acc: 0.4000\n",
      "\n",
      "Epoch 9/49\n",
      "----------\n",
      "train Loss: 0.3317 Acc: 0.9000\n",
      "val Loss: 2.7750 Acc: 0.3667\n",
      "\n",
      "Epoch 10/49\n",
      "----------\n",
      "train Loss: 0.4134 Acc: 0.9167\n",
      "val Loss: 2.9431 Acc: 0.3000\n",
      "\n",
      "Epoch 11/49\n",
      "----------\n",
      "train Loss: 0.4329 Acc: 0.8000\n",
      "val Loss: 2.8617 Acc: 0.4000\n",
      "\n",
      "Epoch 12/49\n",
      "----------\n",
      "train Loss: 0.2390 Acc: 0.9000\n",
      "val Loss: 2.7574 Acc: 0.4333\n",
      "\n",
      "Epoch 13/49\n",
      "----------\n",
      "train Loss: 0.2599 Acc: 0.9000\n",
      "val Loss: 2.7951 Acc: 0.4333\n",
      "\n",
      "Epoch 14/49\n",
      "----------\n",
      "train Loss: 0.4036 Acc: 0.8667\n",
      "val Loss: 2.8849 Acc: 0.3333\n",
      "\n",
      "Epoch 15/49\n",
      "----------\n",
      "train Loss: 0.2226 Acc: 0.9333\n",
      "val Loss: 2.8648 Acc: 0.3000\n",
      "\n",
      "Epoch 16/49\n",
      "----------\n",
      "train Loss: 0.2175 Acc: 0.9333\n",
      "val Loss: 2.7445 Acc: 0.3667\n",
      "\n",
      "Epoch 17/49\n",
      "----------\n",
      "train Loss: 0.1587 Acc: 0.9667\n",
      "val Loss: 2.6538 Acc: 0.3667\n",
      "\n",
      "Epoch 18/49\n",
      "----------\n",
      "train Loss: 0.2660 Acc: 0.9000\n",
      "val Loss: 2.7302 Acc: 0.4333\n",
      "\n",
      "Epoch 19/49\n",
      "----------\n",
      "train Loss: 0.1555 Acc: 0.9167\n",
      "val Loss: 2.9035 Acc: 0.3333\n",
      "\n",
      "Epoch 20/49\n",
      "----------\n",
      "train Loss: 0.1158 Acc: 0.9333\n",
      "val Loss: 3.2211 Acc: 0.3000\n",
      "\n",
      "Epoch 21/49\n",
      "----------\n",
      "train Loss: 0.0343 Acc: 1.0000\n",
      "val Loss: 3.4452 Acc: 0.3000\n",
      "\n",
      "Epoch 22/49\n",
      "----------\n",
      "train Loss: 0.0353 Acc: 1.0000\n",
      "val Loss: 3.7408 Acc: 0.3333\n",
      "\n",
      "Epoch 23/49\n",
      "----------\n",
      "train Loss: 0.1006 Acc: 0.9667\n",
      "val Loss: 3.9395 Acc: 0.2667\n",
      "\n",
      "Epoch 24/49\n",
      "----------\n",
      "train Loss: 0.0429 Acc: 0.9833\n",
      "val Loss: 3.9794 Acc: 0.2333\n",
      "\n",
      "Epoch 25/49\n",
      "----------\n",
      "train Loss: 0.0428 Acc: 0.9833\n",
      "val Loss: 4.0580 Acc: 0.2333\n",
      "\n",
      "Epoch 26/49\n",
      "----------\n",
      "train Loss: 0.1349 Acc: 0.9500\n",
      "val Loss: 4.1303 Acc: 0.2667\n",
      "\n",
      "Epoch 27/49\n",
      "----------\n",
      "train Loss: 0.0580 Acc: 0.9500\n",
      "val Loss: 4.3417 Acc: 0.2667\n",
      "\n",
      "Epoch 28/49\n",
      "----------\n",
      "train Loss: 0.0855 Acc: 0.9500\n",
      "val Loss: 4.6020 Acc: 0.2333\n",
      "\n",
      "Epoch 29/49\n",
      "----------\n",
      "train Loss: 0.1362 Acc: 0.9667\n",
      "val Loss: 4.7343 Acc: 0.2333\n",
      "\n",
      "Epoch 30/49\n",
      "----------\n",
      "train Loss: 0.0416 Acc: 0.9833\n",
      "val Loss: 4.9073 Acc: 0.2000\n",
      "\n",
      "Epoch 31/49\n",
      "----------\n",
      "train Loss: 0.1007 Acc: 0.9833\n",
      "val Loss: 4.9194 Acc: 0.1667\n",
      "\n",
      "Epoch 32/49\n",
      "----------\n",
      "train Loss: 0.1420 Acc: 0.9500\n",
      "val Loss: 4.8419 Acc: 0.1667\n",
      "\n",
      "Epoch 33/49\n",
      "----------\n",
      "train Loss: 0.0257 Acc: 1.0000\n",
      "val Loss: 4.7450 Acc: 0.1667\n",
      "\n",
      "Epoch 34/49\n",
      "----------\n",
      "train Loss: 0.0390 Acc: 0.9833\n",
      "val Loss: 4.7905 Acc: 0.1333\n",
      "\n",
      "Epoch 35/49\n",
      "----------\n",
      "train Loss: 0.0734 Acc: 0.9833\n",
      "val Loss: 5.0895 Acc: 0.1333\n",
      "\n",
      "Epoch 36/49\n",
      "----------\n",
      "train Loss: 0.1042 Acc: 0.9667\n",
      "val Loss: 5.3173 Acc: 0.1333\n",
      "\n",
      "Epoch 37/49\n",
      "----------\n",
      "train Loss: 0.0277 Acc: 1.0000\n",
      "val Loss: 5.5909 Acc: 0.1333\n",
      "\n",
      "Epoch 38/49\n",
      "----------\n",
      "train Loss: 0.0219 Acc: 1.0000\n",
      "val Loss: 6.0668 Acc: 0.1333\n",
      "\n",
      "Epoch 39/49\n",
      "----------\n",
      "train Loss: 0.0140 Acc: 1.0000\n",
      "val Loss: 6.4690 Acc: 0.1667\n",
      "\n",
      "Epoch 40/49\n",
      "----------\n",
      "train Loss: 0.1139 Acc: 0.9667\n",
      "val Loss: 6.8528 Acc: 0.1667\n",
      "\n",
      "Epoch 41/49\n",
      "----------\n",
      "train Loss: 0.0970 Acc: 0.9833\n",
      "val Loss: 7.0329 Acc: 0.1667\n",
      "\n",
      "Epoch 42/49\n",
      "----------\n",
      "train Loss: 0.0977 Acc: 0.9667\n",
      "val Loss: 6.9867 Acc: 0.1667\n",
      "\n",
      "Epoch 43/49\n",
      "----------\n",
      "train Loss: 0.0514 Acc: 0.9833\n",
      "val Loss: 6.4432 Acc: 0.1667\n",
      "\n",
      "Epoch 44/49\n",
      "----------\n",
      "train Loss: 0.0764 Acc: 0.9500\n",
      "val Loss: 5.6577 Acc: 0.2000\n",
      "\n",
      "Epoch 45/49\n",
      "----------\n",
      "train Loss: 0.0732 Acc: 0.9667\n",
      "val Loss: 4.9289 Acc: 0.1667\n",
      "\n",
      "Epoch 46/49\n",
      "----------\n",
      "train Loss: 0.0287 Acc: 0.9833\n",
      "val Loss: 4.3326 Acc: 0.1000\n",
      "\n",
      "Epoch 47/49\n",
      "----------\n",
      "train Loss: 0.0639 Acc: 0.9833\n",
      "val Loss: 4.0419 Acc: 0.1667\n",
      "\n",
      "Epoch 48/49\n",
      "----------\n",
      "train Loss: 0.0585 Acc: 0.9833\n",
      "val Loss: 3.9367 Acc: 0.1667\n",
      "\n",
      "Epoch 49/49\n",
      "----------\n",
      "train Loss: 0.0232 Acc: 1.0000\n",
      "val Loss: 3.8964 Acc: 0.1333\n",
      "\n",
      "Training complete in 0m 50s\n",
      "Best val Acc: 0.433333\n"
     ]
    }
   ],
   "source": [
    "model_res50 = train_model(model_ft, dataloaders_dict, criterion, optimizer_ft, lr_scheduler, num_epochs=num_epochs)"
   ]
  },
  {
   "cell_type": "code",
   "execution_count": 36,
   "metadata": {
    "id": "oTA8H2BZCZeH"
   },
   "outputs": [],
   "source": [
    "# Save model and state_dictionary: the trained parameters of the model\n",
    "model_res50.to(device)\n",
    "torch.save({'arch': 'res50',\n",
    "            'state_dict': model_res50.state_dict()}, \n",
    "            'resnet50.pth')\n",
    "# Save Model path to use it later\n",
    "resnet50_path='/content/resnet50.pth'\n",
    "checkpoint_res50 = torch.load(resnet50_path)"
   ]
  },
  {
   "cell_type": "markdown",
   "metadata": {},
   "source": [
    "The best found accuracy by <mark style=\"background-color: Gainsboro\">resnet50</mark> is <b>43.3%</b>"
   ]
  },
  {
   "cell_type": "markdown",
   "metadata": {
    "id": "HzBB5o1mddVj"
   },
   "source": [
    "## Model 3: VGG11_bn"
   ]
  },
  {
   "cell_type": "code",
   "execution_count": 37,
   "metadata": {
    "id": "oh28EA0fddVl"
   },
   "outputs": [],
   "source": [
    "model_name = 'vgg'"
   ]
  },
  {
   "cell_type": "code",
   "execution_count": 38,
   "metadata": {
    "colab": {
     "base_uri": "https://localhost:8080/",
     "height": 876,
     "referenced_widgets": [
      "a2345fca8d4f4410ae7296dcbbe04edc",
      "543f3a904a40465a90fce237d2c9add1",
      "7758c615f77a40ac8cf8b45f77b2c896",
      "5fed0dd7d3ea462a9a64079fc7bab4df",
      "832ce302ae134ff68a74d9767a7bd42c",
      "295aa6dcb0e545c69124922c2efd6e0e",
      "fe30d1fc8e954223b93ad145322adbb1",
      "689502b218884cefbef466b22ca1bcb6"
     ]
    },
    "id": "W28xfS0addVm",
    "outputId": "fc8fefdd-5c40-41f9-ca3a-0c34b4e77cdb"
   },
   "outputs": [
    {
     "name": "stderr",
     "output_type": "stream",
     "text": [
      "Downloading: \"https://download.pytorch.org/models/vgg11_bn-6002323d.pth\" to /root/.cache/torch/hub/checkpoints/vgg11_bn-6002323d.pth\n"
     ]
    },
    {
     "data": {
      "application/vnd.jupyter.widget-view+json": {
       "model_id": "a2345fca8d4f4410ae7296dcbbe04edc",
       "version_major": 2,
       "version_minor": 0
      },
      "text/plain": [
       "HBox(children=(FloatProgress(value=0.0, max=531503671.0), HTML(value='')))"
      ]
     },
     "metadata": {
      "tags": []
     },
     "output_type": "display_data"
    },
    {
     "name": "stdout",
     "output_type": "stream",
     "text": [
      "\n",
      "VGG(\n",
      "  (features): Sequential(\n",
      "    (0): Conv2d(3, 64, kernel_size=(3, 3), stride=(1, 1), padding=(1, 1))\n",
      "    (1): BatchNorm2d(64, eps=1e-05, momentum=0.1, affine=True, track_running_stats=True)\n",
      "    (2): ReLU(inplace=True)\n",
      "    (3): MaxPool2d(kernel_size=2, stride=2, padding=0, dilation=1, ceil_mode=False)\n",
      "    (4): Conv2d(64, 128, kernel_size=(3, 3), stride=(1, 1), padding=(1, 1))\n",
      "    (5): BatchNorm2d(128, eps=1e-05, momentum=0.1, affine=True, track_running_stats=True)\n",
      "    (6): ReLU(inplace=True)\n",
      "    (7): MaxPool2d(kernel_size=2, stride=2, padding=0, dilation=1, ceil_mode=False)\n",
      "    (8): Conv2d(128, 256, kernel_size=(3, 3), stride=(1, 1), padding=(1, 1))\n",
      "    (9): BatchNorm2d(256, eps=1e-05, momentum=0.1, affine=True, track_running_stats=True)\n",
      "    (10): ReLU(inplace=True)\n",
      "    (11): Conv2d(256, 256, kernel_size=(3, 3), stride=(1, 1), padding=(1, 1))\n",
      "    (12): BatchNorm2d(256, eps=1e-05, momentum=0.1, affine=True, track_running_stats=True)\n",
      "    (13): ReLU(inplace=True)\n",
      "    (14): MaxPool2d(kernel_size=2, stride=2, padding=0, dilation=1, ceil_mode=False)\n",
      "    (15): Conv2d(256, 512, kernel_size=(3, 3), stride=(1, 1), padding=(1, 1))\n",
      "    (16): BatchNorm2d(512, eps=1e-05, momentum=0.1, affine=True, track_running_stats=True)\n",
      "    (17): ReLU(inplace=True)\n",
      "    (18): Conv2d(512, 512, kernel_size=(3, 3), stride=(1, 1), padding=(1, 1))\n",
      "    (19): BatchNorm2d(512, eps=1e-05, momentum=0.1, affine=True, track_running_stats=True)\n",
      "    (20): ReLU(inplace=True)\n",
      "    (21): MaxPool2d(kernel_size=2, stride=2, padding=0, dilation=1, ceil_mode=False)\n",
      "    (22): Conv2d(512, 512, kernel_size=(3, 3), stride=(1, 1), padding=(1, 1))\n",
      "    (23): BatchNorm2d(512, eps=1e-05, momentum=0.1, affine=True, track_running_stats=True)\n",
      "    (24): ReLU(inplace=True)\n",
      "    (25): Conv2d(512, 512, kernel_size=(3, 3), stride=(1, 1), padding=(1, 1))\n",
      "    (26): BatchNorm2d(512, eps=1e-05, momentum=0.1, affine=True, track_running_stats=True)\n",
      "    (27): ReLU(inplace=True)\n",
      "    (28): MaxPool2d(kernel_size=2, stride=2, padding=0, dilation=1, ceil_mode=False)\n",
      "  )\n",
      "  (avgpool): AdaptiveAvgPool2d(output_size=(7, 7))\n",
      "  (classifier): Sequential(\n",
      "    (0): Linear(in_features=25088, out_features=4096, bias=True)\n",
      "    (1): ReLU(inplace=True)\n",
      "    (2): Dropout(p=0.5, inplace=False)\n",
      "    (3): Linear(in_features=4096, out_features=4096, bias=True)\n",
      "    (4): ReLU(inplace=True)\n",
      "    (5): Dropout(p=0.5, inplace=False)\n",
      "    (6): Linear(in_features=4096, out_features=6, bias=True)\n",
      "  )\n",
      ")\n"
     ]
    }
   ],
   "source": [
    "# Initialize the model for this run\n",
    "model_ft, input_size = initialize_model(model_name, num_classes, feature_extract, use_pretrained=True)\n",
    "\n",
    "print(model_ft)"
   ]
  },
  {
   "cell_type": "code",
   "execution_count": 39,
   "metadata": {
    "colab": {
     "base_uri": "https://localhost:8080/"
    },
    "id": "VNF_WP0yddVo",
    "outputId": "798d9808-9a61-476e-ad16-8d3a840bcff9"
   },
   "outputs": [
    {
     "name": "stdout",
     "output_type": "stream",
     "text": [
      "Parameters to learn:\n",
      "\t classifier.6.weight\n",
      "\t classifier.6.bias\n"
     ]
    }
   ],
   "source": [
    "# Send the model to GPU\n",
    "model_ft = model_ft.to(device)\n",
    "\n",
    "# Gather the parameters to be optimized/updated in this run. \n",
    "params_to_update = model_ft.parameters()\n",
    "print(\"Parameters to learn:\")\n",
    "params_to_update = []\n",
    "for name,param in model_ft.named_parameters():\n",
    "    if param.requires_grad == True:\n",
    "            params_to_update.append(param)\n",
    "            print(\"\\t\",name)"
   ]
  },
  {
   "cell_type": "code",
   "execution_count": 40,
   "metadata": {
    "id": "TvbmTW2tddVs"
   },
   "outputs": [],
   "source": [
    "# Only the parameters of the final layer are being optimized\n",
    "optimizer_ft = optim.Adam(params_to_update, lr=learning_rate, betas=(0.9, 0.999), eps=1e-08, weight_decay=weight_decay)\n",
    "\n",
    "# Setup the learning rate\n",
    "lr_scheduler = optim.lr_scheduler.CosineAnnealingLR(optimizer_ft, T_max=15, eta_min=learning_rate, last_epoch=-1, verbose=False)"
   ]
  },
  {
   "cell_type": "code",
   "execution_count": 41,
   "metadata": {
    "colab": {
     "base_uri": "https://localhost:8080/"
    },
    "id": "oPasSZjNddVu",
    "outputId": "cae46075-f018-4d09-9060-8c1823ba1ac0"
   },
   "outputs": [
    {
     "name": "stdout",
     "output_type": "stream",
     "text": [
      "Epoch 0/49\n",
      "----------\n",
      "train Loss: 1.8531 Acc: 0.1167\n",
      "val Loss: 1.5637 Acc: 0.4333\n",
      "\n",
      "Epoch 1/49\n",
      "----------\n",
      "train Loss: 0.5401 Acc: 0.8167\n",
      "val Loss: 2.6344 Acc: 0.3333\n",
      "\n",
      "Epoch 2/49\n",
      "----------\n",
      "train Loss: 0.2916 Acc: 0.8833\n",
      "val Loss: 3.5791 Acc: 0.3000\n",
      "\n",
      "Epoch 3/49\n",
      "----------\n",
      "train Loss: 0.1340 Acc: 0.9667\n",
      "val Loss: 3.5919 Acc: 0.3333\n",
      "\n",
      "Epoch 4/49\n",
      "----------\n",
      "train Loss: 0.2909 Acc: 0.9333\n",
      "val Loss: 3.2205 Acc: 0.3667\n",
      "\n",
      "Epoch 5/49\n",
      "----------\n",
      "train Loss: 0.1801 Acc: 0.9500\n",
      "val Loss: 2.7125 Acc: 0.3333\n",
      "\n",
      "Epoch 6/49\n",
      "----------\n",
      "train Loss: 0.0120 Acc: 1.0000\n",
      "val Loss: 2.4043 Acc: 0.3333\n",
      "\n",
      "Epoch 7/49\n",
      "----------\n",
      "train Loss: 0.1325 Acc: 0.9833\n",
      "val Loss: 2.4699 Acc: 0.3667\n",
      "\n",
      "Epoch 8/49\n",
      "----------\n",
      "train Loss: 0.1052 Acc: 0.9667\n",
      "val Loss: 2.6398 Acc: 0.3333\n",
      "\n",
      "Epoch 9/49\n",
      "----------\n",
      "train Loss: 0.3950 Acc: 0.9000\n",
      "val Loss: 2.8427 Acc: 0.3333\n",
      "\n",
      "Epoch 10/49\n",
      "----------\n",
      "train Loss: 0.2678 Acc: 0.9667\n",
      "val Loss: 3.1344 Acc: 0.2333\n",
      "\n",
      "Epoch 11/49\n",
      "----------\n",
      "train Loss: 0.1605 Acc: 0.9667\n",
      "val Loss: 3.5384 Acc: 0.3667\n",
      "\n",
      "Epoch 12/49\n",
      "----------\n",
      "train Loss: 0.1069 Acc: 0.9500\n",
      "val Loss: 3.8083 Acc: 0.3667\n",
      "\n",
      "Epoch 13/49\n",
      "----------\n",
      "train Loss: 0.1495 Acc: 0.9333\n",
      "val Loss: 4.0071 Acc: 0.2667\n",
      "\n",
      "Epoch 14/49\n",
      "----------\n",
      "train Loss: 0.0479 Acc: 0.9833\n",
      "val Loss: 4.3702 Acc: 0.2000\n",
      "\n",
      "Epoch 15/49\n",
      "----------\n",
      "train Loss: 0.1968 Acc: 0.9667\n",
      "val Loss: 4.9963 Acc: 0.2000\n",
      "\n",
      "Epoch 16/49\n",
      "----------\n",
      "train Loss: 0.0335 Acc: 1.0000\n",
      "val Loss: 5.6383 Acc: 0.2000\n",
      "\n",
      "Epoch 17/49\n",
      "----------\n",
      "train Loss: 0.1264 Acc: 0.9833\n",
      "val Loss: 6.0977 Acc: 0.2000\n",
      "\n",
      "Epoch 18/49\n",
      "----------\n",
      "train Loss: 0.1719 Acc: 0.9833\n",
      "val Loss: 6.2470 Acc: 0.2000\n",
      "\n",
      "Epoch 19/49\n",
      "----------\n",
      "train Loss: 0.0311 Acc: 0.9833\n",
      "val Loss: 6.4151 Acc: 0.2000\n",
      "\n",
      "Epoch 20/49\n",
      "----------\n",
      "train Loss: 0.1028 Acc: 0.9667\n",
      "val Loss: 6.3586 Acc: 0.2000\n",
      "\n",
      "Epoch 21/49\n",
      "----------\n",
      "train Loss: 0.1342 Acc: 0.9667\n",
      "val Loss: 6.1337 Acc: 0.2667\n",
      "\n",
      "Epoch 22/49\n",
      "----------\n",
      "train Loss: 0.0915 Acc: 0.9833\n",
      "val Loss: 6.0932 Acc: 0.2667\n",
      "\n",
      "Epoch 23/49\n",
      "----------\n",
      "train Loss: 0.2058 Acc: 0.9667\n",
      "val Loss: 6.0584 Acc: 0.2667\n",
      "\n",
      "Epoch 24/49\n",
      "----------\n",
      "train Loss: 0.0175 Acc: 1.0000\n",
      "val Loss: 6.0256 Acc: 0.2667\n",
      "\n",
      "Epoch 25/49\n",
      "----------\n",
      "train Loss: 0.2154 Acc: 0.9667\n",
      "val Loss: 6.1045 Acc: 0.3000\n",
      "\n",
      "Epoch 26/49\n",
      "----------\n",
      "train Loss: 0.0159 Acc: 1.0000\n",
      "val Loss: 6.1380 Acc: 0.3000\n",
      "\n",
      "Epoch 27/49\n",
      "----------\n",
      "train Loss: 0.1646 Acc: 0.9333\n",
      "val Loss: 6.1773 Acc: 0.3000\n",
      "\n",
      "Epoch 28/49\n",
      "----------\n",
      "train Loss: 0.0314 Acc: 0.9833\n",
      "val Loss: 6.3316 Acc: 0.2667\n",
      "\n",
      "Epoch 29/49\n",
      "----------\n",
      "train Loss: 0.1065 Acc: 0.9667\n",
      "val Loss: 6.4602 Acc: 0.2667\n",
      "\n",
      "Epoch 30/49\n",
      "----------\n",
      "train Loss: 0.0257 Acc: 1.0000\n",
      "val Loss: 6.6819 Acc: 0.2667\n",
      "\n",
      "Epoch 31/49\n",
      "----------\n",
      "train Loss: 0.1458 Acc: 0.9667\n",
      "val Loss: 6.9127 Acc: 0.2667\n",
      "\n",
      "Epoch 32/49\n",
      "----------\n",
      "train Loss: 0.0537 Acc: 0.9833\n",
      "val Loss: 7.0940 Acc: 0.2667\n",
      "\n",
      "Epoch 33/49\n",
      "----------\n",
      "train Loss: 0.0158 Acc: 1.0000\n",
      "val Loss: 7.3213 Acc: 0.2667\n",
      "\n",
      "Epoch 34/49\n",
      "----------\n",
      "train Loss: 0.0182 Acc: 1.0000\n",
      "val Loss: 7.5081 Acc: 0.2333\n",
      "\n",
      "Epoch 35/49\n",
      "----------\n",
      "train Loss: 0.0435 Acc: 0.9667\n",
      "val Loss: 7.5057 Acc: 0.2333\n",
      "\n",
      "Epoch 36/49\n",
      "----------\n",
      "train Loss: 0.0665 Acc: 0.9833\n",
      "val Loss: 7.4655 Acc: 0.2333\n",
      "\n",
      "Epoch 37/49\n",
      "----------\n",
      "train Loss: 0.0393 Acc: 0.9833\n",
      "val Loss: 7.3192 Acc: 0.2333\n",
      "\n",
      "Epoch 38/49\n",
      "----------\n",
      "train Loss: 0.2003 Acc: 0.9500\n",
      "val Loss: 7.2476 Acc: 0.2333\n",
      "\n",
      "Epoch 39/49\n",
      "----------\n",
      "train Loss: 0.1680 Acc: 0.9500\n",
      "val Loss: 6.8758 Acc: 0.2333\n",
      "\n",
      "Epoch 40/49\n",
      "----------\n",
      "train Loss: 0.1346 Acc: 0.9833\n",
      "val Loss: 6.4580 Acc: 0.2667\n",
      "\n",
      "Epoch 41/49\n",
      "----------\n",
      "train Loss: 0.0340 Acc: 0.9833\n",
      "val Loss: 6.0579 Acc: 0.2667\n",
      "\n",
      "Epoch 42/49\n",
      "----------\n",
      "train Loss: 0.0190 Acc: 0.9833\n",
      "val Loss: 5.7719 Acc: 0.2667\n",
      "\n",
      "Epoch 43/49\n",
      "----------\n",
      "train Loss: 0.0591 Acc: 0.9833\n",
      "val Loss: 5.6302 Acc: 0.2667\n",
      "\n",
      "Epoch 44/49\n",
      "----------\n",
      "train Loss: 0.4237 Acc: 0.9167\n",
      "val Loss: 5.7082 Acc: 0.2667\n",
      "\n",
      "Epoch 45/49\n",
      "----------\n",
      "train Loss: 0.4105 Acc: 0.9333\n",
      "val Loss: 5.9038 Acc: 0.2667\n",
      "\n",
      "Epoch 46/49\n",
      "----------\n",
      "train Loss: 0.1130 Acc: 0.9333\n",
      "val Loss: 6.1871 Acc: 0.2667\n",
      "\n",
      "Epoch 47/49\n",
      "----------\n",
      "train Loss: 0.0048 Acc: 1.0000\n",
      "val Loss: 6.5091 Acc: 0.2667\n",
      "\n",
      "Epoch 48/49\n",
      "----------\n",
      "train Loss: 0.0549 Acc: 0.9833\n",
      "val Loss: 6.8476 Acc: 0.2333\n",
      "\n",
      "Epoch 49/49\n",
      "----------\n",
      "train Loss: 0.3157 Acc: 0.9500\n",
      "val Loss: 6.8642 Acc: 0.2000\n",
      "\n",
      "Training complete in 0m 53s\n",
      "Best val Acc: 0.433333\n"
     ]
    }
   ],
   "source": [
    "model_vgg11 = train_model(model_ft, dataloaders_dict, criterion, optimizer_ft, lr_scheduler, num_epochs=num_epochs)"
   ]
  },
  {
   "cell_type": "code",
   "execution_count": 42,
   "metadata": {
    "id": "hzS0HWdkC6eA"
   },
   "outputs": [],
   "source": [
    "# Save model and state_dictionary: the trained parameters of the model\n",
    "model_vgg11.to(device)\n",
    "torch.save({'arch': 'vgg11',\n",
    "            'state_dict': model_vgg11.state_dict()}, \n",
    "            'vgg11.pth')\n",
    "# Save Model path to use it later\n",
    "vgg11_path='/content/vgg11.pth'\n",
    "checkpoint_vgg11 = torch.load(vgg11_path)"
   ]
  },
  {
   "cell_type": "markdown",
   "metadata": {},
   "source": [
    "The best found accuracy by <mark style=\"background-color: Gainsboro\">vgg11_bn</mark> is <b>43.3%</b>"
   ]
  },
  {
   "cell_type": "markdown",
   "metadata": {
    "id": "bqpXrtc4ddVw"
   },
   "source": [
    "All the models perform equally well with an accuracy at <b>43.3%</b>"
   ]
  },
  {
   "cell_type": "markdown",
   "metadata": {
    "id": "wyvV_jkyddVw"
   },
   "source": [
    "## Ensemble Methods"
   ]
  },
  {
   "cell_type": "markdown",
   "metadata": {
    "id": "Cpw2j9pIddWI"
   },
   "source": [
    "###  Ensemble Method 1: Majority Vote for best accuracy"
   ]
  },
  {
   "cell_type": "markdown",
   "metadata": {
    "id": "OlcOGA7yddWJ"
   },
   "source": [
    "The following ensembling method selects uses the three models trained previsouly <mark style=\"background-color: Gainsboro\">resnet18</mark>, <mark style=\"background-color: Gainsboro\">resnet50</mark> and <mark style=\"background-color: Gainsboro\">vgg11_bn</mark>.\n",
    "Each model makes a prediction for each image of the test set. And we compute a majority vote to calculate the best accuracy for this image."
   ]
  },
  {
   "cell_type": "code",
   "execution_count": 43,
   "metadata": {
    "id": "kXkdlRYPddWO"
   },
   "outputs": [],
   "source": [
    "def compute_accuracy(preds, labels):\n",
    "    preds = np.array(preds)\n",
    "    labels = np.array(labels)\n",
    "    return 100 * (preds == labels).sum() / len(preds)"
   ]
  },
  {
   "cell_type": "code",
   "execution_count": 44,
   "metadata": {
    "colab": {
     "base_uri": "https://localhost:8080/"
    },
    "id": "h03QMhYaddWQ",
    "outputId": "9a618dd5-c4eb-4312-f0f3-7f27c04bfbd3"
   },
   "outputs": [
    {
     "name": "stdout",
     "output_type": "stream",
     "text": [
      "Accuracy: 36.67%\n"
     ]
    }
   ],
   "source": [
    "# Test Each Model and Take The Best Accuracy\n",
    "if __name__ == \"__main__\":\n",
    "\n",
    "    device = torch.device(\"cuda:0\" if torch.cuda.is_available() else \"cpu\")\n",
    "\n",
    "    test_data = dataloaders_dict['val']\n",
    "    models = [model_res18, model_res50, model_vgg11]  # [resnet18, resnet50, vgg11]\n",
    "\n",
    "    # Set models to eval mode\n",
    "    for model in models:\n",
    "        model.eval()\n",
    "        # Transfer the model on the GPU\n",
    "        model = model.to(device)\n",
    "\n",
    "    all_preds = []\n",
    "    all_labels = []\n",
    "\n",
    "    with torch.no_grad():  # Do not compute gradients\n",
    "        for batch in test_data:\n",
    "            imgs, labels = batch\n",
    "            # Transfer data to GPU\n",
    "            imgs, labels = imgs.to(device), labels.to(device)\n",
    "            preds = []\n",
    "            for model in models:\n",
    "                # Each model makes a prediction\n",
    "                # Take index of max output for each model\n",
    "                pred = model(imgs).argmax(dim=1).cpu().numpy()\n",
    "                preds.append(pred)\n",
    "            # Aggregate prediction in an array and transpose\n",
    "            preds = np.array(preds).T\n",
    "            for p in preds:\n",
    "                # Take majority vote\n",
    "                all_preds.append(max(set(list(p)), key=list(p).count))\n",
    "            all_labels.extend(labels.cpu().numpy().tolist())\n",
    "\n",
    "    assert len(all_preds) == len(all_labels)\n",
    "    accuracy = compute_accuracy(all_preds, all_labels)\n",
    "    print(f\"Accuracy: {accuracy:.2f}%\")"
   ]
  },
  {
   "cell_type": "markdown",
   "metadata": {
    "id": "KlnUasLeddVx"
   },
   "source": [
    "###  Ensemble Method 1: New Classifier with 2 models"
   ]
  },
  {
   "cell_type": "markdown",
   "metadata": {
    "id": "UMPDgAc81rYL"
   },
   "source": [
    "#### Trial 1: Resnet18 and Vgg11"
   ]
  },
  {
   "cell_type": "markdown",
   "metadata": {
    "id": "1ZqEmgdvddVz"
   },
   "source": [
    "We're going to combine our two best models:<mark style=\"background-color: Gainsboro\">resnet18</mark> and <mark style=\"background-color: Gainsboro\">vgg11_bn</mark> into a unique classifier."
   ]
  },
  {
   "cell_type": "code",
   "execution_count": 45,
   "metadata": {
    "id": "xKUk6cHHEdlX"
   },
   "outputs": [],
   "source": [
    " # Use previously trained models\n",
    " modelA = model_res18\n",
    " modelB = model_vgg11"
   ]
  },
  {
   "cell_type": "code",
   "execution_count": 46,
   "metadata": {
    "colab": {
     "base_uri": "https://localhost:8080/"
    },
    "id": "UEWSXlEJF73L",
    "outputId": "e29b9bc4-b73f-4c0d-eefb-ef2801be4ef3"
   },
   "outputs": [
    {
     "data": {
      "text/plain": [
       "<All keys matched successfully>"
      ]
     },
     "execution_count": 46,
     "metadata": {
      "tags": []
     },
     "output_type": "execute_result"
    }
   ],
   "source": [
    "# Freeze parameters\n",
    "for param in modelA.parameters():\n",
    "    param.requires_grad_(False)\n",
    "\n",
    "for param in modelB.parameters():\n",
    "    param.requires_grad_(False)\n",
    "#Load model and state_dictionary\n",
    "modelA.load_state_dict(checkpoint_res18['state_dict'])\n",
    "modelB.load_state_dict(checkpoint_vgg11['state_dict'])"
   ]
  },
  {
   "cell_type": "markdown",
   "metadata": {
    "id": "AAdu9X0HddV9"
   },
   "source": [
    "We pass the <mark style=\"background-color: Gainsboro\">resnet18</mark> and <mark style=\"background-color: Gainsboro\">vgg11_bn</mark> pretrained models to the MyEnsemble model which removes the the last classification layer of the two models, and we add a classifier head on top of their concatenated outputs."
   ]
  },
  {
   "cell_type": "code",
   "execution_count": 47,
   "metadata": {
    "id": "5ubdKrxaddV_"
   },
   "outputs": [],
   "source": [
    "# Build the Ensembling Classifier\n",
    "class MyEnsemble(nn.Module):\n",
    "    def __init__(self, modelA, modelB, nb_classes=6):\n",
    "        super(MyEnsemble, self).__init__()\n",
    "        self.modelA = modelA\n",
    "        self.modelB = modelB\n",
    "        # Remove last linear layer\n",
    "        self.modelA.fc = nn.Identity()\n",
    "        self.modelB.classifier[6] = nn.Identity()\n",
    "        \n",
    "        # Add new classifier\n",
    "        # The number of input features is the sum Model C and D outputs\n",
    "        # Model C (Resnet50) outputs 2048 features\n",
    "        # Model D (Vgg11_bn) outputs 4096 features\n",
    "        self.classifier = nn.Linear(512+4096, 6)\n",
    "        \n",
    "    def forward(self, x):\n",
    "        x1 = self.modelA(x.clone())  # clone to make sure x is not changed by inplace methods\n",
    "        x1 = x1.view(x1.size(0), -1)\n",
    "        x2 = self.modelB(x)\n",
    "        x2 = x2.view(x2.size(0), -1)\n",
    "        x = torch.cat((x1, x2), dim=1)\n",
    "        \n",
    "        x = self.classifier(F.relu(x))\n",
    "        return x"
   ]
  },
  {
   "cell_type": "code",
   "execution_count": 48,
   "metadata": {
    "id": "pGfauwoGddWD"
   },
   "outputs": [],
   "source": [
    "# Create the Ensemble Classifier\n",
    "model_ens = MyEnsemble(modelA, modelB).to(device)"
   ]
  },
  {
   "cell_type": "code",
   "execution_count": 49,
   "metadata": {
    "id": "72gLyFuTddWE"
   },
   "outputs": [],
   "source": [
    "# Define Optimizer and Learning Rate Scheduler\n",
    "optimizer_ens = torch.optim.Adam(model_ens.parameters(), lr=learning_rate)\n",
    "lr_scheduler_ens = optim.lr_scheduler.CosineAnnealingLR(optimizer_ens, T_max=15, eta_min=learning_rate, last_epoch=-1, verbose=False)"
   ]
  },
  {
   "cell_type": "code",
   "execution_count": 50,
   "metadata": {
    "colab": {
     "base_uri": "https://localhost:8080/"
    },
    "id": "fA0X4U1Ec9Nh",
    "outputId": "3e8070eb-6fb5-4e12-e1ca-be077ec5d7bf"
   },
   "outputs": [
    {
     "name": "stdout",
     "output_type": "stream",
     "text": [
      "Epoch 0/49\n",
      "----------\n",
      "train Loss: 1.9191 Acc: 0.1333\n",
      "val Loss: 2.2795 Acc: 0.1667\n",
      "\n",
      "Epoch 1/49\n",
      "----------\n",
      "train Loss: 0.4842 Acc: 0.8000\n",
      "val Loss: 2.9371 Acc: 0.1667\n",
      "\n",
      "Epoch 2/49\n",
      "----------\n",
      "train Loss: 0.4859 Acc: 0.8500\n",
      "val Loss: 2.3944 Acc: 0.3000\n",
      "\n",
      "Epoch 3/49\n",
      "----------\n",
      "train Loss: 0.0992 Acc: 0.9667\n",
      "val Loss: 2.3157 Acc: 0.4000\n",
      "\n",
      "Epoch 4/49\n",
      "----------\n",
      "train Loss: 0.1011 Acc: 0.9667\n",
      "val Loss: 1.8844 Acc: 0.3667\n",
      "\n",
      "Epoch 5/49\n",
      "----------\n",
      "train Loss: 0.1542 Acc: 0.9500\n",
      "val Loss: 1.5162 Acc: 0.5667\n",
      "\n",
      "Epoch 6/49\n",
      "----------\n",
      "train Loss: 0.0630 Acc: 0.9833\n",
      "val Loss: 1.3796 Acc: 0.5000\n",
      "\n",
      "Epoch 7/49\n",
      "----------\n",
      "train Loss: 0.4007 Acc: 0.9167\n",
      "val Loss: 1.8518 Acc: 0.4333\n",
      "\n",
      "Epoch 8/49\n",
      "----------\n",
      "train Loss: 0.1675 Acc: 0.9500\n",
      "val Loss: 2.6562 Acc: 0.4000\n",
      "\n",
      "Epoch 9/49\n",
      "----------\n",
      "train Loss: 0.3531 Acc: 0.9333\n",
      "val Loss: 3.7500 Acc: 0.4000\n",
      "\n",
      "Epoch 10/49\n",
      "----------\n",
      "train Loss: 0.1342 Acc: 0.9667\n",
      "val Loss: 4.8657 Acc: 0.2333\n",
      "\n",
      "Epoch 11/49\n",
      "----------\n",
      "train Loss: 0.0639 Acc: 0.9833\n",
      "val Loss: 5.8119 Acc: 0.2000\n",
      "\n",
      "Epoch 12/49\n",
      "----------\n",
      "train Loss: 0.1608 Acc: 0.9500\n",
      "val Loss: 6.7498 Acc: 0.2000\n",
      "\n",
      "Epoch 13/49\n",
      "----------\n",
      "train Loss: 0.1950 Acc: 0.9667\n",
      "val Loss: 7.3045 Acc: 0.2000\n",
      "\n",
      "Epoch 14/49\n",
      "----------\n",
      "train Loss: 0.0094 Acc: 1.0000\n",
      "val Loss: 7.8271 Acc: 0.2000\n",
      "\n",
      "Epoch 15/49\n",
      "----------\n",
      "train Loss: 0.2333 Acc: 0.9500\n",
      "val Loss: 8.2317 Acc: 0.2333\n",
      "\n",
      "Epoch 16/49\n",
      "----------\n",
      "train Loss: 0.2419 Acc: 0.9167\n",
      "val Loss: 8.1490 Acc: 0.2667\n",
      "\n",
      "Epoch 17/49\n",
      "----------\n",
      "train Loss: 0.3546 Acc: 0.9500\n",
      "val Loss: 7.7894 Acc: 0.3333\n",
      "\n",
      "Epoch 18/49\n",
      "----------\n",
      "train Loss: 0.0376 Acc: 0.9833\n",
      "val Loss: 7.7713 Acc: 0.3333\n",
      "\n",
      "Epoch 19/49\n",
      "----------\n",
      "train Loss: 0.2625 Acc: 0.9167\n",
      "val Loss: 7.7497 Acc: 0.3000\n",
      "\n",
      "Epoch 20/49\n",
      "----------\n",
      "train Loss: 0.0032 Acc: 1.0000\n",
      "val Loss: 7.7834 Acc: 0.3000\n",
      "\n",
      "Epoch 21/49\n",
      "----------\n",
      "train Loss: 0.0179 Acc: 0.9833\n",
      "val Loss: 7.8818 Acc: 0.3000\n",
      "\n",
      "Epoch 22/49\n",
      "----------\n",
      "train Loss: 0.2390 Acc: 0.9333\n",
      "val Loss: 8.1138 Acc: 0.2667\n",
      "\n",
      "Epoch 23/49\n",
      "----------\n",
      "train Loss: 0.1134 Acc: 0.9500\n",
      "val Loss: 8.5294 Acc: 0.2667\n",
      "\n",
      "Epoch 24/49\n",
      "----------\n",
      "train Loss: 0.0176 Acc: 0.9833\n",
      "val Loss: 9.0035 Acc: 0.2667\n",
      "\n",
      "Epoch 25/49\n",
      "----------\n",
      "train Loss: 0.0111 Acc: 1.0000\n",
      "val Loss: 9.6272 Acc: 0.2667\n",
      "\n",
      "Epoch 26/49\n",
      "----------\n",
      "train Loss: 0.1561 Acc: 0.9667\n",
      "val Loss: 10.4994 Acc: 0.2333\n",
      "\n",
      "Epoch 27/49\n",
      "----------\n",
      "train Loss: 0.0110 Acc: 1.0000\n",
      "val Loss: 11.1942 Acc: 0.2333\n",
      "\n",
      "Epoch 28/49\n",
      "----------\n",
      "train Loss: 0.0114 Acc: 1.0000\n",
      "val Loss: 11.6792 Acc: 0.2333\n",
      "\n",
      "Epoch 29/49\n",
      "----------\n",
      "train Loss: 0.2663 Acc: 0.9500\n",
      "val Loss: 11.6888 Acc: 0.2333\n",
      "\n",
      "Epoch 30/49\n",
      "----------\n",
      "train Loss: 0.0398 Acc: 0.9667\n",
      "val Loss: 11.6264 Acc: 0.2667\n",
      "\n",
      "Epoch 31/49\n",
      "----------\n",
      "train Loss: 0.0747 Acc: 0.9833\n",
      "val Loss: 11.7875 Acc: 0.2667\n",
      "\n",
      "Epoch 32/49\n",
      "----------\n",
      "train Loss: 0.2067 Acc: 0.9500\n",
      "val Loss: 11.4653 Acc: 0.2667\n",
      "\n",
      "Epoch 33/49\n",
      "----------\n",
      "train Loss: 0.1461 Acc: 0.9500\n",
      "val Loss: 10.7319 Acc: 0.2667\n",
      "\n",
      "Epoch 34/49\n",
      "----------\n",
      "train Loss: 0.1058 Acc: 0.9500\n",
      "val Loss: 10.3557 Acc: 0.2667\n",
      "\n",
      "Epoch 35/49\n",
      "----------\n",
      "train Loss: 0.1587 Acc: 0.9667\n",
      "val Loss: 9.7612 Acc: 0.2667\n",
      "\n",
      "Epoch 36/49\n",
      "----------\n",
      "train Loss: 0.0002 Acc: 1.0000\n",
      "val Loss: 9.2763 Acc: 0.2667\n",
      "\n",
      "Epoch 37/49\n",
      "----------\n",
      "train Loss: 0.1594 Acc: 0.9667\n",
      "val Loss: 9.1726 Acc: 0.2667\n",
      "\n",
      "Epoch 38/49\n",
      "----------\n",
      "train Loss: 0.0577 Acc: 0.9833\n",
      "val Loss: 9.2233 Acc: 0.2667\n",
      "\n",
      "Epoch 39/49\n",
      "----------\n",
      "train Loss: 0.2070 Acc: 0.9667\n",
      "val Loss: 9.7254 Acc: 0.2667\n",
      "\n",
      "Epoch 40/49\n",
      "----------\n",
      "train Loss: 0.0755 Acc: 0.9667\n",
      "val Loss: 10.5261 Acc: 0.2667\n",
      "\n",
      "Epoch 41/49\n",
      "----------\n",
      "train Loss: 0.0390 Acc: 0.9833\n",
      "val Loss: 11.4919 Acc: 0.2667\n",
      "\n",
      "Epoch 42/49\n",
      "----------\n",
      "train Loss: 0.0808 Acc: 0.9667\n",
      "val Loss: 12.2291 Acc: 0.2667\n",
      "\n",
      "Epoch 43/49\n",
      "----------\n",
      "train Loss: 0.1527 Acc: 0.9667\n",
      "val Loss: 12.3821 Acc: 0.2667\n",
      "\n",
      "Epoch 44/49\n",
      "----------\n",
      "train Loss: 0.0426 Acc: 0.9833\n",
      "val Loss: 12.4048 Acc: 0.2667\n",
      "\n",
      "Epoch 45/49\n",
      "----------\n",
      "train Loss: 0.0174 Acc: 0.9833\n",
      "val Loss: 12.3345 Acc: 0.2667\n",
      "\n",
      "Epoch 46/49\n",
      "----------\n",
      "train Loss: 0.0707 Acc: 0.9833\n",
      "val Loss: 11.8862 Acc: 0.2667\n",
      "\n",
      "Epoch 47/49\n",
      "----------\n",
      "train Loss: 0.0000 Acc: 1.0000\n",
      "val Loss: 11.5514 Acc: 0.2667\n",
      "\n",
      "Epoch 48/49\n",
      "----------\n",
      "train Loss: 0.1781 Acc: 0.9667\n",
      "val Loss: 10.8322 Acc: 0.2667\n",
      "\n",
      "Epoch 49/49\n",
      "----------\n",
      "train Loss: 0.2176 Acc: 0.9500\n",
      "val Loss: 10.4701 Acc: 0.2667\n",
      "\n",
      "Training complete in 1m 0s\n",
      "Best val Acc: 0.566667\n"
     ]
    }
   ],
   "source": [
    "# Train the Ensemble Classifier\n",
    "model_ens = train_model(model_ens, dataloaders_dict, criterion, optimizer_ens, lr_scheduler_ens, num_epochs=num_epochs)"
   ]
  },
  {
   "cell_type": "markdown",
   "metadata": {
    "id": "6vG-FBkUddWH"
   },
   "source": [
    "The best found accuracy by the Ensemble Classifier is <b>56.7%</b>."
   ]
  },
  {
   "cell_type": "markdown",
   "metadata": {
    "id": "q7rHVO021_dW"
   },
   "source": [
    "#### Trial 2: <mark style=\"background-color: Gainsboro\">resnet50</mark> and <mark style=\"background-color: Gainsboro\">vgg11_bn</mark>"
   ]
  },
  {
   "cell_type": "markdown",
   "metadata": {
    "id": "9LHu_mvpzaAN"
   },
   "source": [
    "Let's try the Ensemble Classifier with <mark style=\"background-color: Gainsboro\">resnet50</mark> and <mark style=\"background-color: Gainsboro\">vgg11_bn</mark> to compare."
   ]
  },
  {
   "cell_type": "code",
   "execution_count": 51,
   "metadata": {
    "id": "EDo5ySIHddVz"
   },
   "outputs": [],
   "source": [
    "# Reinitialize model \n",
    "#res18\n",
    "model_res18.fc = nn.Linear(512, 6)\n",
    "model_res18.load_state_dict(checkpoint_res18['state_dict'])\n",
    "model_res18 = model_res18.to(device)\n",
    "#res50\n",
    "model_res50.fc = nn.Linear(2048, 6)\n",
    "model_res50.load_state_dict(checkpoint_res50['state_dict'])\n",
    "model_res50 = model_res50.to(device)\n",
    "#vgg11\n",
    "model_vgg11.classifier[6] = nn.Linear(4096,6)\n",
    "model_vgg11.load_state_dict(checkpoint_vgg11['state_dict'])\n",
    "model_vgg11 = model_vgg11.to(device)"
   ]
  },
  {
   "cell_type": "code",
   "execution_count": 52,
   "metadata": {
    "id": "c8jaWJJMZfYP"
   },
   "outputs": [],
   "source": [
    " # We use pretrained previous models\n",
    " modelC = model_res50\n",
    " modelD = model_vgg11"
   ]
  },
  {
   "cell_type": "code",
   "execution_count": 53,
   "metadata": {
    "colab": {
     "base_uri": "https://localhost:8080/"
    },
    "id": "YBRF9yBqZfYc",
    "outputId": "d76f2dbc-e132-4f6f-b51f-aecfb6f79456"
   },
   "outputs": [
    {
     "data": {
      "text/plain": [
       "<All keys matched successfully>"
      ]
     },
     "execution_count": 53,
     "metadata": {
      "tags": []
     },
     "output_type": "execute_result"
    }
   ],
   "source": [
    "# Freeze parameters\n",
    "for param in modelC.parameters():\n",
    "    param.requires_grad_(False)\n",
    "\n",
    "for param in modelD.parameters():\n",
    "    param.requires_grad_(False)\n",
    "# Load model and state_dictionary\n",
    "modelC.load_state_dict(checkpoint_res50['state_dict'])\n",
    "modelD.load_state_dict(checkpoint_vgg11['state_dict'])"
   ]
  },
  {
   "cell_type": "code",
   "execution_count": 54,
   "metadata": {
    "id": "6weobCMBZfYh"
   },
   "outputs": [],
   "source": [
    "# Build the Ensembling Classifier\n",
    "class MyEnsembleNew(nn.Module):\n",
    "    def __init__(self, modelA, modelB, nb_classes=6):\n",
    "        super(MyEnsembleNew, self).__init__()\n",
    "        self.modelA = modelA\n",
    "        self.modelB = modelB\n",
    "        # Remove last linear layer\n",
    "        self.modelA.fc = nn.Identity()\n",
    "        self.modelB.classifier[6] = nn.Identity()\n",
    "        \n",
    "        # Create new classifier\n",
    "        # The number of input features is the sum Model C and D outputs\n",
    "        # Model C (Resnet50) outputs 2048 features\n",
    "        # Model D (Vgg11_bn) outputs 4096 features\n",
    "        self.classifier = nn.Linear(2048+4096, 6) \n",
    "        \n",
    "    def forward(self, x):\n",
    "        x1 = self.modelA(x.clone())  # clone to make sure x is not changed by inplace methods\n",
    "        x1 = x1.view(x1.size(0), -1)\n",
    "        x2 = self.modelB(x)\n",
    "        x2 = x2.view(x2.size(0), -1)\n",
    "        x = torch.cat((x1, x2), dim=1)\n",
    "        \n",
    "        x = self.classifier(F.relu(x))\n",
    "        return x"
   ]
  },
  {
   "cell_type": "code",
   "execution_count": 55,
   "metadata": {
    "id": "wWFHKUI7ZfYk"
   },
   "outputs": [],
   "source": [
    "# Create the Ensemble Classifier\n",
    "model_ens_2 = MyEnsembleNew(modelC, modelD).to(device)"
   ]
  },
  {
   "cell_type": "code",
   "execution_count": 56,
   "metadata": {
    "id": "el5hhlXbZfYo"
   },
   "outputs": [],
   "source": [
    "# Define Optimizer and Learning Rate Scheduler\n",
    "optimizer_ens_2 = torch.optim.Adam(model_ens_2.parameters(), lr=learning_rate)\n",
    "lr_scheduler_ens_2 = optim.lr_scheduler.CosineAnnealingLR(optimizer_ens_2, T_max=15, eta_min=learning_rate, last_epoch=-1, verbose=False)"
   ]
  },
  {
   "cell_type": "code",
   "execution_count": 57,
   "metadata": {
    "colab": {
     "base_uri": "https://localhost:8080/"
    },
    "id": "Y-JVU8pWZfYs",
    "outputId": "d6346279-f6f8-44c4-bae2-93124e0aab8d"
   },
   "outputs": [
    {
     "name": "stdout",
     "output_type": "stream",
     "text": [
      "Epoch 0/49\n",
      "----------\n",
      "train Loss: 1.8872 Acc: 0.1167\n",
      "val Loss: 5.8708 Acc: 0.1667\n",
      "\n",
      "Epoch 1/49\n",
      "----------\n",
      "train Loss: 4.8442 Acc: 0.4167\n",
      "val Loss: 2.0954 Acc: 0.1333\n",
      "\n",
      "Epoch 2/49\n",
      "----------\n",
      "train Loss: 0.5023 Acc: 0.8000\n",
      "val Loss: 4.0679 Acc: 0.2333\n",
      "\n",
      "Epoch 3/49\n",
      "----------\n",
      "train Loss: 2.0956 Acc: 0.7000\n",
      "val Loss: 2.6410 Acc: 0.3667\n",
      "\n",
      "Epoch 4/49\n",
      "----------\n",
      "train Loss: 1.2625 Acc: 0.7333\n",
      "val Loss: 1.5060 Acc: 0.3000\n",
      "\n",
      "Epoch 5/49\n",
      "----------\n",
      "train Loss: 0.8415 Acc: 0.8833\n",
      "val Loss: 2.1572 Acc: 0.4667\n",
      "\n",
      "Epoch 6/49\n",
      "----------\n",
      "train Loss: 0.5312 Acc: 0.8667\n",
      "val Loss: 2.6643 Acc: 0.4000\n",
      "\n",
      "Epoch 7/49\n",
      "----------\n",
      "train Loss: 0.0856 Acc: 0.9833\n",
      "val Loss: 4.5538 Acc: 0.3333\n",
      "\n",
      "Epoch 8/49\n",
      "----------\n",
      "train Loss: 0.3294 Acc: 0.9333\n",
      "val Loss: 6.7188 Acc: 0.2000\n",
      "\n",
      "Epoch 9/49\n",
      "----------\n",
      "train Loss: 0.0876 Acc: 0.9500\n",
      "val Loss: 8.4762 Acc: 0.2000\n",
      "\n",
      "Epoch 10/49\n",
      "----------\n",
      "train Loss: 0.6214 Acc: 0.9167\n",
      "val Loss: 9.7556 Acc: 0.1667\n",
      "\n",
      "Epoch 11/49\n",
      "----------\n",
      "train Loss: 0.1378 Acc: 0.9667\n",
      "val Loss: 10.9056 Acc: 0.1667\n",
      "\n",
      "Epoch 12/49\n",
      "----------\n",
      "train Loss: 0.6722 Acc: 0.9000\n",
      "val Loss: 11.4055 Acc: 0.1667\n",
      "\n",
      "Epoch 13/49\n",
      "----------\n",
      "train Loss: 0.1692 Acc: 0.9667\n",
      "val Loss: 11.4218 Acc: 0.1667\n",
      "\n",
      "Epoch 14/49\n",
      "----------\n",
      "train Loss: 0.0417 Acc: 0.9833\n",
      "val Loss: 11.3671 Acc: 0.1667\n",
      "\n",
      "Epoch 15/49\n",
      "----------\n",
      "train Loss: 0.1626 Acc: 0.9667\n",
      "val Loss: 11.2799 Acc: 0.2000\n",
      "\n",
      "Epoch 16/49\n",
      "----------\n",
      "train Loss: 0.1772 Acc: 0.9833\n",
      "val Loss: 11.2974 Acc: 0.2000\n",
      "\n",
      "Epoch 17/49\n",
      "----------\n",
      "train Loss: 0.1101 Acc: 0.9667\n",
      "val Loss: 11.4104 Acc: 0.2333\n",
      "\n",
      "Epoch 18/49\n",
      "----------\n",
      "train Loss: 0.2885 Acc: 0.9667\n",
      "val Loss: 11.3846 Acc: 0.3000\n",
      "\n",
      "Epoch 19/49\n",
      "----------\n",
      "train Loss: 0.3130 Acc: 0.9333\n",
      "val Loss: 11.5449 Acc: 0.3000\n",
      "\n",
      "Epoch 20/49\n",
      "----------\n",
      "train Loss: 0.0460 Acc: 0.9833\n",
      "val Loss: 11.5820 Acc: 0.3000\n",
      "\n",
      "Epoch 21/49\n",
      "----------\n",
      "train Loss: 0.1037 Acc: 0.9833\n",
      "val Loss: 11.6602 Acc: 0.3000\n",
      "\n",
      "Epoch 22/49\n",
      "----------\n",
      "train Loss: 0.0214 Acc: 0.9833\n",
      "val Loss: 11.7093 Acc: 0.3333\n",
      "\n",
      "Epoch 23/49\n",
      "----------\n",
      "train Loss: 0.0694 Acc: 0.9667\n",
      "val Loss: 11.8031 Acc: 0.3000\n",
      "\n",
      "Epoch 24/49\n",
      "----------\n",
      "train Loss: 0.1242 Acc: 0.9667\n",
      "val Loss: 11.9162 Acc: 0.2667\n",
      "\n",
      "Epoch 25/49\n",
      "----------\n",
      "train Loss: 0.0066 Acc: 1.0000\n",
      "val Loss: 12.1462 Acc: 0.2667\n",
      "\n",
      "Epoch 26/49\n",
      "----------\n",
      "train Loss: 0.0029 Acc: 1.0000\n",
      "val Loss: 12.2584 Acc: 0.2667\n",
      "\n",
      "Epoch 27/49\n",
      "----------\n",
      "train Loss: 0.0191 Acc: 0.9833\n",
      "val Loss: 12.4850 Acc: 0.2667\n",
      "\n",
      "Epoch 28/49\n",
      "----------\n",
      "train Loss: 0.3708 Acc: 0.9667\n",
      "val Loss: 12.7006 Acc: 0.2333\n",
      "\n",
      "Epoch 29/49\n",
      "----------\n",
      "train Loss: 0.0619 Acc: 0.9833\n",
      "val Loss: 12.3856 Acc: 0.2333\n",
      "\n",
      "Epoch 30/49\n",
      "----------\n",
      "train Loss: 0.3804 Acc: 0.9333\n",
      "val Loss: 11.4861 Acc: 0.3000\n",
      "\n",
      "Epoch 31/49\n",
      "----------\n",
      "train Loss: 0.2645 Acc: 0.9500\n",
      "val Loss: 10.6585 Acc: 0.2667\n",
      "\n",
      "Epoch 32/49\n",
      "----------\n",
      "train Loss: 0.1431 Acc: 0.9833\n",
      "val Loss: 10.8155 Acc: 0.2667\n",
      "\n",
      "Epoch 33/49\n",
      "----------\n",
      "train Loss: 0.0509 Acc: 0.9833\n",
      "val Loss: 11.4785 Acc: 0.2000\n",
      "\n",
      "Epoch 34/49\n",
      "----------\n",
      "train Loss: 0.0176 Acc: 1.0000\n",
      "val Loss: 12.2654 Acc: 0.2000\n",
      "\n",
      "Epoch 35/49\n",
      "----------\n",
      "train Loss: 0.2763 Acc: 0.9833\n",
      "val Loss: 12.7688 Acc: 0.1667\n",
      "\n",
      "Epoch 36/49\n",
      "----------\n",
      "train Loss: 0.0375 Acc: 0.9667\n",
      "val Loss: 13.3974 Acc: 0.1667\n",
      "\n",
      "Epoch 37/49\n",
      "----------\n",
      "train Loss: 0.0589 Acc: 0.9833\n",
      "val Loss: 13.9989 Acc: 0.1667\n",
      "\n",
      "Epoch 38/49\n",
      "----------\n",
      "train Loss: 0.3448 Acc: 0.9333\n",
      "val Loss: 14.0522 Acc: 0.2000\n",
      "\n",
      "Epoch 39/49\n",
      "----------\n",
      "train Loss: 0.1789 Acc: 0.9500\n",
      "val Loss: 13.8524 Acc: 0.2333\n",
      "\n",
      "Epoch 40/49\n",
      "----------\n",
      "train Loss: 0.0063 Acc: 1.0000\n",
      "val Loss: 13.7074 Acc: 0.2667\n",
      "\n",
      "Epoch 41/49\n",
      "----------\n",
      "train Loss: 0.1763 Acc: 0.9833\n",
      "val Loss: 13.3975 Acc: 0.2333\n",
      "\n",
      "Epoch 42/49\n",
      "----------\n",
      "train Loss: 0.1360 Acc: 0.9833\n",
      "val Loss: 12.8212 Acc: 0.3000\n",
      "\n",
      "Epoch 43/49\n",
      "----------\n",
      "train Loss: 0.1970 Acc: 0.9667\n",
      "val Loss: 12.4202 Acc: 0.3000\n",
      "\n",
      "Epoch 44/49\n",
      "----------\n",
      "train Loss: 0.0098 Acc: 1.0000\n",
      "val Loss: 12.1746 Acc: 0.2667\n",
      "\n",
      "Epoch 45/49\n",
      "----------\n",
      "train Loss: 0.0251 Acc: 0.9833\n",
      "val Loss: 12.2447 Acc: 0.3000\n",
      "\n",
      "Epoch 46/49\n",
      "----------\n",
      "train Loss: 0.1391 Acc: 0.9667\n",
      "val Loss: 13.0020 Acc: 0.2333\n",
      "\n",
      "Epoch 47/49\n",
      "----------\n",
      "train Loss: 0.0748 Acc: 0.9667\n",
      "val Loss: 13.2039 Acc: 0.2333\n",
      "\n",
      "Epoch 48/49\n",
      "----------\n",
      "train Loss: 0.0167 Acc: 1.0000\n",
      "val Loss: 13.4999 Acc: 0.2333\n",
      "\n",
      "Epoch 49/49\n",
      "----------\n",
      "train Loss: 0.2042 Acc: 0.9833\n",
      "val Loss: 13.3136 Acc: 0.3000\n",
      "\n",
      "Training complete in 1m 10s\n",
      "Best val Acc: 0.466667\n"
     ]
    }
   ],
   "source": [
    "# Train the Ensemble Classifier\n",
    "model_ens_2 = train_model(model_ens_2, dataloaders_dict, criterion, optimizer_ens_2, lr_scheduler_ens_2, num_epochs=num_epochs)"
   ]
  },
  {
   "cell_type": "markdown",
   "metadata": {
    "id": "f3LbkPs30nO0"
   },
   "source": [
    "The best found accuracy by the Ensemble Classifier is <b>46.7%</b>."
   ]
  },
  {
   "cell_type": "markdown",
   "metadata": {
    "id": "5FLruSCDddWU"
   },
   "source": [
    "# Deploy Models On Whole Dataset"
   ]
  },
  {
   "cell_type": "markdown",
   "metadata": {},
   "source": [
    "In this part, we use the whole dataset of 1800 images. In the first part, we use the pretrained models that were trained on the reduced dataset. In the second part, we use a CNN model built from scratch."
   ]
  },
  {
   "cell_type": "markdown",
   "metadata": {},
   "source": [
    "## Part 1: Pretrained Models"
   ]
  },
  {
   "cell_type": "markdown",
   "metadata": {
    "id": "v9SykFW7ddWe"
   },
   "source": [
    "#### 1. Load Full Dataset"
   ]
  },
  {
   "cell_type": "code",
   "execution_count": 58,
   "metadata": {
    "id": "itgXb22OddWg"
   },
   "outputs": [],
   "source": [
    "basic_transform = torchvision.transforms.Compose([\n",
    "        transforms.RandomResizedCrop(224),\n",
    "        transforms.RandomVerticalFlip(),\n",
    "        transforms.ToTensor(),\n",
    "        transforms.Normalize([0.485, 0.456, 0.406], [0.229, 0.224, 0.225])])"
   ]
  },
  {
   "cell_type": "code",
   "execution_count": 59,
   "metadata": {
    "id": "IQQQm7LfddWi"
   },
   "outputs": [],
   "source": [
    "dataset = datasets.ImageFolder(database_path,transform =  basic_transform)"
   ]
  },
  {
   "cell_type": "markdown",
   "metadata": {
    "id": "rqIfWpDIddWj"
   },
   "source": [
    "#### 2. Split Dataset Between Train And Test Sets"
   ]
  },
  {
   "cell_type": "code",
   "execution_count": 60,
   "metadata": {
    "colab": {
     "base_uri": "https://localhost:8080/"
    },
    "id": "nw8WxyjxddWl",
    "outputId": "9cf46d8c-6861-4f5e-ba76-54de50404083"
   },
   "outputs": [
    {
     "name": "stdout",
     "output_type": "stream",
     "text": [
      "The number of images in the dataset is 1800\n",
      "The number of images in the training dataset is 1440\n",
      "The number of images in the test dataset is 360\n"
     ]
    }
   ],
   "source": [
    "def train_val_dataset(dataset, val_split=0.20):\n",
    "    train_idx, val_idx = train_test_split(list(range(len(dataset))), test_size=val_split)\n",
    "    datasets = {}\n",
    "    datasets['train'] = torch.utils.data.Subset(dataset, train_idx)\n",
    "    datasets['val'] = torch.utils.data.Subset(dataset, val_idx)\n",
    "    return datasets\n",
    "\n",
    "print('The number of images in the dataset is',len(dataset))\n",
    "datasets = train_val_dataset(dataset)\n",
    "print('The number of images in the training dataset is',len(datasets['train']))\n",
    "print('The number of images in the test dataset is',len(datasets['val']))"
   ]
  },
  {
   "cell_type": "markdown",
   "metadata": {
    "id": "O83hfN0RddWn"
   },
   "source": [
    "#### 2. Load Training & Test Datasets into a Dictionary"
   ]
  },
  {
   "cell_type": "code",
   "execution_count": 61,
   "metadata": {
    "colab": {
     "base_uri": "https://localhost:8080/"
    },
    "id": "F3FRFDTNddWp",
    "outputId": "d7824939-557b-48ba-a94a-af9091077540"
   },
   "outputs": [
    {
     "name": "stdout",
     "output_type": "stream",
     "text": [
      "torch.Size([64, 3, 224, 224]) torch.Size([64])\n"
     ]
    }
   ],
   "source": [
    "full_dataloaders = {\n",
    "    'train': torch.utils.data.DataLoader(datasets['train'],64, shuffle=True, num_workers=4),\n",
    "    'val': torch.utils.data.DataLoader(datasets['val'],64, shuffle=True, num_workers=4)}\n",
    "x,y = next(iter(full_dataloaders['train']))\n",
    "print(x.shape, y.shape)"
   ]
  },
  {
   "cell_type": "markdown",
   "metadata": {
    "id": "B9rNdViRddWs"
   },
   "source": [
    "#### 4. Run the best found models"
   ]
  },
  {
   "cell_type": "markdown",
   "metadata": {
    "id": "KkQVtD7hU-R6"
   },
   "source": [
    "\n",
    "*   <b>Single model:<mark style=\"background-color: Gainsboro\">vgg11_bn</mark>"
   ]
  },
  {
   "cell_type": "code",
   "execution_count": 62,
   "metadata": {
    "colab": {
     "base_uri": "https://localhost:8080/"
    },
    "id": "lbXF5EHHddWx",
    "outputId": "7e57069d-55bc-409e-d9ff-87aa0cfbab6e",
    "scrolled": true
   },
   "outputs": [
    {
     "name": "stdout",
     "output_type": "stream",
     "text": [
      "Epoch 0/24\n",
      "----------\n",
      "train Loss: 0.9729 Acc: 0.7806\n",
      "val Loss: 0.8666 Acc: 0.7583\n",
      "\n",
      "Epoch 1/24\n",
      "----------\n",
      "train Loss: 0.2335 Acc: 0.9326\n",
      "val Loss: 0.2405 Acc: 0.9306\n",
      "\n",
      "Epoch 2/24\n",
      "----------\n",
      "train Loss: 0.2747 Acc: 0.9243\n",
      "val Loss: 0.1342 Acc: 0.9417\n",
      "\n",
      "Epoch 3/24\n",
      "----------\n",
      "train Loss: 0.3241 Acc: 0.9215\n",
      "val Loss: 0.1961 Acc: 0.9194\n",
      "\n",
      "Epoch 4/24\n",
      "----------\n",
      "train Loss: 0.3029 Acc: 0.9257\n",
      "val Loss: 0.1316 Acc: 0.9694\n",
      "\n",
      "Epoch 5/24\n",
      "----------\n",
      "train Loss: 0.3063 Acc: 0.9250\n",
      "val Loss: 0.1221 Acc: 0.9583\n",
      "\n",
      "Epoch 6/24\n",
      "----------\n",
      "train Loss: 0.2993 Acc: 0.9236\n",
      "val Loss: 0.1430 Acc: 0.9472\n",
      "\n",
      "Epoch 7/24\n",
      "----------\n",
      "train Loss: 0.2740 Acc: 0.9257\n",
      "val Loss: 0.1118 Acc: 0.9639\n",
      "\n",
      "Epoch 8/24\n",
      "----------\n",
      "train Loss: 0.2769 Acc: 0.9208\n",
      "val Loss: 0.0674 Acc: 0.9750\n",
      "\n",
      "Epoch 9/24\n",
      "----------\n",
      "train Loss: 0.2663 Acc: 0.9236\n",
      "val Loss: 0.1968 Acc: 0.9389\n",
      "\n",
      "Epoch 10/24\n",
      "----------\n",
      "train Loss: 0.2310 Acc: 0.9292\n",
      "val Loss: 0.0907 Acc: 0.9778\n",
      "\n",
      "Epoch 11/24\n",
      "----------\n",
      "train Loss: 0.2166 Acc: 0.9375\n",
      "val Loss: 0.2137 Acc: 0.9472\n",
      "\n",
      "Epoch 12/24\n",
      "----------\n",
      "train Loss: 0.3192 Acc: 0.9313\n",
      "val Loss: 0.2137 Acc: 0.9500\n",
      "\n",
      "Epoch 13/24\n",
      "----------\n",
      "train Loss: 0.3395 Acc: 0.9271\n",
      "val Loss: 0.1830 Acc: 0.9528\n",
      "\n",
      "Epoch 14/24\n",
      "----------\n",
      "train Loss: 0.2477 Acc: 0.9451\n",
      "val Loss: 0.2963 Acc: 0.9333\n",
      "\n",
      "Epoch 15/24\n",
      "----------\n",
      "train Loss: 0.3329 Acc: 0.9271\n",
      "val Loss: 0.1100 Acc: 0.9667\n",
      "\n",
      "Epoch 16/24\n",
      "----------\n",
      "train Loss: 0.3241 Acc: 0.9257\n",
      "val Loss: 0.1235 Acc: 0.9694\n",
      "\n",
      "Epoch 17/24\n",
      "----------\n",
      "train Loss: 0.2268 Acc: 0.9368\n",
      "val Loss: 0.1021 Acc: 0.9667\n",
      "\n",
      "Epoch 18/24\n",
      "----------\n",
      "train Loss: 0.1831 Acc: 0.9444\n",
      "val Loss: 0.0794 Acc: 0.9694\n",
      "\n",
      "Epoch 19/24\n",
      "----------\n",
      "train Loss: 0.2760 Acc: 0.9264\n",
      "val Loss: 0.1527 Acc: 0.9528\n",
      "\n",
      "Epoch 20/24\n",
      "----------\n",
      "train Loss: 0.2068 Acc: 0.9410\n",
      "val Loss: 0.1438 Acc: 0.9611\n",
      "\n",
      "Epoch 21/24\n",
      "----------\n",
      "train Loss: 0.2448 Acc: 0.9354\n",
      "val Loss: 0.0915 Acc: 0.9694\n",
      "\n",
      "Epoch 22/24\n",
      "----------\n",
      "train Loss: 0.2887 Acc: 0.9250\n",
      "val Loss: 0.1379 Acc: 0.9639\n",
      "\n",
      "Epoch 23/24\n",
      "----------\n",
      "train Loss: 0.2833 Acc: 0.9250\n",
      "val Loss: 0.1342 Acc: 0.9611\n",
      "\n",
      "Epoch 24/24\n",
      "----------\n",
      "train Loss: 0.2405 Acc: 0.9410\n",
      "val Loss: 0.1224 Acc: 0.9556\n",
      "\n",
      "Training complete in 4m 22s\n",
      "Best val Acc: 0.977778\n"
     ]
    }
   ],
   "source": [
    "# Do not compute gradients\n",
    "for param in model_vgg11.parameters():\n",
    "    param.requires_grad = False\n",
    "\n",
    "# Reinitialize the last layer\n",
    "model_vgg11.classifier[6] = nn.Linear(4096,6)\n",
    "\n",
    "# Load the parameters saved in the model training phase on the reduced dataset\n",
    "model_vgg11.load_state_dict(checkpoint_vgg11['state_dict'])\n",
    "model_vgg11 = model_vgg11.to(device)\n",
    "\n",
    "# Only the parameters of the final layer are being optimized\n",
    "optimizer_ft = optim.Adam(model_vgg11.classifier[6].parameters(), lr=learning_rate, betas=(0.9, 0.999), eps=1e-08, weight_decay=weight_decay)\n",
    "\n",
    "# Setup the learning rate\n",
    "lr_scheduler = optim.lr_scheduler.CosineAnnealingLR(optimizer_ft, T_max=15, eta_min=learning_rate, last_epoch=-1, verbose=False)\n",
    "\n",
    "model_vgg11_full = train_model(model_vgg11, full_dataloaders, criterion, optimizer_ft, lr_scheduler, num_epochs=25)"
   ]
  },
  {
   "cell_type": "markdown",
   "metadata": {
    "id": "3O99dpE64ha0"
   },
   "source": [
    "The best found accuracy by <mark style=\"background-color: Gainsboro\">vgg11_bn</mark> is <b>97.8%</b>.\n",
    "\n"
   ]
  },
  {
   "cell_type": "markdown",
   "metadata": {
    "id": "iCpflvhz4UpG"
   },
   "source": [
    "*   <b>Ensemble classifier: <mark style=\"background-color: Gainsboro\">resnet50</mark> and <mark style=\"background-color: Gainsboro\">vgg11_bn</mark>"
   ]
  },
  {
   "cell_type": "code",
   "execution_count": 63,
   "metadata": {
    "colab": {
     "base_uri": "https://localhost:8080/"
    },
    "id": "xaFzOQ0la-q5",
    "outputId": "557bd604-5cd0-4df6-be5d-ae7e83461c6e"
   },
   "outputs": [
    {
     "name": "stdout",
     "output_type": "stream",
     "text": [
      "Epoch 0/24\n",
      "----------\n",
      "train Loss: 0.8788 Acc: 0.8278\n",
      "val Loss: 0.3692 Acc: 0.9056\n",
      "\n",
      "Epoch 1/24\n",
      "----------\n",
      "train Loss: 0.3596 Acc: 0.9368\n",
      "val Loss: 0.1623 Acc: 0.9722\n",
      "\n",
      "Epoch 2/24\n",
      "----------\n",
      "train Loss: 0.3007 Acc: 0.9431\n",
      "val Loss: 0.0800 Acc: 0.9667\n",
      "\n",
      "Epoch 3/24\n",
      "----------\n",
      "train Loss: 0.2506 Acc: 0.9528\n",
      "val Loss: 0.1250 Acc: 0.9806\n",
      "\n",
      "Epoch 4/24\n",
      "----------\n",
      "train Loss: 0.3478 Acc: 0.9333\n",
      "val Loss: 0.1143 Acc: 0.9667\n",
      "\n",
      "Epoch 5/24\n",
      "----------\n",
      "train Loss: 0.2505 Acc: 0.9507\n",
      "val Loss: 0.1011 Acc: 0.9694\n",
      "\n",
      "Epoch 6/24\n",
      "----------\n",
      "train Loss: 0.4304 Acc: 0.9326\n",
      "val Loss: 0.3343 Acc: 0.9389\n",
      "\n",
      "Epoch 7/24\n",
      "----------\n",
      "train Loss: 0.3911 Acc: 0.9361\n",
      "val Loss: 0.4050 Acc: 0.9389\n",
      "\n",
      "Epoch 8/24\n",
      "----------\n",
      "train Loss: 0.4764 Acc: 0.9319\n",
      "val Loss: 0.1137 Acc: 0.9722\n",
      "\n",
      "Epoch 9/24\n",
      "----------\n",
      "train Loss: 0.4289 Acc: 0.9493\n",
      "val Loss: 0.1125 Acc: 0.9889\n",
      "\n",
      "Epoch 10/24\n",
      "----------\n",
      "train Loss: 0.2098 Acc: 0.9646\n",
      "val Loss: 0.0456 Acc: 0.9833\n",
      "\n",
      "Epoch 11/24\n",
      "----------\n",
      "train Loss: 0.2262 Acc: 0.9632\n",
      "val Loss: 0.3172 Acc: 0.9750\n",
      "\n",
      "Epoch 12/24\n",
      "----------\n",
      "train Loss: 0.3647 Acc: 0.9549\n",
      "val Loss: 0.3007 Acc: 0.9722\n",
      "\n",
      "Epoch 13/24\n",
      "----------\n",
      "train Loss: 0.2586 Acc: 0.9597\n",
      "val Loss: 0.1265 Acc: 0.9750\n",
      "\n",
      "Epoch 14/24\n",
      "----------\n",
      "train Loss: 0.2483 Acc: 0.9590\n",
      "val Loss: 0.1427 Acc: 0.9750\n",
      "\n",
      "Epoch 15/24\n",
      "----------\n",
      "train Loss: 0.2548 Acc: 0.9625\n",
      "val Loss: 0.3673 Acc: 0.9611\n",
      "\n",
      "Epoch 16/24\n",
      "----------\n",
      "train Loss: 0.3249 Acc: 0.9549\n",
      "val Loss: 0.3134 Acc: 0.9722\n",
      "\n",
      "Epoch 17/24\n",
      "----------\n",
      "train Loss: 0.3757 Acc: 0.9507\n",
      "val Loss: 0.2421 Acc: 0.9694\n",
      "\n",
      "Epoch 18/24\n",
      "----------\n",
      "train Loss: 0.3079 Acc: 0.9563\n",
      "val Loss: 0.0327 Acc: 0.9889\n",
      "\n",
      "Epoch 19/24\n",
      "----------\n",
      "train Loss: 0.3673 Acc: 0.9549\n",
      "val Loss: 0.1276 Acc: 0.9694\n",
      "\n",
      "Epoch 20/24\n",
      "----------\n",
      "train Loss: 0.2812 Acc: 0.9590\n",
      "val Loss: 0.4238 Acc: 0.9639\n",
      "\n",
      "Epoch 21/24\n",
      "----------\n",
      "train Loss: 0.5233 Acc: 0.9472\n",
      "val Loss: 0.1663 Acc: 0.9806\n",
      "\n",
      "Epoch 22/24\n",
      "----------\n",
      "train Loss: 0.4825 Acc: 0.9500\n",
      "val Loss: 0.1382 Acc: 0.9694\n",
      "\n",
      "Epoch 23/24\n",
      "----------\n",
      "train Loss: 0.3791 Acc: 0.9660\n",
      "val Loss: 0.3434 Acc: 0.9528\n",
      "\n",
      "Epoch 24/24\n",
      "----------\n",
      "train Loss: 0.5859 Acc: 0.9438\n",
      "val Loss: 0.2005 Acc: 0.9694\n",
      "\n",
      "Training complete in 5m 13s\n",
      "Best val Acc: 0.988889\n"
     ]
    }
   ],
   "source": [
    "model_ens_2.modelB.classifier[6]=nn.Identity() # Reinitialize the last layer of model B\n",
    "model_ens_2_full = train_model(model_ens_2, full_dataloaders, criterion, optimizer_ens_2, lr_scheduler_ens_2, num_epochs=25)"
   ]
  },
  {
   "cell_type": "markdown",
   "metadata": {
    "id": "vCX2pPFt6SSy"
   },
   "source": [
    "The best found accuracy by the ensemble classifier is <b>98.9%</b>."
   ]
  },
  {
   "cell_type": "markdown",
   "metadata": {
    "id": "sL0sofMaddW1"
   },
   "source": [
    "#### 5. Visualize the model predictions"
   ]
  },
  {
   "cell_type": "code",
   "execution_count": 64,
   "metadata": {
    "id": "TUhoeAiRddW2"
   },
   "outputs": [],
   "source": [
    "class_names = train_data.classes # Used to Build Legend\n",
    "# Generic function to display predictions for images\n",
    "def imshow(inp, title=None):\n",
    "    \"\"\"Imshow for Tensor.\"\"\"\n",
    "    inp = inp.numpy().transpose((1, 2, 0))\n",
    "    mean = np.array([0.485, 0.456, 0.406])\n",
    "    std = np.array([0.229, 0.224, 0.225])\n",
    "    inp = std * inp + mean\n",
    "    inp = np.clip(inp, 0, 1)\n",
    "    plt.imshow(inp)\n",
    "    if title is not None:\n",
    "        plt.title(title)\n",
    "    plt.pause(0.001)  # pause a bit so that plots are updated\n",
    "\n",
    "# Get a batch of training data\n",
    "inputs, classes = next(iter(full_dataloaders['train']))\n",
    "\n",
    "def visualize_model(model, num_images=6):\n",
    "    was_training = model.training\n",
    "    model.eval()\n",
    "    images_so_far = 0\n",
    "    fig = plt.figure()\n",
    "\n",
    "    with torch.no_grad():\n",
    "        for i, (inputs, labels) in enumerate(full_dataloaders['val']):\n",
    "            inputs = inputs.to(device)\n",
    "            labels = labels.to(device)\n",
    "\n",
    "            outputs = model(inputs)\n",
    "            _, preds = torch.max(outputs, 1)\n",
    "\n",
    "            for j in range(inputs.size()[0]):\n",
    "                images_so_far += 1\n",
    "                ax = plt.subplot(num_images//2, 2, images_so_far)\n",
    "                ax.axis('off')\n",
    "                ax.set_title('predicted: {}'.format(class_names[preds[j]]))\n",
    "                imshow(inputs.cpu().data[j])\n",
    "\n",
    "                if images_so_far == num_images:\n",
    "                    model.train(mode=was_training)\n",
    "                    return\n",
    "        model.train(mode=was_training)"
   ]
  },
  {
   "cell_type": "code",
   "execution_count": 78,
   "metadata": {
    "colab": {
     "base_uri": "https://localhost:8080/",
     "height": 581
    },
    "id": "UQk7HRwjYzLd",
    "outputId": "3d5903c5-e891-467d-d8a3-292cb86b889d"
   },
   "outputs": [
    {
     "data": {
      "image/png": "[encoded data removed]",
      "text/plain": [
       "<Figure size 432x288 with 1 Axes>"
      ]
     },
     "metadata": {
      "needs_background": "light",
      "tags": []
     },
     "output_type": "display_data"
    },
    {
     "data": {
      "image/png": "[encoded data removed]",
      "text/plain": [
       "<Figure size 432x288 with 1 Axes>"
      ]
     },
     "metadata": {
      "needs_background": "light",
      "tags": []
     },
     "output_type": "display_data"
    },
    {
     "data": {
      "image/png": "[encoded data removed]",
      "text/plain": [
       "<Figure size 432x288 with 1 Axes>"
      ]
     },
     "metadata": {
      "needs_background": "light",
      "tags": []
     },
     "output_type": "display_data"
    },
    {
     "data": {
      "image/png": "[encoded data removed]",
      "text/plain": [
       "<Figure size 432x288 with 1 Axes>"
      ]
     },
     "metadata": {
      "needs_background": "light",
      "tags": []
     },
     "output_type": "display_data"
    },
    {
     "data": {
      "image/png": "[encoded data removed]",
      "text/plain": [
       "<Figure size 432x288 with 1 Axes>"
      ]
     },
     "metadata": {
      "needs_background": "light",
      "tags": []
     },
     "output_type": "display_data"
    },
    {
     "data": {
      "image/png": "[encoded data removed]",
      "text/plain": [
       "<Figure size 432x288 with 1 Axes>"
      ]
     },
     "metadata": {
      "needs_background": "light",
      "tags": []
     },
     "output_type": "display_data"
    }
   ],
   "source": [
    "# Predictions by Single Model: VGG11\n",
    "visualize_model(model_vgg11_full)"
   ]
  },
  {
   "cell_type": "code",
   "execution_count": 75,
   "metadata": {
    "colab": {
     "base_uri": "https://localhost:8080/",
     "height": 581
    },
    "id": "1XyqzvMEddW4",
    "outputId": "725f7b32-239e-4363-eb47-c42691f0ae22"
   },
   "outputs": [
    {
     "data": {
      "image/png": "[encoded data removed]",
      "text/plain": [
       "<Figure size 432x288 with 1 Axes>"
      ]
     },
     "metadata": {
      "needs_background": "light",
      "tags": []
     },
     "output_type": "display_data"
    },
    {
     "data": {
      "image/png": "[encoded data removed]",
      "text/plain": [
       "<Figure size 432x288 with 1 Axes>"
      ]
     },
     "metadata": {
      "needs_background": "light",
      "tags": []
     },
     "output_type": "display_data"
    },
    {
     "data": {
      "image/png": "[encoded data removed]",
      "text/plain": [
       "<Figure size 432x288 with 1 Axes>"
      ]
     },
     "metadata": {
      "needs_background": "light",
      "tags": []
     },
     "output_type": "display_data"
    },
    {
     "data": {
      "image/png": "[encoded data removed]",
      "text/plain": [
       "<Figure size 432x288 with 1 Axes>"
      ]
     },
     "metadata": {
      "needs_background": "light",
      "tags": []
     },
     "output_type": "display_data"
    },
    {
     "data": {
      "image/png": "[encoded data removed]",
      "text/plain": [
       "<Figure size 432x288 with 1 Axes>"
      ]
     },
     "metadata": {
      "needs_background": "light",
      "tags": []
     },
     "output_type": "display_data"
    },
    {
     "data": {
      "image/png": "[encoded data removed]",
      "text/plain": [
       "<Figure size 432x288 with 1 Axes>"
      ]
     },
     "metadata": {
      "needs_background": "light",
      "tags": []
     },
     "output_type": "display_data"
    }
   ],
   "source": [
    "# Predictions by Ensemble Classifier of Resnet50 and Vgg11\n",
    "visualize_model(model_ens_2_full)"
   ]
  },
  {
   "cell_type": "markdown",
   "metadata": {
    "id": "tI5BxtKOddW5"
   },
   "source": [
    "## Part 2: Convolution Neural Network Built and Trained From Scratch"
   ]
  },
  {
   "cell_type": "markdown",
   "metadata": {},
   "source": [
    "In this part, we're going to compare the previous performance of the pretrained CNN models with a CNN model built layer by layer."
   ]
  },
  {
   "cell_type": "code",
   "execution_count": 1,
   "metadata": {},
   "outputs": [],
   "source": [
    "import cv2\n",
    "from tqdm import tqdm"
   ]
  },
  {
   "cell_type": "markdown",
   "metadata": {},
   "source": [
    "<span style=\"color:#008B8B\"> <b>Please note</b> that the paths of the database folders below might need to be adjusted to work on your environment.</span>"
   ]
  },
  {
   "cell_type": "code",
   "execution_count": 2,
   "metadata": {},
   "outputs": [
    {
     "name": "stderr",
     "output_type": "stream",
     "text": [
      "100%|████████████████████████████████████████████████████████████████████████████████| 300/300 [00:04<00:00, 74.90it/s]\n",
      "100%|████████████████████████████████████████████████████████████████████████████████| 300/300 [00:03<00:00, 81.46it/s]\n",
      "100%|███████████████████████████████████████████████████████████████████████████████| 300/300 [00:00<00:00, 825.06it/s]\n",
      "100%|███████████████████████████████████████████████████████████████████████████████| 300/300 [00:00<00:00, 718.89it/s]\n",
      "100%|███████████████████████████████████████████████████████████████████████████████| 300/300 [00:00<00:00, 772.36it/s]\n",
      "100%|███████████████████████████████████████████████████████████████████████████████| 300/300 [00:00<00:00, 767.13it/s]\n"
     ]
    },
    {
     "name": "stdout",
     "output_type": "stream",
     "text": [
      "Crazings: 300\n",
      "Inclusions: 300\n",
      "Patches: 300\n",
      "Pitted Surface: 300\n",
      "Rolled In Scale: 300\n",
      "Scratches: 300\n"
     ]
    }
   ],
   "source": [
    "#Create classes for the image processing of the steel defects \n",
    "class SteelDefects():\n",
    "    IMG_SIZE = 200\n",
    "    #For this step we need to manually put images from the Databse file in separate files named after the different observed\n",
    "    #defects\n",
    "    #That classification is already done in the Database file provided in the Zip file we have sent\n",
    "    Crazing = 'Database/Crazing'\n",
    "    Inclusions = 'Database/Inclusions'\n",
    "    Patches = 'Database/Patches'\n",
    "    PittedSurface = 'Database/PittedSurface'\n",
    "    RolledInScale = 'Database/RolledInScale'\n",
    "    Scratches = 'Database/Scratches'\n",
    "    #We give class values to the images from the different files\n",
    "    LABELS = {Crazing : 0 , Inclusions : 1 , Patches : 2, PittedSurface : 3, RolledInScale : 4, Scratches : 5}\n",
    "    #Creating an empty list, training_data, that will be later filled with the images and their labels\n",
    "    training_data = []\n",
    "    \n",
    "    #Setting counters to 0 (to append training samples to training data)\n",
    "    CrazingCount = 0\n",
    "    InclusionsCount = 0\n",
    "    PatchesCount = 0\n",
    "    PittedSurfaceCount = 0\n",
    "    RolledInScaleCount = 0\n",
    "    ScratchesCount = 0\n",
    "    \n",
    "    #Creating the data we will train on by associating images to their right class/label\n",
    "    def associate_training_data(self):\n",
    "        for label in self.LABELS:\n",
    "            #print(label)\n",
    "            for file in tqdm(os.listdir(label)):\n",
    "                path = os.path.join(label, file) \n",
    "                img = cv2.imread(path, cv2.IMREAD_GRAYSCALE) #read images in grey scale \n",
    "                #Resizing of the images as defined before: 200*200\n",
    "                img = cv2.resize(img, (self.IMG_SIZE, self.IMG_SIZE))\n",
    "                self.training_data.append([np.array(img), np.eye(6)[self.LABELS[label]]])\n",
    "                #We want to have a one hot vector format with our labels to index images \n",
    "                #We used np.eye(6) which is an 6x6 identity matrix (corresponding to our 6 different labels)\n",
    "            \n",
    "                \n",
    "                if label == self.Crazing:\n",
    "                            self.CrazingCount += 1\n",
    "                elif label == self.Inclusions:\n",
    "                            self.InclusionsCount += 1\n",
    "                elif label == self.Patches:\n",
    "                            self.PatchesCount += 1\n",
    "                elif label == self.PittedSurface:\n",
    "                            self.PittedSurfaceCount += 1\n",
    "                elif label == self.RolledInScale:\n",
    "                            self.RolledInScaleCount += 1\n",
    "                elif label == self.Scratches:\n",
    "                            self.ScratchesCount += 1\n",
    "    \n",
    "        \n",
    "        #Shuffling the data that will fill the training_data list\n",
    "        np.random.shuffle(self.training_data)\n",
    "        np.save(\"training_data.npy\", self.training_data)\n",
    "        print('Crazings:',self.CrazingCount)\n",
    "        print('Inclusions:',self.InclusionsCount)\n",
    "        print('Patches:',self.PatchesCount)\n",
    "        print('Pitted Surface:',self.PittedSurfaceCount)\n",
    "        print('Rolled In Scale:',self.RolledInScaleCount)\n",
    "        print('Scratches:',self.ScratchesCount)\n",
    "\n",
    "steeldefects = SteelDefects()\n",
    "steeldefects.associate_training_data()\n",
    "\n",
    "    "
   ]
  },
  {
   "cell_type": "markdown",
   "metadata": {},
   "source": [
    "We observe a perfect balance between classes (300 images per label). It is a necessary condition for our neural network model, which will then not be induced to choose an unbalanced category during its training."
   ]
  },
  {
   "cell_type": "code",
   "execution_count": 3,
   "metadata": {},
   "outputs": [
    {
     "name": "stdout",
     "output_type": "stream",
     "text": [
      "1800\n"
     ]
    }
   ],
   "source": [
    "#After setting REBUIlD_DATA to False, we store the training_data as an array in a npy file\n",
    "training_data = np.load(\"training_data.npy\", allow_pickle = True) \n",
    "#Lenght of our training_data\n",
    "print(len(training_data))"
   ]
  },
  {
   "cell_type": "markdown",
   "metadata": {},
   "source": [
    "Our sample has 1800 images (300*6 labels)"
   ]
  },
  {
   "cell_type": "code",
   "execution_count": 4,
   "metadata": {},
   "outputs": [
    {
     "name": "stdout",
     "output_type": "stream",
     "text": [
      "[array([[132, 120, 119, ..., 161, 157, 148],\n",
      "       [126, 128, 126, ..., 178, 177, 163],\n",
      "       [139, 133, 125, ..., 157, 161, 154],\n",
      "       ...,\n",
      "       [142, 144, 170, ..., 154, 159, 148],\n",
      "       [159, 141, 153, ..., 159, 167, 169],\n",
      "       [153, 156, 151, ..., 159, 148, 151]], dtype=uint8)\n",
      " array([0., 0., 0., 0., 1., 0.])]\n"
     ]
    }
   ],
   "source": [
    "#printing the pixel matrix and the class of the first image of our sample\n",
    "print(training_data[0])"
   ]
  },
  {
   "cell_type": "markdown",
   "metadata": {},
   "source": [
    "The one hot vector is pointing out the class of the first image of the sample.\n"
   ]
  },
  {
   "cell_type": "code",
   "execution_count": 5,
   "metadata": {},
   "outputs": [
    {
     "name": "stdout",
     "output_type": "stream",
     "text": [
      "Model(\n",
      "  (conv1): Conv2d(1, 32, kernel_size=(3, 3), stride=(1, 1))\n",
      "  (conv2): Conv2d(32, 64, kernel_size=(3, 3), stride=(1, 1))\n",
      "  (conv3): Conv2d(64, 128, kernel_size=(3, 3), stride=(1, 1))\n",
      "  (fc1): Linear(in_features=4608, out_features=576, bias=True)\n",
      "  (fc2): Linear(in_features=576, out_features=320, bias=True)\n",
      "  (fc3): Linear(in_features=320, out_features=6, bias=True)\n",
      ")\n"
     ]
    }
   ],
   "source": [
    "class Model(nn.Module):\n",
    "#Building of the model\n",
    "#We create a class, called Model, that will inherit methods from the nn.Module class\n",
    "    def __init__(self):\n",
    "        super().__init__() #The super() function returns an object that represents the parent class\n",
    "        self.conv1 = nn.Conv2d(1, 32, 3) \n",
    "        self.conv2 = nn.Conv2d(32, 64, 3) \n",
    "        self.conv3 = nn.Conv2d(64, 128, 3)\n",
    "\n",
    "        #Creating random data (x), pass it through CNN and reshaping it the right size for passing through the  linear neural network \n",
    "        x = torch.randn(200,200).view(-1,1,200,200)\n",
    "        self._to_linear = None\n",
    "        self.convs(x)\n",
    "      \n",
    "       # Now calling the initialization of the fully connected (fc) neurons network\n",
    "        self.fc1 = nn.Linear(self._to_linear, 576) \n",
    "        self.fc2 = nn.Linear(576, 320) \n",
    "        self.fc3 = nn.Linear(320, 6) #output size of 6 as we have 6 differents classes of defects\n",
    "\n",
    "#Defining the forward method ONLY for the CNN    \n",
    "    def convs(self, x): \n",
    "        x = F.max_pool2d(F.relu(self.conv1(x)), (3, 3)) #pooling with a 3*3 window\n",
    "        x = F.max_pool2d(F.relu(self.conv2(x)), (3, 3))\n",
    "        x = F.max_pool2d(F.relu(self.conv3(x)), (3, 3))\n",
    "\n",
    "        #Making sure that the data passing trough the CNN has the right size before the fc network\n",
    "        if self._to_linear is None:\n",
    "            self._to_linear = x[0].shape[0]*x[0].shape[1]*x[0].shape[2]\n",
    "        return x\n",
    "\n",
    "#Now defining the entire forward method for the WHOLE model (CNN and linear network)\n",
    "    def forward(self, x):\n",
    "        x = self.convs(x) #passing through the convolutional layers\n",
    "        x = x.view(-1, self._to_linear)  #shaping the data to be flattened\n",
    "        x = F.relu(self.fc1(x))\n",
    "        x = F.relu(self.fc2(x))\n",
    "        x = self.fc3(x)\n",
    "        return F.softmax(x, dim=1)\n",
    "\n",
    "\n",
    "model = Model()\n",
    "print(model)"
   ]
  },
  {
   "cell_type": "code",
   "execution_count": 6,
   "metadata": {},
   "outputs": [],
   "source": [
    "import torch.optim as optim\n",
    "#Adam Optimizer for a stochastic optimization (learning rate 1e-3)\n",
    "optimizer = optim.Adam(model.parameters(), lr=0.001)\n",
    "loss_function = nn.MSELoss()"
   ]
  },
  {
   "cell_type": "code",
   "execution_count": 7,
   "metadata": {},
   "outputs": [],
   "source": [
    "#Separating xs and ys from our data (xs are pixel values, y is the one hot vector)\n",
    "X = torch.Tensor([i[0] for i in training_data]).view(-1,200,200)\n",
    "X = X/255.0\n",
    "y = torch.Tensor([i[1] for i in training_data])"
   ]
  },
  {
   "cell_type": "code",
   "execution_count": 8,
   "metadata": {},
   "outputs": [
    {
     "name": "stdout",
     "output_type": "stream",
     "text": [
      "540\n"
     ]
    }
   ],
   "source": [
    "Val_percent = 0.3 # we save 30% of our data for testing\n",
    "val_size = int(len(X)*Val_percent)\n",
    "print(val_size)"
   ]
  },
  {
   "cell_type": "markdown",
   "metadata": {},
   "source": [
    "Our validation sample size is 540 images. "
   ]
  },
  {
   "cell_type": "code",
   "execution_count": 9,
   "metadata": {},
   "outputs": [
    {
     "name": "stdout",
     "output_type": "stream",
     "text": [
      "1260\n",
      "540\n"
     ]
    }
   ],
   "source": [
    "train_X = X[:-val_size]\n",
    "train_y = y[:-val_size]\n",
    "\n",
    "test_X = X[-val_size:]\n",
    "test_y = y[-val_size:]\n",
    "\n",
    "print(len(train_X))\n",
    "print(len(test_X))"
   ]
  },
  {
   "cell_type": "markdown",
   "metadata": {},
   "source": [
    "We are training our model on 1260 images and, as seen before, testing it on 540 pictures."
   ]
  },
  {
   "cell_type": "code",
   "execution_count": 10,
   "metadata": {
    "scrolled": true
   },
   "outputs": [
    {
     "name": "stderr",
     "output_type": "stream",
     "text": [
      "100%|██████████████████████████████████████████████████████████████████████████████████| 40/40 [01:52<00:00,  2.82s/it]\n",
      "  0%|                                                                                           | 0/40 [00:00<?, ?it/s]"
     ]
    },
    {
     "name": "stdout",
     "output_type": "stream",
     "text": [
      "Epoch: 0. Loss: 0.1562793254852295\n"
     ]
    },
    {
     "name": "stderr",
     "output_type": "stream",
     "text": [
      "100%|██████████████████████████████████████████████████████████████████████████████████| 40/40 [01:51<00:00,  2.79s/it]\n",
      "  0%|                                                                                           | 0/40 [00:00<?, ?it/s]"
     ]
    },
    {
     "name": "stdout",
     "output_type": "stream",
     "text": [
      "Epoch: 1. Loss: 0.11358287930488586\n"
     ]
    },
    {
     "name": "stderr",
     "output_type": "stream",
     "text": [
      "100%|██████████████████████████████████████████████████████████████████████████████████| 40/40 [01:55<00:00,  2.89s/it]\n",
      "  0%|                                                                                           | 0/40 [00:00<?, ?it/s]"
     ]
    },
    {
     "name": "stdout",
     "output_type": "stream",
     "text": [
      "Epoch: 2. Loss: 0.07440149784088135\n"
     ]
    },
    {
     "name": "stderr",
     "output_type": "stream",
     "text": [
      "100%|██████████████████████████████████████████████████████████████████████████████████| 40/40 [01:55<00:00,  2.90s/it]\n",
      "  0%|                                                                                           | 0/40 [00:00<?, ?it/s]"
     ]
    },
    {
     "name": "stdout",
     "output_type": "stream",
     "text": [
      "Epoch: 3. Loss: 0.06312646716833115\n"
     ]
    },
    {
     "name": "stderr",
     "output_type": "stream",
     "text": [
      "100%|██████████████████████████████████████████████████████████████████████████████████| 40/40 [01:52<00:00,  2.81s/it]\n",
      "  0%|                                                                                           | 0/40 [00:00<?, ?it/s]"
     ]
    },
    {
     "name": "stdout",
     "output_type": "stream",
     "text": [
      "Epoch: 4. Loss: 0.031805042177438736\n"
     ]
    },
    {
     "name": "stderr",
     "output_type": "stream",
     "text": [
      "100%|██████████████████████████████████████████████████████████████████████████████████| 40/40 [01:55<00:00,  2.88s/it]\n",
      "  0%|                                                                                           | 0/40 [00:00<?, ?it/s]"
     ]
    },
    {
     "name": "stdout",
     "output_type": "stream",
     "text": [
      "Epoch: 5. Loss: 0.0333588570356369\n"
     ]
    },
    {
     "name": "stderr",
     "output_type": "stream",
     "text": [
      "100%|██████████████████████████████████████████████████████████████████████████████████| 40/40 [01:57<00:00,  2.94s/it]\n",
      "  0%|                                                                                           | 0/40 [00:00<?, ?it/s]"
     ]
    },
    {
     "name": "stdout",
     "output_type": "stream",
     "text": [
      "Epoch: 6. Loss: 0.025439513847231865\n"
     ]
    },
    {
     "name": "stderr",
     "output_type": "stream",
     "text": [
      "100%|██████████████████████████████████████████████████████████████████████████████████| 40/40 [01:57<00:00,  2.93s/it]\n",
      "  0%|                                                                                           | 0/40 [00:00<?, ?it/s]"
     ]
    },
    {
     "name": "stdout",
     "output_type": "stream",
     "text": [
      "Epoch: 7. Loss: 0.032403185963630676\n"
     ]
    },
    {
     "name": "stderr",
     "output_type": "stream",
     "text": [
      "100%|██████████████████████████████████████████████████████████████████████████████████| 40/40 [01:59<00:00,  2.99s/it]\n",
      "  0%|                                                                                           | 0/40 [00:00<?, ?it/s]"
     ]
    },
    {
     "name": "stdout",
     "output_type": "stream",
     "text": [
      "Epoch: 8. Loss: 0.031079314649105072\n"
     ]
    },
    {
     "name": "stderr",
     "output_type": "stream",
     "text": [
      "100%|██████████████████████████████████████████████████████████████████████████████████| 40/40 [01:58<00:00,  2.97s/it]\n",
      "  0%|                                                                                           | 0/40 [00:00<?, ?it/s]"
     ]
    },
    {
     "name": "stdout",
     "output_type": "stream",
     "text": [
      "Epoch: 9. Loss: 0.028474221006035805\n"
     ]
    },
    {
     "name": "stderr",
     "output_type": "stream",
     "text": [
      "100%|██████████████████████████████████████████████████████████████████████████████████| 40/40 [01:57<00:00,  2.95s/it]\n",
      "  0%|                                                                                           | 0/40 [00:00<?, ?it/s]"
     ]
    },
    {
     "name": "stdout",
     "output_type": "stream",
     "text": [
      "Epoch: 10. Loss: 0.02782069705426693\n"
     ]
    },
    {
     "name": "stderr",
     "output_type": "stream",
     "text": [
      "100%|██████████████████████████████████████████████████████████████████████████████████| 40/40 [01:58<00:00,  2.95s/it]\n",
      "  0%|                                                                                           | 0/40 [00:00<?, ?it/s]"
     ]
    },
    {
     "name": "stdout",
     "output_type": "stream",
     "text": [
      "Epoch: 11. Loss: 0.02620222605764866\n"
     ]
    },
    {
     "name": "stderr",
     "output_type": "stream",
     "text": [
      "100%|██████████████████████████████████████████████████████████████████████████████████| 40/40 [01:57<00:00,  2.93s/it]\n",
      "  0%|                                                                                           | 0/40 [00:00<?, ?it/s]"
     ]
    },
    {
     "name": "stdout",
     "output_type": "stream",
     "text": [
      "Epoch: 12. Loss: 0.03357209265232086\n"
     ]
    },
    {
     "name": "stderr",
     "output_type": "stream",
     "text": [
      "100%|██████████████████████████████████████████████████████████████████████████████████| 40/40 [01:56<00:00,  2.92s/it]\n",
      "  0%|                                                                                           | 0/40 [00:00<?, ?it/s]"
     ]
    },
    {
     "name": "stdout",
     "output_type": "stream",
     "text": [
      "Epoch: 13. Loss: 0.030377903953194618\n"
     ]
    },
    {
     "name": "stderr",
     "output_type": "stream",
     "text": [
      "100%|██████████████████████████████████████████████████████████████████████████████████| 40/40 [02:20<00:00,  3.52s/it]"
     ]
    },
    {
     "name": "stdout",
     "output_type": "stream",
     "text": [
      "Epoch: 14. Loss: 0.02795458771288395\n"
     ]
    },
    {
     "name": "stderr",
     "output_type": "stream",
     "text": [
      "\n"
     ]
    }
   ],
   "source": [
    "#batch size = 32 and epochs = 15 for training\n",
    "BATCH_SIZE = 32\n",
    "EPOCHS = 15 #number of times we pass data through the model to evaluate it\n",
    "\n",
    "for epoch in range(EPOCHS):\n",
    "    for i in tqdm(range(0, len(train_X), BATCH_SIZE)): #From 0, with steps = 32, for the lenght of train_X(=1260)\n",
    "        batch_X = train_X[i:i+BATCH_SIZE].view(-1, 1, 200, 200)\n",
    "        batch_y = train_y[i:i+BATCH_SIZE]\n",
    "\n",
    "    \n",
    "        #Setting gradients to 0 before the loss calculation\n",
    "        optimizer.zero_grad()   \n",
    "        outputs = model(batch_X)\n",
    "        loss = loss_function(outputs, batch_y)\n",
    "        loss.backward()\n",
    "        optimizer.step()    #Optimizer adjust the weights to lower the loss over time (learning rate of 1e-3)\n",
    "\n",
    "    print(f\"Epoch: {epoch}. Loss: {loss}\")\n",
    "    \n"
   ]
  },
  {
   "cell_type": "code",
   "execution_count": 11,
   "metadata": {},
   "outputs": [
    {
     "name": "stderr",
     "output_type": "stream",
     "text": [
      "100%|████████████████████████████████████████████████████████████████████████████████| 540/540 [00:48<00:00, 11.22it/s]"
     ]
    },
    {
     "name": "stdout",
     "output_type": "stream",
     "text": [
      "Accuracy:  96.3 %\n"
     ]
    },
    {
     "name": "stderr",
     "output_type": "stream",
     "text": [
      "\n"
     ]
    }
   ],
   "source": [
    "#Testing the accuracy of the model's prediction\n",
    "correct = 0\n",
    "total = 0\n",
    "#Just evaluating our model accuracy without calculating gradients: using torch.no_grad()\n",
    "with torch.no_grad(): \n",
    "    for i in tqdm(range(len(test_X))):\n",
    "        real_class = torch.argmax(test_y[i])\n",
    "        model_out = model(test_X[i].view(-1, 1, 200, 200))[0] \n",
    "        predicted_class = torch.argmax(model_out)\n",
    "\n",
    "        if predicted_class == real_class:\n",
    "            correct += 1\n",
    "        total += 1\n",
    "print(\"Accuracy: \", round(correct/total*100, 2), \"%\")"
   ]
  },
  {
   "cell_type": "markdown",
   "metadata": {},
   "source": [
    "This neural network gives us a <b>96.3%</b> accuracy in predicting the right classes of the steel defects for the 540 tested pictures."
   ]
  },
  {
   "cell_type": "code",
   "execution_count": null,
   "metadata": {
    "id": "pPWzfGMSddXW"
   },
   "outputs": [],
   "source": []
  },
  {
   "cell_type": "code",
   "execution_count": null,
   "metadata": {
    "id": "FpkfCJ2WddXW"
   },
   "outputs": [],
   "source": []
  },
  {
   "cell_type": "code",
   "execution_count": null,
   "metadata": {
    "id": "l65A2hVGddXX"
   },
   "outputs": [],
   "source": []
  }
 ],
 "metadata": {
  "accelerator": "GPU",
  "colab": {
   "collapsed_sections": [],
   "name": "Notebook_Final_2.ipynb",
   "provenance": []
  },
  "kernelspec": {
   "display_name": "Python 3",
   "language": "python",
   "name": "python3"
  },
  "language_info": {
   "codemirror_mode": {
    "name": "ipython",
    "version": 3
   },
   "file_extension": ".py",
   "mimetype": "text/x-python",
   "name": "python",
   "nbconvert_exporter": "python",
   "pygments_lexer": "ipython3",
   "version": "3.8.3"
  },
  "widgets": {
   "application/vnd.jupyter.widget-state+json": {
    "16505e6a267342ce955fae6dd021d0a5": {
     "model_module": "@jupyter-widgets/controls",
     "model_name": "ProgressStyleModel",
     "state": {
      "_model_module": "@jupyter-widgets/controls",
      "_model_module_version": "1.5.0",
      "_model_name": "ProgressStyleModel",
      "_view_count": null,
      "_view_module": "@jupyter-widgets/base",
      "_view_module_version": "1.2.0",
      "_view_name": "StyleView",
      "bar_color": null,
      "description_width": "initial"
     }
    },
    "213b817b3c6645c892e41b70f8f68364": {
     "model_module": "@jupyter-widgets/controls",
     "model_name": "ProgressStyleModel",
     "state": {
      "_model_module": "@jupyter-widgets/controls",
      "_model_module_version": "1.5.0",
      "_model_name": "ProgressStyleModel",
      "_view_count": null,
      "_view_module": "@jupyter-widgets/base",
      "_view_module_version": "1.2.0",
      "_view_name": "StyleView",
      "bar_color": null,
      "description_width": "initial"
     }
    },
    "295aa6dcb0e545c69124922c2efd6e0e": {
     "model_module": "@jupyter-widgets/base",
     "model_name": "LayoutModel",
     "state": {
      "_model_module": "@jupyter-widgets/base",
      "_model_module_version": "1.2.0",
      "_model_name": "LayoutModel",
      "_view_count": null,
      "_view_module": "@jupyter-widgets/base",
      "_view_module_version": "1.2.0",
      "_view_name": "LayoutView",
      "align_content": null,
      "align_items": null,
      "align_self": null,
      "border": null,
      "bottom": null,
      "display": null,
      "flex": null,
      "flex_flow": null,
      "grid_area": null,
      "grid_auto_columns": null,
      "grid_auto_flow": null,
      "grid_auto_rows": null,
      "grid_column": null,
      "grid_gap": null,
      "grid_row": null,
      "grid_template_areas": null,
      "grid_template_columns": null,
      "grid_template_rows": null,
      "height": null,
      "justify_content": null,
      "justify_items": null,
      "left": null,
      "margin": null,
      "max_height": null,
      "max_width": null,
      "min_height": null,
      "min_width": null,
      "object_fit": null,
      "object_position": null,
      "order": null,
      "overflow": null,
      "overflow_x": null,
      "overflow_y": null,
      "padding": null,
      "right": null,
      "top": null,
      "visibility": null,
      "width": null
     }
    },
    "42f7310fef2f4517b988526e1b1e0af5": {
     "model_module": "@jupyter-widgets/base",
     "model_name": "LayoutModel",
     "state": {
      "_model_module": "@jupyter-widgets/base",
      "_model_module_version": "1.2.0",
      "_model_name": "LayoutModel",
      "_view_count": null,
      "_view_module": "@jupyter-widgets/base",
      "_view_module_version": "1.2.0",
      "_view_name": "LayoutView",
      "align_content": null,
      "align_items": null,
      "align_self": null,
      "border": null,
      "bottom": null,
      "display": null,
      "flex": null,
      "flex_flow": null,
      "grid_area": null,
      "grid_auto_columns": null,
      "grid_auto_flow": null,
      "grid_auto_rows": null,
      "grid_column": null,
      "grid_gap": null,
      "grid_row": null,
      "grid_template_areas": null,
      "grid_template_columns": null,
      "grid_template_rows": null,
      "height": null,
      "justify_content": null,
      "justify_items": null,
      "left": null,
      "margin": null,
      "max_height": null,
      "max_width": null,
      "min_height": null,
      "min_width": null,
      "object_fit": null,
      "object_position": null,
      "order": null,
      "overflow": null,
      "overflow_x": null,
      "overflow_y": null,
      "padding": null,
      "right": null,
      "top": null,
      "visibility": null,
      "width": null
     }
    },
    "434673d977ed40cc8ec88d70cb9b1249": {
     "model_module": "@jupyter-widgets/controls",
     "model_name": "HTMLModel",
     "state": {
      "_dom_classes": [],
      "_model_module": "@jupyter-widgets/controls",
      "_model_module_version": "1.5.0",
      "_model_name": "HTMLModel",
      "_view_count": null,
      "_view_module": "@jupyter-widgets/controls",
      "_view_module_version": "1.5.0",
      "_view_name": "HTMLView",
      "description": "",
      "description_tooltip": null,
      "layout": "IPY_MODEL_9d0ddad2289a40fd8702717d101a7acd",
      "placeholder": "​",
      "style": "IPY_MODEL_b1542b09f3f2454594757283b9e32a01",
      "value": " 97.8M/97.8M [17:32&lt;00:00, 97.4kB/s]"
     }
    },
    "47d8baac4228401d98d8e3af32c648d6": {
     "model_module": "@jupyter-widgets/controls",
     "model_name": "FloatProgressModel",
     "state": {
      "_dom_classes": [],
      "_model_module": "@jupyter-widgets/controls",
      "_model_module_version": "1.5.0",
      "_model_name": "FloatProgressModel",
      "_view_count": null,
      "_view_module": "@jupyter-widgets/controls",
      "_view_module_version": "1.5.0",
      "_view_name": "ProgressView",
      "bar_style": "success",
      "description": "100%",
      "description_tooltip": null,
      "layout": "IPY_MODEL_86a0a2e0f97044cbac1b043a016274e7",
      "max": 46827520,
      "min": 0,
      "orientation": "horizontal",
      "style": "IPY_MODEL_213b817b3c6645c892e41b70f8f68364",
      "value": 46827520
     }
    },
    "4de5b53d4b344f4c96b4a6404a7b3170": {
     "model_module": "@jupyter-widgets/controls",
     "model_name": "HBoxModel",
     "state": {
      "_dom_classes": [],
      "_model_module": "@jupyter-widgets/controls",
      "_model_module_version": "1.5.0",
      "_model_name": "HBoxModel",
      "_view_count": null,
      "_view_module": "@jupyter-widgets/controls",
      "_view_module_version": "1.5.0",
      "_view_name": "HBoxView",
      "box_style": "",
      "children": [
       "IPY_MODEL_47d8baac4228401d98d8e3af32c648d6",
       "IPY_MODEL_897c20ef26ec4d938e61226463197aab"
      ],
      "layout": "IPY_MODEL_42f7310fef2f4517b988526e1b1e0af5"
     }
    },
    "543e6772d59142ff9a5e5ac2e2849022": {
     "model_module": "@jupyter-widgets/base",
     "model_name": "LayoutModel",
     "state": {
      "_model_module": "@jupyter-widgets/base",
      "_model_module_version": "1.2.0",
      "_model_name": "LayoutModel",
      "_view_count": null,
      "_view_module": "@jupyter-widgets/base",
      "_view_module_version": "1.2.0",
      "_view_name": "LayoutView",
      "align_content": null,
      "align_items": null,
      "align_self": null,
      "border": null,
      "bottom": null,
      "display": null,
      "flex": null,
      "flex_flow": null,
      "grid_area": null,
      "grid_auto_columns": null,
      "grid_auto_flow": null,
      "grid_auto_rows": null,
      "grid_column": null,
      "grid_gap": null,
      "grid_row": null,
      "grid_template_areas": null,
      "grid_template_columns": null,
      "grid_template_rows": null,
      "height": null,
      "justify_content": null,
      "justify_items": null,
      "left": null,
      "margin": null,
      "max_height": null,
      "max_width": null,
      "min_height": null,
      "min_width": null,
      "object_fit": null,
      "object_position": null,
      "order": null,
      "overflow": null,
      "overflow_x": null,
      "overflow_y": null,
      "padding": null,
      "right": null,
      "top": null,
      "visibility": null,
      "width": null
     }
    },
    "543f3a904a40465a90fce237d2c9add1": {
     "model_module": "@jupyter-widgets/base",
     "model_name": "LayoutModel",
     "state": {
      "_model_module": "@jupyter-widgets/base",
      "_model_module_version": "1.2.0",
      "_model_name": "LayoutModel",
      "_view_count": null,
      "_view_module": "@jupyter-widgets/base",
      "_view_module_version": "1.2.0",
      "_view_name": "LayoutView",
      "align_content": null,
      "align_items": null,
      "align_self": null,
      "border": null,
      "bottom": null,
      "display": null,
      "flex": null,
      "flex_flow": null,
      "grid_area": null,
      "grid_auto_columns": null,
      "grid_auto_flow": null,
      "grid_auto_rows": null,
      "grid_column": null,
      "grid_gap": null,
      "grid_row": null,
      "grid_template_areas": null,
      "grid_template_columns": null,
      "grid_template_rows": null,
      "height": null,
      "justify_content": null,
      "justify_items": null,
      "left": null,
      "margin": null,
      "max_height": null,
      "max_width": null,
      "min_height": null,
      "min_width": null,
      "object_fit": null,
      "object_position": null,
      "order": null,
      "overflow": null,
      "overflow_x": null,
      "overflow_y": null,
      "padding": null,
      "right": null,
      "top": null,
      "visibility": null,
      "width": null
     }
    },
    "5fed0dd7d3ea462a9a64079fc7bab4df": {
     "model_module": "@jupyter-widgets/controls",
     "model_name": "HTMLModel",
     "state": {
      "_dom_classes": [],
      "_model_module": "@jupyter-widgets/controls",
      "_model_module_version": "1.5.0",
      "_model_name": "HTMLModel",
      "_view_count": null,
      "_view_module": "@jupyter-widgets/controls",
      "_view_module_version": "1.5.0",
      "_view_name": "HTMLView",
      "description": "",
      "description_tooltip": null,
      "layout": "IPY_MODEL_689502b218884cefbef466b22ca1bcb6",
      "placeholder": "​",
      "style": "IPY_MODEL_fe30d1fc8e954223b93ad145322adbb1",
      "value": " 507M/507M [00:07&lt;00:00, 66.7MB/s]"
     }
    },
    "689502b218884cefbef466b22ca1bcb6": {
     "model_module": "@jupyter-widgets/base",
     "model_name": "LayoutModel",
     "state": {
      "_model_module": "@jupyter-widgets/base",
      "_model_module_version": "1.2.0",
      "_model_name": "LayoutModel",
      "_view_count": null,
      "_view_module": "@jupyter-widgets/base",
      "_view_module_version": "1.2.0",
      "_view_name": "LayoutView",
      "align_content": null,
      "align_items": null,
      "align_self": null,
      "border": null,
      "bottom": null,
      "display": null,
      "flex": null,
      "flex_flow": null,
      "grid_area": null,
      "grid_auto_columns": null,
      "grid_auto_flow": null,
      "grid_auto_rows": null,
      "grid_column": null,
      "grid_gap": null,
      "grid_row": null,
      "grid_template_areas": null,
      "grid_template_columns": null,
      "grid_template_rows": null,
      "height": null,
      "justify_content": null,
      "justify_items": null,
      "left": null,
      "margin": null,
      "max_height": null,
      "max_width": null,
      "min_height": null,
      "min_width": null,
      "object_fit": null,
      "object_position": null,
      "order": null,
      "overflow": null,
      "overflow_x": null,
      "overflow_y": null,
      "padding": null,
      "right": null,
      "top": null,
      "visibility": null,
      "width": null
     }
    },
    "7758c615f77a40ac8cf8b45f77b2c896": {
     "model_module": "@jupyter-widgets/controls",
     "model_name": "FloatProgressModel",
     "state": {
      "_dom_classes": [],
      "_model_module": "@jupyter-widgets/controls",
      "_model_module_version": "1.5.0",
      "_model_name": "FloatProgressModel",
      "_view_count": null,
      "_view_module": "@jupyter-widgets/controls",
      "_view_module_version": "1.5.0",
      "_view_name": "ProgressView",
      "bar_style": "success",
      "description": "100%",
      "description_tooltip": null,
      "layout": "IPY_MODEL_295aa6dcb0e545c69124922c2efd6e0e",
      "max": 531503671,
      "min": 0,
      "orientation": "horizontal",
      "style": "IPY_MODEL_832ce302ae134ff68a74d9767a7bd42c",
      "value": 531503671
     }
    },
    "7de506e0dca54854a325115b84f4d3fb": {
     "model_module": "@jupyter-widgets/base",
     "model_name": "LayoutModel",
     "state": {
      "_model_module": "@jupyter-widgets/base",
      "_model_module_version": "1.2.0",
      "_model_name": "LayoutModel",
      "_view_count": null,
      "_view_module": "@jupyter-widgets/base",
      "_view_module_version": "1.2.0",
      "_view_name": "LayoutView",
      "align_content": null,
      "align_items": null,
      "align_self": null,
      "border": null,
      "bottom": null,
      "display": null,
      "flex": null,
      "flex_flow": null,
      "grid_area": null,
      "grid_auto_columns": null,
      "grid_auto_flow": null,
      "grid_auto_rows": null,
      "grid_column": null,
      "grid_gap": null,
      "grid_row": null,
      "grid_template_areas": null,
      "grid_template_columns": null,
      "grid_template_rows": null,
      "height": null,
      "justify_content": null,
      "justify_items": null,
      "left": null,
      "margin": null,
      "max_height": null,
      "max_width": null,
      "min_height": null,
      "min_width": null,
      "object_fit": null,
      "object_position": null,
      "order": null,
      "overflow": null,
      "overflow_x": null,
      "overflow_y": null,
      "padding": null,
      "right": null,
      "top": null,
      "visibility": null,
      "width": null
     }
    },
    "832ce302ae134ff68a74d9767a7bd42c": {
     "model_module": "@jupyter-widgets/controls",
     "model_name": "ProgressStyleModel",
     "state": {
      "_model_module": "@jupyter-widgets/controls",
      "_model_module_version": "1.5.0",
      "_model_name": "ProgressStyleModel",
      "_view_count": null,
      "_view_module": "@jupyter-widgets/base",
      "_view_module_version": "1.2.0",
      "_view_name": "StyleView",
      "bar_color": null,
      "description_width": "initial"
     }
    },
    "86a0a2e0f97044cbac1b043a016274e7": {
     "model_module": "@jupyter-widgets/base",
     "model_name": "LayoutModel",
     "state": {
      "_model_module": "@jupyter-widgets/base",
      "_model_module_version": "1.2.0",
      "_model_name": "LayoutModel",
      "_view_count": null,
      "_view_module": "@jupyter-widgets/base",
      "_view_module_version": "1.2.0",
      "_view_name": "LayoutView",
      "align_content": null,
      "align_items": null,
      "align_self": null,
      "border": null,
      "bottom": null,
      "display": null,
      "flex": null,
      "flex_flow": null,
      "grid_area": null,
      "grid_auto_columns": null,
      "grid_auto_flow": null,
      "grid_auto_rows": null,
      "grid_column": null,
      "grid_gap": null,
      "grid_row": null,
      "grid_template_areas": null,
      "grid_template_columns": null,
      "grid_template_rows": null,
      "height": null,
      "justify_content": null,
      "justify_items": null,
      "left": null,
      "margin": null,
      "max_height": null,
      "max_width": null,
      "min_height": null,
      "min_width": null,
      "object_fit": null,
      "object_position": null,
      "order": null,
      "overflow": null,
      "overflow_x": null,
      "overflow_y": null,
      "padding": null,
      "right": null,
      "top": null,
      "visibility": null,
      "width": null
     }
    },
    "897c20ef26ec4d938e61226463197aab": {
     "model_module": "@jupyter-widgets/controls",
     "model_name": "HTMLModel",
     "state": {
      "_dom_classes": [],
      "_model_module": "@jupyter-widgets/controls",
      "_model_module_version": "1.5.0",
      "_model_name": "HTMLModel",
      "_view_count": null,
      "_view_module": "@jupyter-widgets/controls",
      "_view_module_version": "1.5.0",
      "_view_name": "HTMLView",
      "description": "",
      "description_tooltip": null,
      "layout": "IPY_MODEL_543e6772d59142ff9a5e5ac2e2849022",
      "placeholder": "​",
      "style": "IPY_MODEL_d67110bc1516404f844b677259c068e7",
      "value": " 44.7M/44.7M [00:00&lt;00:00, 165MB/s]"
     }
    },
    "949cbe3a45024469afd2ce937a8b0a74": {
     "model_module": "@jupyter-widgets/controls",
     "model_name": "FloatProgressModel",
     "state": {
      "_dom_classes": [],
      "_model_module": "@jupyter-widgets/controls",
      "_model_module_version": "1.5.0",
      "_model_name": "FloatProgressModel",
      "_view_count": null,
      "_view_module": "@jupyter-widgets/controls",
      "_view_module_version": "1.5.0",
      "_view_name": "ProgressView",
      "bar_style": "success",
      "description": "100%",
      "description_tooltip": null,
      "layout": "IPY_MODEL_b6bf9121cdee42a2a2dee28815d2236b",
      "max": 102502400,
      "min": 0,
      "orientation": "horizontal",
      "style": "IPY_MODEL_16505e6a267342ce955fae6dd021d0a5",
      "value": 102502400
     }
    },
    "9d0ddad2289a40fd8702717d101a7acd": {
     "model_module": "@jupyter-widgets/base",
     "model_name": "LayoutModel",
     "state": {
      "_model_module": "@jupyter-widgets/base",
      "_model_module_version": "1.2.0",
      "_model_name": "LayoutModel",
      "_view_count": null,
      "_view_module": "@jupyter-widgets/base",
      "_view_module_version": "1.2.0",
      "_view_name": "LayoutView",
      "align_content": null,
      "align_items": null,
      "align_self": null,
      "border": null,
      "bottom": null,
      "display": null,
      "flex": null,
      "flex_flow": null,
      "grid_area": null,
      "grid_auto_columns": null,
      "grid_auto_flow": null,
      "grid_auto_rows": null,
      "grid_column": null,
      "grid_gap": null,
      "grid_row": null,
      "grid_template_areas": null,
      "grid_template_columns": null,
      "grid_template_rows": null,
      "height": null,
      "justify_content": null,
      "justify_items": null,
      "left": null,
      "margin": null,
      "max_height": null,
      "max_width": null,
      "min_height": null,
      "min_width": null,
      "object_fit": null,
      "object_position": null,
      "order": null,
      "overflow": null,
      "overflow_x": null,
      "overflow_y": null,
      "padding": null,
      "right": null,
      "top": null,
      "visibility": null,
      "width": null
     }
    },
    "a2345fca8d4f4410ae7296dcbbe04edc": {
     "model_module": "@jupyter-widgets/controls",
     "model_name": "HBoxModel",
     "state": {
      "_dom_classes": [],
      "_model_module": "@jupyter-widgets/controls",
      "_model_module_version": "1.5.0",
      "_model_name": "HBoxModel",
      "_view_count": null,
      "_view_module": "@jupyter-widgets/controls",
      "_view_module_version": "1.5.0",
      "_view_name": "HBoxView",
      "box_style": "",
      "children": [
       "IPY_MODEL_7758c615f77a40ac8cf8b45f77b2c896",
       "IPY_MODEL_5fed0dd7d3ea462a9a64079fc7bab4df"
      ],
      "layout": "IPY_MODEL_543f3a904a40465a90fce237d2c9add1"
     }
    },
    "b1542b09f3f2454594757283b9e32a01": {
     "model_module": "@jupyter-widgets/controls",
     "model_name": "DescriptionStyleModel",
     "state": {
      "_model_module": "@jupyter-widgets/controls",
      "_model_module_version": "1.5.0",
      "_model_name": "DescriptionStyleModel",
      "_view_count": null,
      "_view_module": "@jupyter-widgets/base",
      "_view_module_version": "1.2.0",
      "_view_name": "StyleView",
      "description_width": ""
     }
    },
    "b6bf9121cdee42a2a2dee28815d2236b": {
     "model_module": "@jupyter-widgets/base",
     "model_name": "LayoutModel",
     "state": {
      "_model_module": "@jupyter-widgets/base",
      "_model_module_version": "1.2.0",
      "_model_name": "LayoutModel",
      "_view_count": null,
      "_view_module": "@jupyter-widgets/base",
      "_view_module_version": "1.2.0",
      "_view_name": "LayoutView",
      "align_content": null,
      "align_items": null,
      "align_self": null,
      "border": null,
      "bottom": null,
      "display": null,
      "flex": null,
      "flex_flow": null,
      "grid_area": null,
      "grid_auto_columns": null,
      "grid_auto_flow": null,
      "grid_auto_rows": null,
      "grid_column": null,
      "grid_gap": null,
      "grid_row": null,
      "grid_template_areas": null,
      "grid_template_columns": null,
      "grid_template_rows": null,
      "height": null,
      "justify_content": null,
      "justify_items": null,
      "left": null,
      "margin": null,
      "max_height": null,
      "max_width": null,
      "min_height": null,
      "min_width": null,
      "object_fit": null,
      "object_position": null,
      "order": null,
      "overflow": null,
      "overflow_x": null,
      "overflow_y": null,
      "padding": null,
      "right": null,
      "top": null,
      "visibility": null,
      "width": null
     }
    },
    "bb1b69d4161841ebb4706b7456ad8a99": {
     "model_module": "@jupyter-widgets/controls",
     "model_name": "HBoxModel",
     "state": {
      "_dom_classes": [],
      "_model_module": "@jupyter-widgets/controls",
      "_model_module_version": "1.5.0",
      "_model_name": "HBoxModel",
      "_view_count": null,
      "_view_module": "@jupyter-widgets/controls",
      "_view_module_version": "1.5.0",
      "_view_name": "HBoxView",
      "box_style": "",
      "children": [
       "IPY_MODEL_949cbe3a45024469afd2ce937a8b0a74",
       "IPY_MODEL_434673d977ed40cc8ec88d70cb9b1249"
      ],
      "layout": "IPY_MODEL_7de506e0dca54854a325115b84f4d3fb"
     }
    },
    "d67110bc1516404f844b677259c068e7": {
     "model_module": "@jupyter-widgets/controls",
     "model_name": "DescriptionStyleModel",
     "state": {
      "_model_module": "@jupyter-widgets/controls",
      "_model_module_version": "1.5.0",
      "_model_name": "DescriptionStyleModel",
      "_view_count": null,
      "_view_module": "@jupyter-widgets/base",
      "_view_module_version": "1.2.0",
      "_view_name": "StyleView",
      "description_width": ""
     }
    },
    "fe30d1fc8e954223b93ad145322adbb1": {
     "model_module": "@jupyter-widgets/controls",
     "model_name": "DescriptionStyleModel",
     "state": {
      "_model_module": "@jupyter-widgets/controls",
      "_model_module_version": "1.5.0",
      "_model_name": "DescriptionStyleModel",
      "_view_count": null,
      "_view_module": "@jupyter-widgets/base",
      "_view_module_version": "1.2.0",
      "_view_name": "StyleView",
      "description_width": ""
     }
    }
   }
  }
 },
 "nbformat": 4,
 "nbformat_minor": 1
}
